{
 "cells": [
  {
   "cell_type": "markdown",
   "metadata": {},
   "source": [
    "<h1>Import libs + env</h1>"
   ]
  },
  {
   "cell_type": "code",
   "execution_count": 1,
   "metadata": {},
   "outputs": [],
   "source": [
    "from pyspark.sql import SparkSession\n",
    "from pyspark.sql.functions import col\n",
    "from pyspark.sql.functions import when\n",
    "import pyspark.sql.functions as sf\n",
    "import os\n",
    "from datetime import datetime"
   ]
  },
  {
   "cell_type": "code",
   "execution_count": 2,
   "metadata": {},
   "outputs": [
    {
     "name": "stderr",
     "output_type": "stream",
     "text": [
      "Setting default log level to \"WARN\".\n",
      "To adjust logging level use sc.setLogLevel(newLevel). For SparkR, use setLogLevel(newLevel).\n",
      "23/10/25 09:16:02 WARN NativeCodeLoader: Unable to load native-hadoop library for your platform... using builtin-java classes where applicable\n"
     ]
    },
    {
     "name": "stderr",
     "output_type": "stream",
     "text": [
      "23/10/25 09:16:21 WARN GarbageCollectionMetrics: To enable non-built-in garbage collector(s) List(G1 Concurrent GC), users should configure it(them) to spark.eventLog.gcMetrics.youngGenerationGarbageCollectors or spark.eventLog.gcMetrics.oldGenerationGarbageCollectors\n"
     ]
    }
   ],
   "source": [
    "spark = SparkSession.builder.config(\"spark.driver.memory\", \"8g\").config(\"spark.executor.cores\",8).getOrCreate()"
   ]
  },
  {
   "cell_type": "markdown",
   "metadata": {},
   "source": [
    "<h1>Method 1: Đọc dữ liệu của 30 file , sau đó mới tính toán </h1>"
   ]
  },
  {
   "cell_type": "code",
   "execution_count": 4,
   "metadata": {},
   "outputs": [],
   "source": [
    "def etl_1_day(path ,file_name):\n",
    "    df = spark.read.json(path+file_name)\n",
    "    df = df.select('_source.*')\n",
    "    df = df.withColumn(\"Type\",\n",
    "           when((col(\"AppName\") == 'CHANNEL') | (col(\"AppName\") =='DSHD')| (col(\"AppName\") =='KPLUS')| (col(\"AppName\") =='KPlus'), \"Truyền Hình\")\n",
    "        .when((col(\"AppName\") == 'VOD') | (col(\"AppName\") =='FIMS_RES')| (col(\"AppName\") =='BHD_RES')| \n",
    "              (col(\"AppName\") =='VOD_RES')| (col(\"AppName\") =='FIMS')| (col(\"AppName\") =='BHD')| (col(\"AppName\") =='DANET'), \"Phim Truyện\")\n",
    "        .when((col(\"AppName\") == 'RELAX'), \"Giải Trí\")\n",
    "        .when((col(\"AppName\") == 'CHILD'), \"Thiếu Nhi\")\n",
    "        .when((col(\"AppName\") == 'SPORT'), \"Thể Thao\")\n",
    "        .otherwise(\"Error\"))\n",
    "    df = df.select('Contract','Type','TotalDuration')\n",
    "    df = df.filter(df.Type != 'Error')\n",
    "    print('Finished Processing {}'.format(file_name))\n",
    "    return df"
   ]
  },
  {
   "cell_type": "code",
   "execution_count": 5,
   "metadata": {},
   "outputs": [],
   "source": [
    "start_time = datetime.now()"
   ]
  },
  {
   "cell_type": "code",
   "execution_count": 27,
   "metadata": {},
   "outputs": [],
   "source": [
    "path = '/Users/habaokhanh/Study_BigData_Dataset/log_content/'\n",
    "\n",
    "def clean_files(path):\n",
    "    list_file = sorted(os.listdir(path))\n",
    "    if '.DS_Store' in list_file:\n",
    "        os.remove(os.path.join(path, '.DS_Store'))\n",
    "    return list_file\n",
    "\n",
    "list_file=clean_files(path)\n",
    "file_name=list_file[0]"
   ]
  },
  {
   "cell_type": "code",
   "execution_count": 29,
   "metadata": {},
   "outputs": [
    {
     "data": {
      "text/plain": [
       "['20220401.json',\n",
       " '20220402.json',\n",
       " '20220403.json',\n",
       " '20220404.json',\n",
       " '20220405.json',\n",
       " '20220406.json',\n",
       " '20220407.json',\n",
       " '20220408.json',\n",
       " '20220409.json',\n",
       " '20220410.json',\n",
       " '20220411.json',\n",
       " '20220412.json',\n",
       " '20220413.json',\n",
       " '20220414.json',\n",
       " '20220415.json',\n",
       " '20220416.json',\n",
       " '20220417.json',\n",
       " '20220418.json',\n",
       " '20220419.json',\n",
       " '20220420.json',\n",
       " '20220421.json',\n",
       " '20220422.json',\n",
       " '20220423.json',\n",
       " '20220424.json',\n",
       " '20220425.json',\n",
       " '20220426.json',\n",
       " '20220427.json',\n",
       " '20220428.json',\n",
       " '20220429.json',\n",
       " '20220430.json']"
      ]
     },
     "execution_count": 29,
     "metadata": {},
     "output_type": "execute_result"
    }
   ],
   "source": [
    "list_file"
   ]
  },
  {
   "cell_type": "code",
   "execution_count": 28,
   "metadata": {},
   "outputs": [
    {
     "data": {
      "text/plain": [
       "'20220401.json'"
      ]
     },
     "execution_count": 28,
     "metadata": {},
     "output_type": "execute_result"
    }
   ],
   "source": [
    "file_name"
   ]
  },
  {
   "cell_type": "code",
   "execution_count": 30,
   "metadata": {},
   "outputs": [
    {
     "name": "stderr",
     "output_type": "stream",
     "text": [
      "[Stage 0:>                                                          (0 + 8) / 8]\r"
     ]
    },
    {
     "name": "stdout",
     "output_type": "stream",
     "text": [
      "Finished Processing 20220401.json\n"
     ]
    },
    {
     "name": "stderr",
     "output_type": "stream",
     "text": [
      "                                                                                \r"
     ]
    },
    {
     "data": {
      "text/plain": [
       "DataFrame[Contract: string, Type: string, TotalDuration: bigint]"
      ]
     },
     "execution_count": 30,
     "metadata": {},
     "output_type": "execute_result"
    }
   ],
   "source": [
    "result1 = etl_1_day(path ,file_name)\n",
    "result1"
   ]
  },
  {
   "cell_type": "code",
   "execution_count": 32,
   "metadata": {},
   "outputs": [
    {
     "data": {
      "text/plain": [
       "pyspark.sql.dataframe.DataFrame"
      ]
     },
     "execution_count": 32,
     "metadata": {},
     "output_type": "execute_result"
    }
   ],
   "source": [
    "type(result1)"
   ]
  },
  {
   "cell_type": "code",
   "execution_count": 33,
   "metadata": {},
   "outputs": [
    {
     "name": "stdout",
     "output_type": "stream",
     "text": [
      "+---------+-----------+-------------+\n",
      "| Contract|       Type|TotalDuration|\n",
      "+---------+-----------+-------------+\n",
      "|HNH579912|Truyền Hình|          254|\n",
      "|HUFD40665|Truyền Hình|         1457|\n",
      "|HNH572635|Truyền Hình|         2318|\n",
      "|HND141717|Truyền Hình|         1452|\n",
      "|HNH743103|Truyền Hình|          251|\n",
      "|HNH893773|Truyền Hình|          924|\n",
      "|HND083642|Truyền Hình|         1444|\n",
      "|DNFD74404|Truyền Hình|          691|\n",
      "|DTFD21200|Truyền Hình|         1436|\n",
      "|LDFD05747|Truyền Hình|         1434|\n",
      "+---------+-----------+-------------+\n",
      "only showing top 10 rows\n",
      "\n"
     ]
    }
   ],
   "source": [
    "result1.show(10)"
   ]
  },
  {
   "cell_type": "markdown",
   "metadata": {},
   "source": [
    "<h2>Test function</h2>"
   ]
  },
  {
   "cell_type": "code",
   "execution_count": 35,
   "metadata": {},
   "outputs": [
    {
     "name": "stderr",
     "output_type": "stream",
     "text": [
      "                                                                                \r"
     ]
    },
    {
     "name": "stdout",
     "output_type": "stream",
     "text": [
      "Finished Processing 20220402.json\n",
      "Finished Processing 20220403.json\n",
      "Finished Processing 20220404.json\n",
      "Finished Processing 20220405.json\n",
      "Finished Processing 20220406.json\n",
      "Finished Processing 20220407.json\n",
      "Finished Processing 20220408.json\n",
      "Finished Processing 20220409.json\n",
      "Finished Processing 20220410.json\n",
      "Finished Processing 20220411.json\n",
      "Finished Processing 20220412.json\n",
      "Finished Processing 20220413.json\n",
      "Finished Processing 20220414.json\n",
      "Finished Processing 20220415.json\n",
      "Finished Processing 20220416.json\n",
      "Finished Processing 20220417.json\n",
      "Finished Processing 20220418.json\n",
      "Finished Processing 20220419.json\n",
      "Finished Processing 20220420.json\n",
      "Finished Processing 20220421.json\n",
      "Finished Processing 20220422.json\n",
      "Finished Processing 20220423.json\n",
      "Finished Processing 20220424.json\n",
      "Finished Processing 20220425.json\n",
      "Finished Processing 20220426.json\n",
      "Finished Processing 20220427.json\n",
      "Finished Processing 20220428.json\n",
      "Finished Processing 20220429.json\n",
      "Finished Processing 20220430.json\n",
      "+---------+-----------+-------------+\n",
      "| Contract|       Type|TotalDuration|\n",
      "+---------+-----------+-------------+\n",
      "|HNH579912|Truyền Hình|          254|\n",
      "|HUFD40665|Truyền Hình|         1457|\n",
      "|HNH572635|Truyền Hình|         2318|\n",
      "|HND141717|Truyền Hình|         1452|\n",
      "|HNH743103|Truyền Hình|          251|\n",
      "|HNH893773|Truyền Hình|          924|\n",
      "|HND083642|Truyền Hình|         1444|\n",
      "|DNFD74404|Truyền Hình|          691|\n",
      "|DTFD21200|Truyền Hình|         1436|\n",
      "|LDFD05747|Truyền Hình|         1434|\n",
      "|HNH063566|Truyền Hình|          687|\n",
      "|HNH866786|Truyền Hình|          248|\n",
      "|NBAAA1128|Truyền Hình|          247|\n",
      "|HNH960439|Truyền Hình|          683|\n",
      "|HNJ035736|Truyền Hình|          246|\n",
      "|NTFD93673|Truyền Hình|         2288|\n",
      "|HNJ063267|Truyền Hình|         2282|\n",
      "|HNH790383|Truyền Hình|          906|\n",
      "|THFD12466|Truyền Hình|          242|\n",
      "|HNH566080|Truyền Hình|          242|\n",
      "+---------+-----------+-------------+\n",
      "only showing top 20 rows\n",
      "\n"
     ]
    }
   ],
   "source": [
    "for i in list_file[1:]:\n",
    "    file_name2 = i \n",
    "    result2 = etl_1_day(path ,file_name2)\n",
    "    result1 = result1.union(result2)\n",
    "    result1 = result1.cache()\n",
    "\n",
    "result1.show()"
   ]
  },
  {
   "cell_type": "code",
   "execution_count": 36,
   "metadata": {},
   "outputs": [
    {
     "name": "stdout",
     "output_type": "stream",
     "text": [
      "+---------+-----------+-------------+\n",
      "| Contract|       Type|TotalDuration|\n",
      "+---------+-----------+-------------+\n",
      "|HNH579912|Truyền Hình|          254|\n",
      "|HUFD40665|Truyền Hình|         1457|\n",
      "|HNH572635|Truyền Hình|         2318|\n",
      "|HND141717|Truyền Hình|         1452|\n",
      "|HNH743103|Truyền Hình|          251|\n",
      "|HNH893773|Truyền Hình|          924|\n",
      "|HND083642|Truyền Hình|         1444|\n",
      "|DNFD74404|Truyền Hình|          691|\n",
      "|DTFD21200|Truyền Hình|         1436|\n",
      "|LDFD05747|Truyền Hình|         1434|\n",
      "|HNH063566|Truyền Hình|          687|\n",
      "|HNH866786|Truyền Hình|          248|\n",
      "|NBAAA1128|Truyền Hình|          247|\n",
      "|HNH960439|Truyền Hình|          683|\n",
      "|HNJ035736|Truyền Hình|          246|\n",
      "|NTFD93673|Truyền Hình|         2288|\n",
      "|HNJ063267|Truyền Hình|         2282|\n",
      "|HNH790383|Truyền Hình|          906|\n",
      "|THFD12466|Truyền Hình|          242|\n",
      "|HNH566080|Truyền Hình|          242|\n",
      "+---------+-----------+-------------+\n",
      "only showing top 20 rows\n",
      "\n"
     ]
    }
   ],
   "source": [
    "result1.show()"
   ]
  },
  {
   "cell_type": "code",
   "execution_count": 37,
   "metadata": {},
   "outputs": [
    {
     "name": "stderr",
     "output_type": "stream",
     "text": [
      "[Stage 35:>                                                         (0 + 1) / 1]\r"
     ]
    },
    {
     "name": "stdout",
     "output_type": "stream",
     "text": [
      "+---------+-----------+------------------+\n",
      "| Contract|       Type|sum(TotalDuration)|\n",
      "+---------+-----------+------------------+\n",
      "|DNH014998|Phim Truyện|            112733|\n",
      "|HND486882|Phim Truyện|             67217|\n",
      "|HUFD07189|Truyền Hình|             49687|\n",
      "|HDFD36288|Truyền Hình|            184878|\n",
      "|CTFD04401|Truyền Hình|           1398087|\n",
      "|HNH954607|Phim Truyện|             15972|\n",
      "|HNH855959|Truyền Hình|            171875|\n",
      "|SGH034683|Truyền Hình|            623300|\n",
      "|NTFD35330|Truyền Hình|            179719|\n",
      "|NTFD48198|Phim Truyện|            187513|\n",
      "|HNH443856|Truyền Hình|            240305|\n",
      "|NAFD05338|Truyền Hình|           2181980|\n",
      "|LCFD20510|Phim Truyện|             54075|\n",
      "|QNFD29007|Truyền Hình|           1948926|\n",
      "|SGH569599|Truyền Hình|            458407|\n",
      "|SGH701752|Truyền Hình|            638470|\n",
      "|HNH712164|Phim Truyện|             29025|\n",
      "|PYFD01920|Truyền Hình|           1417476|\n",
      "|HTFD13716|Truyền Hình|            134921|\n",
      "|SGJ039473|Truyền Hình|            311834|\n",
      "+---------+-----------+------------------+\n",
      "only showing top 20 rows\n",
      "\n"
     ]
    },
    {
     "name": "stderr",
     "output_type": "stream",
     "text": [
      "                                                                                \r"
     ]
    }
   ],
   "source": [
    "result1 = result1.groupby('Contract','Type').sum()\n",
    "result1.show()"
   ]
  },
  {
   "cell_type": "code",
   "execution_count": 38,
   "metadata": {},
   "outputs": [
    {
     "name": "stderr",
     "output_type": "stream",
     "text": [
      "[Stage 38:>                                                         (0 + 1) / 1]\r"
     ]
    },
    {
     "name": "stdout",
     "output_type": "stream",
     "text": [
      "+---------+-----------+-------------+\n",
      "| Contract|       Type|TotalDuration|\n",
      "+---------+-----------+-------------+\n",
      "|DNH014998|Phim Truyện|       112733|\n",
      "|HND486882|Phim Truyện|        67217|\n",
      "|HUFD07189|Truyền Hình|        49687|\n",
      "|HDFD36288|Truyền Hình|       184878|\n",
      "|CTFD04401|Truyền Hình|      1398087|\n",
      "|HNH954607|Phim Truyện|        15972|\n",
      "|HNH855959|Truyền Hình|       171875|\n",
      "|SGH034683|Truyền Hình|       623300|\n",
      "|NTFD35330|Truyền Hình|       179719|\n",
      "|NTFD48198|Phim Truyện|       187513|\n",
      "|HNH443856|Truyền Hình|       240305|\n",
      "|NAFD05338|Truyền Hình|      2181980|\n",
      "|LCFD20510|Phim Truyện|        54075|\n",
      "|QNFD29007|Truyền Hình|      1948926|\n",
      "|SGH569599|Truyền Hình|       458407|\n",
      "|SGH701752|Truyền Hình|       638470|\n",
      "|HNH712164|Phim Truyện|        29025|\n",
      "|PYFD01920|Truyền Hình|      1417476|\n",
      "|HTFD13716|Truyền Hình|       134921|\n",
      "|SGJ039473|Truyền Hình|       311834|\n",
      "+---------+-----------+-------------+\n",
      "only showing top 20 rows\n",
      "\n"
     ]
    },
    {
     "name": "stderr",
     "output_type": "stream",
     "text": [
      "                                                                                \r"
     ]
    }
   ],
   "source": [
    "result1 = result1.withColumnRenamed('sum(TotalDuration)','TotalDuration')\n",
    "result1.show()"
   ]
  },
  {
   "cell_type": "code",
   "execution_count": 39,
   "metadata": {},
   "outputs": [
    {
     "name": "stderr",
     "output_type": "stream",
     "text": [
      "[Stage 49:==============================================>         (10 + 2) / 12]\r"
     ]
    },
    {
     "name": "stdout",
     "output_type": "stream",
     "text": [
      "+---------+--------+-----------+---------+--------+-----------+\n",
      "| Contract|Giải Trí|Phim Truyện|Thiếu Nhi|Thể Thao|Truyền Hình|\n",
      "+---------+--------+-----------+---------+--------+-----------+\n",
      "|HTFD11598|    null|      15551|     null|    null|      42919|\n",
      "|HPFD48556|      69|       null|     null|    null|    1468328|\n",
      "|NBFD10014|    null|       null|     null|    null|    1596494|\n",
      "|HNH619088|    null|      77275|    11361|    null|     917930|\n",
      "|HNH036174|    null|      62674|     null|    null|     354879|\n",
      "|DNH067877|    null|       null|     null|    null|     181308|\n",
      "|SGH806190|    null|       null|     null|    null|     217779|\n",
      "|HNH582022|    null|       null|     null|    null|    2209949|\n",
      "|HNH795510|    null|      30197|      265|    null|    1196936|\n",
      "|DNFD91557|    null|       null|     null|    null|      95567|\n",
      "|SGH266908|    null|       null|     1636|    null|     112771|\n",
      "|HNJ102653|    null|       null|     null|    null|     166767|\n",
      "|HDFD42710|    null|       null|     null|    null|     494456|\n",
      "|SGH674576|    null|       5437|     null|    null|     364296|\n",
      "|DNH034235|    null|       null|     null|    null|     139582|\n",
      "|NDFD32943|    null|       null|     1077|    null|     188793|\n",
      "|TNFD30439|    null|       null|     null|    null|      48193|\n",
      "|DNH083321|    null|       null|     null|    null|      86343|\n",
      "|SGH446342|    null|       null|     null|    null|     502707|\n",
      "|DLFD14250|    null|      29144|     null|    null|     391492|\n",
      "+---------+--------+-----------+---------+--------+-----------+\n",
      "only showing top 20 rows\n",
      "\n"
     ]
    },
    {
     "name": "stderr",
     "output_type": "stream",
     "text": [
      "                                                                                \r"
     ]
    }
   ],
   "source": [
    "final = result1.groupBy(\"Contract\").pivot(\"Type\").sum(\"TotalDuration\")\n",
    "final.show()"
   ]
  },
  {
   "cell_type": "code",
   "execution_count": 41,
   "metadata": {},
   "outputs": [],
   "source": [
    "end_time = datetime.now()\n",
    "time_processing = (end_time - start_time).total_seconds()"
   ]
  },
  {
   "cell_type": "code",
   "execution_count": 43,
   "metadata": {},
   "outputs": [
    {
     "name": "stdout",
     "output_type": "stream",
     "text": [
      "It took 1851.011467 to process the data\n"
     ]
    }
   ],
   "source": [
    "print('It took {} to process the data'.format(time_processing))"
   ]
  },
  {
   "cell_type": "markdown",
   "metadata": {},
   "source": [
    "<h1>Method 2: Đọc và xử lý từng file , sau đó gộp tất cả kết quả lại và group by sum </h1>"
   ]
  },
  {
   "cell_type": "code",
   "execution_count": 44,
   "metadata": {},
   "outputs": [],
   "source": [
    "def etl_1_day(path ,file_name):\n",
    "    df = spark.read.json(path+file_name)\n",
    "    df = df.select('_source.*')\n",
    "    df = df.withColumn(\"Type\",\n",
    "            when((col(\"AppName\") == 'CHANNEL') | (col(\"AppName\") =='DSHD')| (col(\"AppName\") =='KPLUS')| (col(\"AppName\") =='KPlus'), \"Truyền Hình\")\n",
    "        .when((col(\"AppName\") == 'VOD') | (col(\"AppName\") =='FIMS_RES')| (col(\"AppName\") =='BHD_RES')| \n",
    "              (col(\"AppName\") =='VOD_RES')| (col(\"AppName\") =='FIMS')| (col(\"AppName\") =='BHD')| (col(\"AppName\") =='DANET'), \"Phim Truyện\")\n",
    "        .when((col(\"AppName\") == 'RELAX'), \"Giải Trí\")\n",
    "        .when((col(\"AppName\") == 'CHILD'), \"Thiếu Nhi\")\n",
    "        .when((col(\"AppName\") == 'SPORT'), \"Thể Thao\")\n",
    "        .otherwise(\"Error\"))\n",
    "    df = df.select('Contract','Type','TotalDuration')\n",
    "    df = df.filter(df.Type != 'Error')\n",
    "    df = df.groupBy('Contract','Type').sum()\n",
    "    df = df.withColumnRenamed('sum(TotalDuration)','TotalDuration')\n",
    "    result = df.groupBy(\"Contract\").pivot(\"Type\").sum(\"TotalDuration\")\n",
    "    print('Finished Processing {}'.format(file_name))\n",
    "    return result\n",
    "    "
   ]
  },
  {
   "cell_type": "code",
   "execution_count": 45,
   "metadata": {},
   "outputs": [
    {
     "name": "stdout",
     "output_type": "stream",
     "text": [
      "Finished Processing 20220401.json\n"
     ]
    }
   ],
   "source": [
    "df_test = etl_1_day(path, file_name)"
   ]
  },
  {
   "cell_type": "code",
   "execution_count": 46,
   "metadata": {},
   "outputs": [
    {
     "name": "stderr",
     "output_type": "stream",
     "text": [
      "[Stage 64:>                                                         (0 + 8) / 8]\r"
     ]
    },
    {
     "name": "stdout",
     "output_type": "stream",
     "text": [
      "+---------+--------+-----------+---------+--------+-----------+\n",
      "| Contract|Giải Trí|Phim Truyện|Thiếu Nhi|Thể Thao|Truyền Hình|\n",
      "+---------+--------+-----------+---------+--------+-----------+\n",
      "|HTFD11598|    null|       2884|     null|    null|        707|\n",
      "|HPFD48556|      69|       null|     null|    null|      92976|\n",
      "|NBFD10014|    null|       null|     null|    null|      84628|\n",
      "|HNH619088|    null|       8456|      234|    null|      65210|\n",
      "|HNH036174|    null|       null|     null|    null|       6049|\n",
      "|DNH067877|    null|       null|     null|    null|       5760|\n",
      "|SGH806190|    null|       null|     null|    null|       1131|\n",
      "|HNH582022|    null|       null|     null|    null|      86400|\n",
      "|HNH795510|    null|       5840|     null|    null|      68589|\n",
      "|DNFD91557|    null|       null|     null|    null|       1640|\n",
      "|SGH266908|    null|       null|     null|    null|        731|\n",
      "|HNJ102653|    null|       null|     null|    null|       4586|\n",
      "|HDFD42710|    null|       null|     null|    null|      12096|\n",
      "|SGH674576|    null|       1535|     null|    null|       9910|\n",
      "|DNH034235|    null|       null|     null|    null|        318|\n",
      "|NDFD32943|    null|       null|     null|    null|       6269|\n",
      "|TNFD30439|    null|       null|     null|    null|       5238|\n",
      "|DNH083321|    null|       null|     null|    null|       1020|\n",
      "|SGH446342|    null|       null|     null|    null|      11428|\n",
      "|DLFD14250|    null|       4436|     null|    null|      12374|\n",
      "+---------+--------+-----------+---------+--------+-----------+\n",
      "only showing top 20 rows\n",
      "\n"
     ]
    },
    {
     "name": "stderr",
     "output_type": "stream",
     "text": [
      "                                                                                \r"
     ]
    }
   ],
   "source": [
    "df_test.show()"
   ]
  },
  {
   "cell_type": "markdown",
   "metadata": {},
   "source": [
    "<h2>Test function</h2>"
   ]
  },
  {
   "cell_type": "code",
   "execution_count": 49,
   "metadata": {},
   "outputs": [
    {
     "name": "stdout",
     "output_type": "stream",
     "text": [
      "Finished Processing 20220401.json\n",
      "Finished Processing 20220402.json\n",
      "Finished Processing 20220403.json\n",
      "Finished Processing 20220404.json\n",
      "Finished Processing 20220405.json\n",
      "Finished Processing 20220406.json\n",
      "Finished Processing 20220407.json\n",
      "Finished Processing 20220408.json\n",
      "Finished Processing 20220409.json\n",
      "Finished Processing 20220410.json\n",
      "Finished Processing 20220411.json\n",
      "Finished Processing 20220412.json\n",
      "Finished Processing 20220413.json\n",
      "Finished Processing 20220414.json\n",
      "Finished Processing 20220415.json\n",
      "Finished Processing 20220416.json\n",
      "Finished Processing 20220417.json\n",
      "Finished Processing 20220418.json\n",
      "Finished Processing 20220419.json\n",
      "Finished Processing 20220420.json\n",
      "Finished Processing 20220421.json\n",
      "Finished Processing 20220422.json\n",
      "Finished Processing 20220423.json\n",
      "Finished Processing 20220424.json\n",
      "Finished Processing 20220425.json\n",
      "Finished Processing 20220426.json\n",
      "Finished Processing 20220427.json\n",
      "Finished Processing 20220428.json\n",
      "Finished Processing 20220429.json\n",
      "Finished Processing 20220430.json\n"
     ]
    },
    {
     "name": "stderr",
     "output_type": "stream",
     "text": [
      "23/10/25 09:57:57 WARN DAGScheduler: Broadcasting large task binary with size 1261.4 KiB\n"
     ]
    },
    {
     "name": "stdout",
     "output_type": "stream",
     "text": [
      "+---------+--------+-----------+---------+--------+-----------+\n",
      "| Contract|Giải Trí|Phim Truyện|Thiếu Nhi|Thể Thao|Truyền Hình|\n",
      "+---------+--------+-----------+---------+--------+-----------+\n",
      "|HTFD11598|    null|       2884|     null|    null|        707|\n",
      "|HPFD48556|      69|       null|     null|    null|      92976|\n",
      "|NBFD10014|    null|       null|     null|    null|      84628|\n",
      "|HNH619088|    null|       8456|      234|    null|      65210|\n",
      "|HNH036174|    null|       null|     null|    null|       6049|\n",
      "|DNH067877|    null|       null|     null|    null|       5760|\n",
      "|SGH806190|    null|       null|     null|    null|       1131|\n",
      "|HNH582022|    null|       null|     null|    null|      86400|\n",
      "|HNH795510|    null|       5840|     null|    null|      68589|\n",
      "|DNFD91557|    null|       null|     null|    null|       1640|\n",
      "|SGH266908|    null|       null|     null|    null|        731|\n",
      "|HNJ102653|    null|       null|     null|    null|       4586|\n",
      "|HDFD42710|    null|       null|     null|    null|      12096|\n",
      "|SGH674576|    null|       1535|     null|    null|       9910|\n",
      "|DNH034235|    null|       null|     null|    null|        318|\n",
      "|NDFD32943|    null|       null|     null|    null|       6269|\n",
      "|TNFD30439|    null|       null|     null|    null|       5238|\n",
      "|DNH083321|    null|       null|     null|    null|       1020|\n",
      "|SGH446342|    null|       null|     null|    null|      11428|\n",
      "|DLFD14250|    null|       4436|     null|    null|      12374|\n",
      "+---------+--------+-----------+---------+--------+-----------+\n",
      "only showing top 20 rows\n",
      "\n"
     ]
    },
    {
     "name": "stderr",
     "output_type": "stream",
     "text": [
      "                                                                                \r"
     ]
    }
   ],
   "source": [
    "result1 = etl_1_day(path ,file_name)\n",
    "for i in list_file[1:]:\n",
    "    file_name2 = i \n",
    "    result2 = etl_1_day(path ,file_name2)\n",
    "    result1 = result1.union(result2)\n",
    "\n",
    "result1.show()"
   ]
  },
  {
   "cell_type": "code",
   "execution_count": 50,
   "metadata": {},
   "outputs": [
    {
     "name": "stderr",
     "output_type": "stream",
     "text": [
      "23/10/25 10:00:35 WARN DAGScheduler: Broadcasting large task binary with size 1309.5 KiB\n",
      "23/10/25 10:00:44 WARN DAGScheduler: Broadcasting large task binary with size 1215.0 KiB\n",
      "[Stage 707:>                                                        (0 + 1) / 1]\r"
     ]
    },
    {
     "name": "stdout",
     "output_type": "stream",
     "text": [
      "+---------+-------------+-------------+-------------+-------------+----------+\n",
      "| Contract|RelaxDuration|MovieDuration|ChildDuration|SportDuration|TVDuration|\n",
      "+---------+-------------+-------------+-------------+-------------+----------+\n",
      "|HTFD11598|         null|        15551|         null|         null|     42919|\n",
      "|HPFD48556|           69|         null|         null|         null|   1468328|\n",
      "|NBFD10014|         null|         null|         null|         null|   1596494|\n",
      "|HNH619088|         null|        77275|        11361|         null|    917930|\n",
      "|HNH036174|         null|        62674|         null|         null|    354879|\n",
      "|DNH067877|         null|         null|         null|         null|    181308|\n",
      "|SGH806190|         null|         null|         null|         null|    217779|\n",
      "|HNH582022|         null|         null|         null|         null|   2209949|\n",
      "|HNH795510|         null|        30197|          265|         null|   1196936|\n",
      "|DNFD91557|         null|         null|         null|         null|     95567|\n",
      "|SGH266908|         null|         null|         1636|         null|    112771|\n",
      "|HNJ102653|         null|         null|         null|         null|    166767|\n",
      "|HDFD42710|         null|         null|         null|         null|    494456|\n",
      "|SGH674576|         null|         5437|         null|         null|    364296|\n",
      "|DNH034235|         null|         null|         null|         null|    139582|\n",
      "|NDFD32943|         null|         null|         1077|         null|    188793|\n",
      "|TNFD30439|         null|         null|         null|         null|     48193|\n",
      "|DNH083321|         null|         null|         null|         null|     86343|\n",
      "|SGH446342|         null|         null|         null|         null|    502707|\n",
      "|DLFD14250|         null|        29144|         null|         null|    391492|\n",
      "+---------+-------------+-------------+-------------+-------------+----------+\n",
      "only showing top 20 rows\n",
      "\n"
     ]
    },
    {
     "name": "stderr",
     "output_type": "stream",
     "text": [
      "                                                                                \r"
     ]
    }
   ],
   "source": [
    "result1 = result1.groupby('Contract').sum()\n",
    "result1 = result1.withColumnRenamed('sum(Giải Trí)','RelaxDuration').\\\n",
    "    withColumnRenamed('sum(Phim Truyện)','MovieDuration').\\\n",
    "        withColumnRenamed('sum(Thiếu Nhi)','ChildDuration').\\\n",
    "            withColumnRenamed('sum(Thể Thao)','SportDuration').\\\n",
    "                withColumnRenamed('sum(Truyền Hình)','TVDuration')\n",
    "\n",
    "result1.show()"
   ]
  }
 ],
 "metadata": {
  "kernelspec": {
   "display_name": "Python 3",
   "language": "python",
   "name": "python3"
  },
  "language_info": {
   "codemirror_mode": {
    "name": "ipython",
    "version": 3
   },
   "file_extension": ".py",
   "mimetype": "text/x-python",
   "name": "python",
   "nbconvert_exporter": "python",
   "pygments_lexer": "ipython3",
   "version": "3.10.7"
  }
 },
 "nbformat": 4,
 "nbformat_minor": 2
}
