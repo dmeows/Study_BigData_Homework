{
 "cells": [
  {
   "cell_type": "code",
   "execution_count": 1,
   "metadata": {},
   "outputs": [],
   "source": [
    "from pyspark.sql import SparkSession\n",
    "from pyspark.sql.window import Window\n",
    "from pyspark.sql.functions import col, when\n",
    "from pyspark.sql.functions import row_number, desc\n",
    "import pyspark.sql.functions as sf\n",
    "\n",
    "from datetime import datetime\n",
    "import os"
   ]
  },
  {
   "cell_type": "code",
   "execution_count": 2,
   "metadata": {},
   "outputs": [
    {
     "name": "stderr",
     "output_type": "stream",
     "text": [
      "23/11/07 22:13:00 WARN Utils: Your hostname, MacBook-Air.local resolves to a loopback address: 127.0.0.1; using 192.168.1.9 instead (on interface en0)\n",
      "23/11/07 22:13:00 WARN Utils: Set SPARK_LOCAL_IP if you need to bind to another address\n",
      "Setting default log level to \"WARN\".\n",
      "To adjust logging level use sc.setLogLevel(newLevel). For SparkR, use setLogLevel(newLevel).\n",
      "23/11/07 22:13:00 WARN NativeCodeLoader: Unable to load native-hadoop library for your platform... using builtin-java classes where applicable\n"
     ]
    },
    {
     "name": "stderr",
     "output_type": "stream",
     "text": [
      "23/11/07 22:13:15 WARN GarbageCollectionMetrics: To enable non-built-in garbage collector(s) List(G1 Concurrent GC), users should configure it(them) to spark.eventLog.gcMetrics.youngGenerationGarbageCollectors or spark.eventLog.gcMetrics.oldGenerationGarbageCollectors\n"
     ]
    }
   ],
   "source": [
    "spark = SparkSession.builder.config(\"spark.driver.memory\", \"8g\").config(\"spark.executor.cores\",8).getOrCreate()"
   ]
  },
  {
   "cell_type": "code",
   "execution_count": 3,
   "metadata": {},
   "outputs": [],
   "source": [
    "def etl_process(path, file_name, file_date):\n",
    "    spark = SparkSession.builder.config(\"spark.driver.memory\", \"8g\").config(\"spark.executor.cores\",8).getOrCreate()\n",
    "    \n",
    "    \n",
    "    df = spark.read.json(path+file_name)\n",
    "    df = df.select('_source.*')\n",
    "    \n",
    "    df = df.withColumn(\"Type\",\n",
    "           when((col(\"AppName\") == 'CHANNEL') | (col(\"AppName\") =='DSHD')| (col(\"AppName\") =='KPLUS')| (col(\"AppName\") =='KPlus'), \"Truyền Hình\")\n",
    "        .when((col(\"AppName\") == 'VOD') | (col(\"AppName\") =='FIMS_RES')| (col(\"AppName\") =='BHD_RES')| \n",
    "              (col(\"AppName\") =='VOD_RES')| (col(\"AppName\") =='FIMS')| (col(\"AppName\") =='BHD')| (col(\"AppName\") =='DANET'), \"Phim Truyện\")\n",
    "        .when((col(\"AppName\") == 'RELAX'), \"Giải Trí\")\n",
    "        .when((col(\"AppName\") == 'CHILD'), \"Thiếu Nhi\")\n",
    "        .when((col(\"AppName\") == 'SPORT'), \"Thể Thao\")\n",
    "        .otherwise(\"Error\"))\n",
    "    \n",
    "    df = df.withColumn(\"Date\", sf.lit(file_date))\n",
    "    df = df.select('Contract','Type','TotalDuration', 'Date')\n",
    "    df = df.filter(df.Type != 'Error')\n",
    "    \n",
    "    print('Finished Processing {}'.format(file_name))\n",
    "    return df"
   ]
  },
  {
   "cell_type": "code",
   "execution_count": 4,
   "metadata": {},
   "outputs": [],
   "source": [
    "path = '/Users/habaokhanh/Study_BigData_Dataset/log_content/'\n",
    "list_file = sorted([file for file in os.listdir(path) if file != '.DS_Store'])"
   ]
  },
  {
   "cell_type": "code",
   "execution_count": 5,
   "metadata": {},
   "outputs": [],
   "source": [
    "start_date_str = '20220401'\n",
    "end_date_str = '20220430'"
   ]
  },
  {
   "cell_type": "code",
   "execution_count": 6,
   "metadata": {},
   "outputs": [],
   "source": [
    "file_name = \"20220401.json\"\n",
    "date_str = file_name.split('_')[-1].split('.')[0]\n",
    "file_date = datetime.strptime(date_str, \"%Y%m%d\").date()"
   ]
  },
  {
   "cell_type": "code",
   "execution_count": 7,
   "metadata": {},
   "outputs": [
    {
     "name": "stderr",
     "output_type": "stream",
     "text": [
      "[Stage 0:>                                                          (0 + 8) / 8]\r"
     ]
    },
    {
     "name": "stdout",
     "output_type": "stream",
     "text": [
      "Finished Processing 20220401.json\n"
     ]
    },
    {
     "name": "stderr",
     "output_type": "stream",
     "text": [
      "                                                                                \r"
     ]
    }
   ],
   "source": [
    "test = etl_process(path, file_name, file_date)"
   ]
  },
  {
   "cell_type": "code",
   "execution_count": 8,
   "metadata": {},
   "outputs": [
    {
     "data": {
      "text/plain": [
       "datetime.date(2022, 4, 1)"
      ]
     },
     "execution_count": 8,
     "metadata": {},
     "output_type": "execute_result"
    }
   ],
   "source": [
    "file_date"
   ]
  },
  {
   "cell_type": "code",
   "execution_count": 77,
   "metadata": {},
   "outputs": [
    {
     "name": "stdout",
     "output_type": "stream",
     "text": [
      "Finished Processing 20220401.json\n",
      "Finished Processing 20220402.json\n",
      "Finished Processing 20220403.json\n",
      "Finished Processing 20220404.json\n",
      "Finished Processing 20220405.json\n",
      "Finished Processing 20220406.json\n",
      "Finished Processing 20220407.json\n",
      "Finished Processing 20220408.json\n",
      "Finished Processing 20220409.json\n",
      "Finished Processing 20220410.json\n",
      "Finished Processing 20220411.json\n",
      "Finished Processing 20220412.json\n",
      "Finished Processing 20220413.json\n",
      "Finished Processing 20220414.json\n",
      "Finished Processing 20220415.json\n",
      "Finished Processing 20220416.json\n",
      "Finished Processing 20220417.json\n",
      "Finished Processing 20220418.json\n",
      "Finished Processing 20220419.json\n",
      "Finished Processing 20220420.json\n",
      "Finished Processing 20220421.json\n",
      "Finished Processing 20220422.json\n",
      "Finished Processing 20220423.json\n",
      "Finished Processing 20220424.json\n",
      "Finished Processing 20220425.json\n",
      "Finished Processing 20220426.json\n",
      "Finished Processing 20220427.json\n",
      "Finished Processing 20220428.json\n",
      "Finished Processing 20220429.json\n",
      "Finished Processing 20220430.json\n"
     ]
    },
    {
     "name": "stderr",
     "output_type": "stream",
     "text": [
      "                                                                                \r"
     ]
    }
   ],
   "source": [
    "result = None\n",
    "for file_name in list_file:\n",
    "    date_str = file_name.split('_')[-1].split('.')[0]\n",
    "    file_date = datetime.strptime(date_str, \"%Y%m%d\").date()\n",
    "    \n",
    "    start_date = datetime.strptime(start_date_str, \"%Y%m%d\").date()\n",
    "    end_date = datetime.strptime(end_date_str, \"%Y%m%d\").date()\n",
    "    if start_date <= file_date <= end_date:\n",
    "        df = etl_process(path, file_name, file_date)\n",
    "        if result is None:\n",
    "            result = df\n",
    "        else:\n",
    "            result = result.union(df)\n",
    "            \n",
    "result_group = result.groupby('Contract','Type','Date').sum()\n",
    "result_group = result_group.withColumnRenamed('sum(TotalDuration)','TotalDuration')\n",
    "final = result_group.groupBy('Contract','Date').pivot(\"Type\").sum('TotalDuration')\n",
    "final = final.withColumnRenamed('Giải Trí', 'RelaxDuration') \\\n",
    "    .withColumnRenamed('Phim Truyện', 'MovieDuration') \\\n",
    "    .withColumnRenamed('Thiếu Nhi', 'ChildDuration') \\\n",
    "    .withColumnRenamed('Thể Thao', 'SportDuration') \\\n",
    "    .withColumnRenamed('Truyền Hình', 'TVDuration')"
   ]
  },
  {
   "cell_type": "code",
   "execution_count": 33,
   "metadata": {},
   "outputs": [
    {
     "name": "stdout",
     "output_type": "stream",
     "text": [
      "root\n",
      " |-- Contract: string (nullable = true)\n",
      " |-- RelaxDuration: long (nullable = true)\n",
      " |-- MovieDuration: long (nullable = true)\n",
      " |-- ChildDuration: long (nullable = true)\n",
      " |-- SportDuration: long (nullable = true)\n",
      " |-- TVDuration: long (nullable = true)\n",
      "\n"
     ]
    }
   ],
   "source": [
    "final.printSchema()"
   ]
  },
  {
   "cell_type": "markdown",
   "metadata": {},
   "source": [
    "calculate most_watch"
   ]
  },
  {
   "cell_type": "code",
   "execution_count": 37,
   "metadata": {},
   "outputs": [
    {
     "name": "stderr",
     "output_type": "stream",
     "text": [
      "[Stage 213:>                                                        (0 + 1) / 1]\r"
     ]
    },
    {
     "name": "stdout",
     "output_type": "stream",
     "text": [
      "+---------+-----------+-------------+\n",
      "| Contract|       Type|TotalDuration|\n",
      "+---------+-----------+-------------+\n",
      "|DNH014998|Phim Truyện|       112733|\n",
      "|HND486882|Phim Truyện|        67217|\n",
      "|HUFD07189|Truyền Hình|        49687|\n",
      "|HDFD36288|Truyền Hình|       184878|\n",
      "|CTFD04401|Truyền Hình|      1398087|\n",
      "|HNH954607|Phim Truyện|        15972|\n",
      "|HNH855959|Truyền Hình|       171875|\n",
      "|SGH034683|Truyền Hình|       623300|\n",
      "|NTFD35330|Truyền Hình|       179719|\n",
      "|NTFD48198|Phim Truyện|       187513|\n",
      "+---------+-----------+-------------+\n",
      "only showing top 10 rows\n",
      "\n"
     ]
    },
    {
     "name": "stderr",
     "output_type": "stream",
     "text": [
      "                                                                                \r"
     ]
    }
   ],
   "source": [
    "result_group.show(10)"
   ]
  },
  {
   "cell_type": "code",
   "execution_count": 20,
   "metadata": {},
   "outputs": [
    {
     "name": "stderr",
     "output_type": "stream",
     "text": [
      "[Stage 68:>                                                         (0 + 1) / 1]\r"
     ]
    },
    {
     "name": "stdout",
     "output_type": "stream",
     "text": [
      "+--------------+-----------+\n",
      "|      Contract|  MostWatch|\n",
      "+--------------+-----------+\n",
      "|113.182.209.48|   Giải Trí|\n",
      "|14.182.110.125|Truyền Hình|\n",
      "|     AGAAA0338|Truyền Hình|\n",
      "|     AGAAA0342|Truyền Hình|\n",
      "|     AGAAA0346|Truyền Hình|\n",
      "|     AGAAA0353|Truyền Hình|\n",
      "|     AGAAA0391|Truyền Hình|\n",
      "|     AGAAA0452|Truyền Hình|\n",
      "|     AGAAA0550|Truyền Hình|\n",
      "|     AGAAA0593|Truyền Hình|\n",
      "|     AGAAA0613|Truyền Hình|\n",
      "|     AGAAA0638|Truyền Hình|\n",
      "|     AGAAA0663|Truyền Hình|\n",
      "|     AGAAA0692|Truyền Hình|\n",
      "|     AGAAA0693|Truyền Hình|\n",
      "|     AGAAA0718|Truyền Hình|\n",
      "|     AGAAA0723|Truyền Hình|\n",
      "|     AGAAA0729|Truyền Hình|\n",
      "|     AGAAA0732|Truyền Hình|\n",
      "|     AGAAA0737|Truyền Hình|\n",
      "+--------------+-----------+\n",
      "only showing top 20 rows\n",
      "\n"
     ]
    },
    {
     "name": "stderr",
     "output_type": "stream",
     "text": [
      "                                                                                \r"
     ]
    }
   ],
   "source": [
    "windowSpec = Window.partitionBy(\"Contract\").orderBy(desc(\"TotalDuration\"))\n",
    "mostWatch = result_group.withColumn(\"rank\",row_number().over(windowSpec))\n",
    "mostWatch = mostWatch.filter(mostWatch.rank==1)\n",
    "mostWatch = mostWatch.select(\"Contract\", \"Type\")\n",
    "mostWatch = mostWatch.withColumnRenamed(\"Type\",\"MostWatch\")\n",
    "mostWatch.show()"
   ]
  },
  {
   "cell_type": "code",
   "execution_count": 38,
   "metadata": {},
   "outputs": [],
   "source": [
    "def most_watch_calc(result):\n",
    "    windowSpec = Window.partitionBy(\"Contract\").orderBy(desc(\"TotalDuration\"))\n",
    "    most_watch = result_group.withColumn(\"rank\",row_number().over(windowSpec))\n",
    "    most_watch = most_watch.filter(most_watch.rank==1)\n",
    "    most_watch = most_watch.select(\"Contract\", \"Type\")\n",
    "    most_watch = most_watch.withColumnRenamed(\"Type\",\"MostWatch\")\n",
    "    return most_watch"
   ]
  },
  {
   "cell_type": "markdown",
   "metadata": {},
   "source": [
    "calculate customer taste"
   ]
  },
  {
   "cell_type": "code",
   "execution_count": 24,
   "metadata": {},
   "outputs": [
    {
     "name": "stdout",
     "output_type": "stream",
     "text": [
      "root\n",
      " |-- Contract: string (nullable = true)\n",
      " |-- Date: date (nullable = false)\n",
      " |-- RelaxDuration: long (nullable = true)\n",
      " |-- MovieDuration: long (nullable = true)\n",
      " |-- ChildDuration: long (nullable = true)\n",
      " |-- SportDuration: long (nullable = true)\n",
      " |-- TVDuration: long (nullable = true)\n",
      "\n"
     ]
    }
   ],
   "source": [
    "final.printSchema()"
   ]
  },
  {
   "cell_type": "code",
   "execution_count": 39,
   "metadata": {},
   "outputs": [],
   "source": [
    "final_test = final.withColumn(\"RelaxDuration\",when(col(\"RelaxDuration\").isNotNull(),\"Relax\").otherwise(col(\"RelaxDuration\")))\n",
    "final_test = final_test.withColumn(\"MovieDuration\",when(col(\"MovieDuration\").isNotNull(),\"Movie\").otherwise(col(\"MovieDuration\")))\n",
    "final_test = final_test.withColumn(\"ChildDuration\",when(col(\"ChildDuration\").isNotNull(),\"Child\").otherwise(col(\"ChildDuration\")))\n",
    "final_test = final_test.withColumn(\"SportDuration\",when(col(\"SportDuration\").isNotNull(),\"Sport\").otherwise(col(\"SportDuration\")))\n",
    "final_test = final_test.withColumn(\"TVDuration\",when(col(\"TVDuration\").isNotNull(),\"TV\").otherwise(col(\"TVDuration\")))"
   ]
  },
  {
   "cell_type": "code",
   "execution_count": 40,
   "metadata": {},
   "outputs": [
    {
     "name": "stderr",
     "output_type": "stream",
     "text": [
      "[Stage 216:=============================================>         (10 + 2) / 12]\r"
     ]
    },
    {
     "name": "stdout",
     "output_type": "stream",
     "text": [
      "+---------+-------------+-------------+-------------+-------------+----------+\n",
      "| Contract|RelaxDuration|MovieDuration|ChildDuration|SportDuration|TVDuration|\n",
      "+---------+-------------+-------------+-------------+-------------+----------+\n",
      "|HTFD11598|         null|        Movie|         null|         null|        TV|\n",
      "|HPFD48556|        Relax|         null|         null|         null|        TV|\n",
      "|NBFD10014|         null|         null|         null|         null|        TV|\n",
      "|HNH619088|         null|        Movie|        Child|         null|        TV|\n",
      "|HNH036174|         null|        Movie|         null|         null|        TV|\n",
      "|DNH067877|         null|         null|         null|         null|        TV|\n",
      "|SGH806190|         null|         null|         null|         null|        TV|\n",
      "|HNH582022|         null|         null|         null|         null|        TV|\n",
      "|HNH795510|         null|        Movie|        Child|         null|        TV|\n",
      "|DNFD91557|         null|         null|         null|         null|        TV|\n",
      "|SGH266908|         null|         null|        Child|         null|        TV|\n",
      "|HNJ102653|         null|         null|         null|         null|        TV|\n",
      "|HDFD42710|         null|         null|         null|         null|        TV|\n",
      "|SGH674576|         null|        Movie|         null|         null|        TV|\n",
      "|DNH034235|         null|         null|         null|         null|        TV|\n",
      "|NDFD32943|         null|         null|        Child|         null|        TV|\n",
      "|TNFD30439|         null|         null|         null|         null|        TV|\n",
      "|DNH083321|         null|         null|         null|         null|        TV|\n",
      "|SGH446342|         null|         null|         null|         null|        TV|\n",
      "|DLFD14250|         null|        Movie|         null|         null|        TV|\n",
      "+---------+-------------+-------------+-------------+-------------+----------+\n",
      "only showing top 20 rows\n",
      "\n"
     ]
    },
    {
     "name": "stderr",
     "output_type": "stream",
     "text": [
      "                                                                                \r"
     ]
    }
   ],
   "source": [
    "final_test.show()"
   ]
  },
  {
   "cell_type": "code",
   "execution_count": 41,
   "metadata": {},
   "outputs": [],
   "source": [
    "def customer_taste_calc(final):\n",
    "    final = final.withColumn(\"RelaxDuration\",when(col(\"RelaxDuration\").isNotNull(),\"Relax\").otherwise(col(\"RelaxDuration\")))\n",
    "    final = final.withColumn(\"MovieDuration\",when(col(\"MovieDuration\").isNotNull(),\"Movie\").otherwise(col(\"MovieDuration\")))\n",
    "    final = final.withColumn(\"ChildDuration\",when(col(\"ChildDuration\").isNotNull(),\"Child\").otherwise(col(\"ChildDuration\")))\n",
    "    final = final.withColumn(\"SportDuration\",when(col(\"SportDuration\").isNotNull(),\"Sport\").otherwise(col(\"SportDuration\")))\n",
    "    final = final.withColumn(\"TVDuration\",when(col(\"TVDuration\").isNotNull(),\"TV\").otherwise(col(\"TVDuration\")))\n",
    "    \n",
    "    taste = final.withColumn('CustomerTaste', sf.concat_ws(\"-\", *[i for i in final.columns if i != ['Contract']]))\n",
    "    taste = taste.select('Contract','CustomerTaste')\n",
    "    return taste"
   ]
  },
  {
   "cell_type": "code",
   "execution_count": 78,
   "metadata": {},
   "outputs": [
    {
     "name": "stderr",
     "output_type": "stream",
     "text": [
      "23/11/08 01:04:49 WARN RowBasedKeyValueBatch: Calling spill() on RowBasedKeyValueBatch. Will not spill but return 0.\n",
      "23/11/08 01:04:49 WARN RowBasedKeyValueBatch: Calling spill() on RowBasedKeyValueBatch. Will not spill but return 0.\n",
      "23/11/08 01:04:49 WARN RowBasedKeyValueBatch: Calling spill() on RowBasedKeyValueBatch. Will not spill but return 0.\n",
      "23/11/08 01:04:49 WARN RowBasedKeyValueBatch: Calling spill() on RowBasedKeyValueBatch. Will not spill but return 0.\n",
      "23/11/08 01:04:49 WARN RowBasedKeyValueBatch: Calling spill() on RowBasedKeyValueBatch. Will not spill but return 0.\n",
      "23/11/08 01:04:49 WARN RowBasedKeyValueBatch: Calling spill() on RowBasedKeyValueBatch. Will not spill but return 0.\n",
      "23/11/08 01:04:49 WARN RowBasedKeyValueBatch: Calling spill() on RowBasedKeyValueBatch. Will not spill but return 0.\n",
      "23/11/08 01:04:49 WARN RowBasedKeyValueBatch: Calling spill() on RowBasedKeyValueBatch. Will not spill but return 0.\n",
      "[Stage 457:>                                                        (0 + 1) / 1]\r"
     ]
    },
    {
     "name": "stdout",
     "output_type": "stream",
     "text": [
      "+---------+-------------+\n",
      "|Contract |CustomerTaste|\n",
      "+---------+-------------+\n",
      "|LDFD43130|Movie-TV     |\n",
      "|DLD010292|Movie-TV     |\n",
      "|YBFD04352|Movie-TV     |\n",
      "|NBFD20238|Movie-TV     |\n",
      "|HNH371198|Child-TV     |\n",
      "|QNFD15570|TV           |\n",
      "|AGFD24376|TV           |\n",
      "|HNJ165212|Child-TV     |\n",
      "|DAFD06623|Movie-TV     |\n",
      "|HNH889692|TV           |\n",
      "+---------+-------------+\n",
      "only showing top 10 rows\n",
      "\n"
     ]
    },
    {
     "name": "stderr",
     "output_type": "stream",
     "text": [
      "                                                                                \r"
     ]
    }
   ],
   "source": [
    "def calculate_customer_taste(df):\n",
    "    for column in df.columns:\n",
    "        if 'Duration' in column:\n",
    "            df = df.withColumn(column, when(col(column).isNotNull(), column.replace(\"Duration\", \"\")))\n",
    "    customer_taste = df.withColumn('CustomerTaste',\n",
    "                                   sf.concat_ws(\"-\", *[i for i in df.columns if 'Duration' in i]))\n",
    "    customer_taste = customer_taste.select('Contract', 'CustomerTaste')\n",
    "    return customer_taste\n",
    "\n",
    "customer_taste = calculate_customer_taste(final)\n",
    "customer_taste.show(10, truncate=False)"
   ]
  },
  {
   "cell_type": "code",
   "execution_count": 80,
   "metadata": {},
   "outputs": [
    {
     "name": "stderr",
     "output_type": "stream",
     "text": [
      "23/11/08 01:08:20 WARN RowBasedKeyValueBatch: Calling spill() on RowBasedKeyValueBatch. Will not spill but return 0.\n",
      "23/11/08 01:08:20 WARN RowBasedKeyValueBatch: Calling spill() on RowBasedKeyValueBatch. Will not spill but return 0.\n",
      "23/11/08 01:08:20 WARN RowBasedKeyValueBatch: Calling spill() on RowBasedKeyValueBatch. Will not spill but return 0.\n",
      "23/11/08 01:08:20 WARN RowBasedKeyValueBatch: Calling spill() on RowBasedKeyValueBatch. Will not spill but return 0.\n",
      "23/11/08 01:08:20 WARN RowBasedKeyValueBatch: Calling spill() on RowBasedKeyValueBatch. Will not spill but return 0.\n",
      "23/11/08 01:08:20 WARN RowBasedKeyValueBatch: Calling spill() on RowBasedKeyValueBatch. Will not spill but return 0.\n",
      "23/11/08 01:08:20 WARN RowBasedKeyValueBatch: Calling spill() on RowBasedKeyValueBatch. Will not spill but return 0.\n",
      "23/11/08 01:08:21 WARN RowBasedKeyValueBatch: Calling spill() on RowBasedKeyValueBatch. Will not spill but return 0.\n",
      "[Stage 469:>                                                        (0 + 1) / 1]\r"
     ]
    },
    {
     "name": "stdout",
     "output_type": "stream",
     "text": [
      "+---------+----------+-------------+-------------+-------------+-------------+----------+\n",
      "| Contract|      Date|RelaxDuration|MovieDuration|ChildDuration|SportDuration|TVDuration|\n",
      "+---------+----------+-------------+-------------+-------------+-------------+----------+\n",
      "|LDFD43130|2022-04-01|         null|         7256|         null|         null|     11999|\n",
      "|DLD010292|2022-04-01|         null|          901|         null|         null|     10244|\n",
      "|YBFD04352|2022-04-01|         null|           51|         null|         null|      2388|\n",
      "|NBFD20238|2022-04-01|         null|          593|         null|         null|       483|\n",
      "|HNH371198|2022-04-01|         null|         null|        15735|         null|     40395|\n",
      "|QNFD15570|2022-04-01|         null|         null|         null|         null|      4982|\n",
      "|AGFD24376|2022-04-01|         null|         null|         null|         null|      3143|\n",
      "|HNJ165212|2022-04-01|         null|         null|          299|         null|        24|\n",
      "|DAFD06623|2022-04-01|         null|         8544|         null|         null|        36|\n",
      "|HNH889692|2022-04-01|         null|         null|         null|         null|     11374|\n",
      "|CTD037046|2022-04-01|         null|         null|         4751|         null|       502|\n",
      "|DAH005476|2022-04-01|         null|         null|         null|         null|     11841|\n",
      "|HNH063677|2022-04-01|         null|         null|         null|         null|     17354|\n",
      "|CMFD15112|2022-04-01|         null|         null|         null|         null|     56924|\n",
      "|SGH056636|2022-04-01|         null|         null|         null|         null|     75974|\n",
      "|HDFD19205|2022-04-01|         null|         null|         null|         null|     86400|\n",
      "|SGH612663|2022-04-01|         null|        10511|         2091|         null|     12884|\n",
      "|HPFD77786|2022-04-01|         null|         3550|         null|         null|     77910|\n",
      "|SGAAA8689|2022-04-01|         null|         1070|         null|         null|        61|\n",
      "|SGJ106743|2022-04-01|         null|         8208|         null|         null|     40784|\n",
      "+---------+----------+-------------+-------------+-------------+-------------+----------+\n",
      "only showing top 20 rows\n",
      "\n"
     ]
    },
    {
     "name": "stderr",
     "output_type": "stream",
     "text": [
      "                                                                                \r"
     ]
    }
   ],
   "source": [
    "final.show()"
   ]
  },
  {
   "cell_type": "markdown",
   "metadata": {},
   "source": [
    "calculate activeness"
   ]
  },
  {
   "cell_type": "code",
   "execution_count": 42,
   "metadata": {},
   "outputs": [
    {
     "data": {
      "text/plain": [
       "30"
      ]
     },
     "execution_count": 42,
     "metadata": {},
     "output_type": "execute_result"
    }
   ],
   "source": [
    "(end_date-start_date).days+1"
   ]
  },
  {
   "cell_type": "code",
   "execution_count": 53,
   "metadata": {},
   "outputs": [
    {
     "name": "stderr",
     "output_type": "stream",
     "text": [
      "                                                                                \r"
     ]
    }
   ],
   "source": [
    "active = result.groupby('Contract','Type','Date').sum()\n",
    "active = active.withColumnRenamed('sum(TotalDuration)','TotalDuration')\n",
    "active = active.groupBy('Contract','Date').pivot(\"Type\").sum('TotalDuration')\n",
    "active = active.withColumnRenamed('Giải Trí', 'RelaxDuration') \\\n",
    "    .withColumnRenamed('Phim Truyện', 'MovieDuration') \\\n",
    "    .withColumnRenamed('Thiếu Nhi', 'ChildDuration') \\\n",
    "    .withColumnRenamed('Thể Thao', 'SportDuration') \\\n",
    "    .withColumnRenamed('Truyền Hình', 'TVDuration')"
   ]
  },
  {
   "cell_type": "code",
   "execution_count": 54,
   "metadata": {},
   "outputs": [
    {
     "name": "stderr",
     "output_type": "stream",
     "text": [
      "23/11/08 00:06:29 WARN RowBasedKeyValueBatch: Calling spill() on RowBasedKeyValueBatch. Will not spill but return 0.\n",
      "23/11/08 00:06:29 WARN RowBasedKeyValueBatch: Calling spill() on RowBasedKeyValueBatch. Will not spill but return 0.\n",
      "23/11/08 00:06:29 WARN RowBasedKeyValueBatch: Calling spill() on RowBasedKeyValueBatch. Will not spill but return 0.\n",
      "23/11/08 00:06:29 WARN RowBasedKeyValueBatch: Calling spill() on RowBasedKeyValueBatch. Will not spill but return 0.\n",
      "23/11/08 00:06:29 WARN RowBasedKeyValueBatch: Calling spill() on RowBasedKeyValueBatch. Will not spill but return 0.\n",
      "23/11/08 00:06:29 WARN RowBasedKeyValueBatch: Calling spill() on RowBasedKeyValueBatch. Will not spill but return 0.\n",
      "23/11/08 00:06:29 WARN RowBasedKeyValueBatch: Calling spill() on RowBasedKeyValueBatch. Will not spill but return 0.\n",
      "23/11/08 00:06:29 WARN RowBasedKeyValueBatch: Calling spill() on RowBasedKeyValueBatch. Will not spill but return 0.\n",
      "[Stage 261:>                                                        (0 + 1) / 1]\r"
     ]
    },
    {
     "name": "stdout",
     "output_type": "stream",
     "text": [
      "+---------+----------+-------------+-------------+-------------+-------------+----------+\n",
      "| Contract|      Date|RelaxDuration|MovieDuration|ChildDuration|SportDuration|TVDuration|\n",
      "+---------+----------+-------------+-------------+-------------+-------------+----------+\n",
      "|LDFD43130|2022-04-01|         null|         7256|         null|         null|     11999|\n",
      "|DLD010292|2022-04-01|         null|          901|         null|         null|     10244|\n",
      "|YBFD04352|2022-04-01|         null|           51|         null|         null|      2388|\n",
      "|NBFD20238|2022-04-01|         null|          593|         null|         null|       483|\n",
      "|HNH371198|2022-04-01|         null|         null|        15735|         null|     40395|\n",
      "|QNFD15570|2022-04-01|         null|         null|         null|         null|      4982|\n",
      "|AGFD24376|2022-04-01|         null|         null|         null|         null|      3143|\n",
      "|HNJ165212|2022-04-01|         null|         null|          299|         null|        24|\n",
      "|DAFD06623|2022-04-01|         null|         8544|         null|         null|        36|\n",
      "|HNH889692|2022-04-01|         null|         null|         null|         null|     11374|\n",
      "|CTD037046|2022-04-01|         null|         null|         4751|         null|       502|\n",
      "|DAH005476|2022-04-01|         null|         null|         null|         null|     11841|\n",
      "|HNH063677|2022-04-01|         null|         null|         null|         null|     17354|\n",
      "|CMFD15112|2022-04-01|         null|         null|         null|         null|     56924|\n",
      "|SGH056636|2022-04-01|         null|         null|         null|         null|     75974|\n",
      "|HDFD19205|2022-04-01|         null|         null|         null|         null|     86400|\n",
      "|SGH612663|2022-04-01|         null|        10511|         2091|         null|     12884|\n",
      "|HPFD77786|2022-04-01|         null|         3550|         null|         null|     77910|\n",
      "|SGAAA8689|2022-04-01|         null|         1070|         null|         null|        61|\n",
      "|SGJ106743|2022-04-01|         null|         8208|         null|         null|     40784|\n",
      "+---------+----------+-------------+-------------+-------------+-------------+----------+\n",
      "only showing top 20 rows\n",
      "\n"
     ]
    },
    {
     "name": "stderr",
     "output_type": "stream",
     "text": [
      "                                                                                \r"
     ]
    }
   ],
   "source": [
    "active.show()"
   ]
  },
  {
   "cell_type": "code",
   "execution_count": 55,
   "metadata": {},
   "outputs": [
    {
     "name": "stdout",
     "output_type": "stream",
     "text": [
      "root\n",
      " |-- Contract: string (nullable = true)\n",
      " |-- Date: date (nullable = false)\n",
      " |-- RelaxDuration: long (nullable = true)\n",
      " |-- MovieDuration: long (nullable = true)\n",
      " |-- ChildDuration: long (nullable = true)\n",
      " |-- SportDuration: long (nullable = true)\n",
      " |-- TVDuration: long (nullable = true)\n",
      "\n"
     ]
    }
   ],
   "source": [
    "active.printSchema()"
   ]
  },
  {
   "cell_type": "code",
   "execution_count": 57,
   "metadata": {},
   "outputs": [],
   "source": [
    "active = active.filter((active.Date >= start_date) & (active.Date <= end_date))\n",
    "active = active.withColumn(\"IsActive\",\n",
    "                          sf.when((active.RelaxDuration > 0) | (active.MovieDuration > 0) | (active.ChildDuration > 0) | (active.SportDuration > 0) | (active.TVDuration > 0), 1)\n",
    "                          .otherwise(0))"
   ]
  },
  {
   "cell_type": "code",
   "execution_count": 58,
   "metadata": {},
   "outputs": [
    {
     "name": "stderr",
     "output_type": "stream",
     "text": [
      "23/11/08 00:08:00 WARN RowBasedKeyValueBatch: Calling spill() on RowBasedKeyValueBatch. Will not spill but return 0.\n",
      "23/11/08 00:08:00 WARN RowBasedKeyValueBatch: Calling spill() on RowBasedKeyValueBatch. Will not spill but return 0.\n",
      "23/11/08 00:08:00 WARN RowBasedKeyValueBatch: Calling spill() on RowBasedKeyValueBatch. Will not spill but return 0.\n",
      "23/11/08 00:08:01 WARN RowBasedKeyValueBatch: Calling spill() on RowBasedKeyValueBatch. Will not spill but return 0.\n",
      "23/11/08 00:08:01 WARN RowBasedKeyValueBatch: Calling spill() on RowBasedKeyValueBatch. Will not spill but return 0.\n",
      "23/11/08 00:08:01 WARN RowBasedKeyValueBatch: Calling spill() on RowBasedKeyValueBatch. Will not spill but return 0.\n",
      "23/11/08 00:08:01 WARN RowBasedKeyValueBatch: Calling spill() on RowBasedKeyValueBatch. Will not spill but return 0.\n",
      "23/11/08 00:08:01 WARN RowBasedKeyValueBatch: Calling spill() on RowBasedKeyValueBatch. Will not spill but return 0.\n",
      "[Stage 267:=============================================>         (10 + 2) / 12]\r"
     ]
    },
    {
     "name": "stdout",
     "output_type": "stream",
     "text": [
      "+---------+----------+------------------+\n",
      "| Contract|ActiveDays|        ActiveRate|\n",
      "+---------+----------+------------------+\n",
      "|HYFD55120|        30|               1.0|\n",
      "|HNJ132019|        30|               1.0|\n",
      "|SGH498259|        29|0.9666666666666667|\n",
      "|QAFD12708|        30|               1.0|\n",
      "|BTFD13949|        26|0.8666666666666667|\n",
      "|GLD010540|        30|               1.0|\n",
      "|SGD480362|        30|               1.0|\n",
      "|NDFD03091|        23|0.7666666666666667|\n",
      "|LDFD21316|        30|               1.0|\n",
      "|DNH034003|        30|               1.0|\n",
      "+---------+----------+------------------+\n",
      "only showing top 10 rows\n",
      "\n"
     ]
    },
    {
     "name": "stderr",
     "output_type": "stream",
     "text": [
      "                                                                                \r"
     ]
    }
   ],
   "source": [
    "# Calculate the total active dates for each user\n",
    "total_days = (end_date-start_date).days+1\n",
    "activeness = active.groupBy(\"Contract\").agg(sf.sum(\"IsActive\").alias(\"ActiveDays\"))\n",
    "\n",
    "# Calculate the active rate for each user\n",
    "activeness = activeness.withColumn(\"ActiveRate\", (sf.col(\"ActiveDays\") / sf.lit(total_days)).cast(\"double\"))\n",
    "activeness.show(10)"
   ]
  },
  {
   "cell_type": "code",
   "execution_count": 59,
   "metadata": {},
   "outputs": [
    {
     "name": "stderr",
     "output_type": "stream",
     "text": [
      "[Stage 272:====================================================>(236 + 4) / 240]\r"
     ]
    },
    {
     "name": "stdout",
     "output_type": "stream",
     "text": [
      "+---------+----------+------------------+\n",
      "| Contract|ActiveDays|        ActiveRate|\n",
      "+---------+----------+------------------+\n",
      "|DAFD98771|        14|0.4666666666666667|\n",
      "+---------+----------+------------------+\n",
      "\n"
     ]
    },
    {
     "name": "stderr",
     "output_type": "stream",
     "text": [
      "                                                                                \r"
     ]
    }
   ],
   "source": [
    "activeness.filter(col('Contract')=='DAFD98771').show() #should be 14 days"
   ]
  },
  {
   "cell_type": "code",
   "execution_count": 64,
   "metadata": {},
   "outputs": [],
   "source": [
    "start_date = datetime.strptime(start_date_str, \"%Y%m%d\").date()\n",
    "end_date = datetime.strptime(end_date_str, \"%Y%m%d\").date()\n",
    "\n",
    "def calculate_active_rate(result):\n",
    "    active = result.groupby('Contract','Type','Date').sum()\n",
    "    active = active.withColumnRenamed('sum(TotalDuration)','TotalDuration')\n",
    "    active = active.groupBy('Contract','Date').pivot(\"Type\").sum('TotalDuration')\n",
    "    active = active.withColumnRenamed('Giải Trí', 'RelaxDuration') \\\n",
    "                    .withColumnRenamed('Phim Truyện', 'MovieDuration') \\\n",
    "                    .withColumnRenamed('Thiếu Nhi', 'ChildDuration') \\\n",
    "                    .withColumnRenamed('Thể Thao', 'SportDuration') \\\n",
    "                    .withColumnRenamed('Truyền Hình', 'TVDuration')\n",
    "\n",
    "    active = active.filter((active.Date >= start_date) & (active.Date <= end_date))\n",
    "    active = active.withColumn(\"IsActive\",\n",
    "                          sf.when((active.RelaxDuration > 0) | (active.MovieDuration > 0) | (active.ChildDuration > 0) | (active.SportDuration > 0) | (active.TVDuration > 0), 1)\n",
    "                          .otherwise(0))\n",
    "    \n",
    "    # Calculate the total active dates for each user\n",
    "    total_days = (end_date-start_date).days+1\n",
    "    activeness = active.groupBy(\"Contract\").agg(sf.sum(\"IsActive\").alias(\"ActiveDays\"))\n",
    "\n",
    "    # Calculate the active rate for each user\n",
    "    activeness = activeness.withColumn(\"ActiveRate\", (sf.col(\"ActiveDays\") / sf.lit(total_days)).cast(\"double\"))\n",
    "    \n",
    "    return activeness"
   ]
  },
  {
   "cell_type": "code",
   "execution_count": 73,
   "metadata": {},
   "outputs": [
    {
     "name": "stderr",
     "output_type": "stream",
     "text": [
      "[Stage 360:==========================================>             (9 + 3) / 12]\r"
     ]
    },
    {
     "name": "stdout",
     "output_type": "stream",
     "text": [
      "+---------+----------+------------------+\n",
      "|Contract |ActiveDays|ActiveRate        |\n",
      "+---------+----------+------------------+\n",
      "|QNFD34621|30        |1.0               |\n",
      "|SGH494322|30        |1.0               |\n",
      "|HYFD47097|30        |1.0               |\n",
      "|HYFD55120|30        |1.0               |\n",
      "|HUFD05523|30        |1.0               |\n",
      "|NDFD19838|30        |1.0               |\n",
      "|SGJ005892|30        |1.0               |\n",
      "|DAFD71727|22        |0.7333333333333333|\n",
      "|HPFD48943|30        |1.0               |\n",
      "|QNFD77422|30        |1.0               |\n",
      "+---------+----------+------------------+\n",
      "only showing top 10 rows\n",
      "\n"
     ]
    },
    {
     "name": "stderr",
     "output_type": "stream",
     "text": [
      "                                                                                \r"
     ]
    }
   ],
   "source": [
    "start_date = datetime.strptime(start_date_str, \"%Y%m%d\").date()\n",
    "end_date = datetime.strptime(end_date_str, \"%Y%m%d\").date()\n",
    "\n",
    "def calculate_activeness(df):\n",
    "    total_days = (end_date - start_date).days + 1\n",
    "    \n",
    "    active = df.groupby('Contract', 'Date').agg((sf.sum('TotalDuration').alias('TotalDurationPerDay')))\n",
    "    active = active.withColumn(\"IsActive\", sf.when(active.TotalDurationPerDay > 0, 1).otherwise(0))\n",
    "\n",
    "    activeness = active.groupBy(\"Contract\").agg(sf.sum(\"IsActive\").alias(\"ActiveDays\"))\n",
    "    activeness = activeness.withColumn(\"ActiveRate\", (sf.col(\"ActiveDays\") / sf.lit(total_days)))\n",
    "    return activeness\n",
    "\n",
    "\n",
    "activeness = calculate_activeness(result)\n",
    "activeness.show(10, truncate=False)"
   ]
  },
  {
   "cell_type": "code",
   "execution_count": 74,
   "metadata": {},
   "outputs": [
    {
     "name": "stderr",
     "output_type": "stream",
     "text": [
      "[Stage 364:===================================================> (232 + 8) / 240]\r"
     ]
    },
    {
     "name": "stdout",
     "output_type": "stream",
     "text": [
      "+---------+----------+------------------+\n",
      "| Contract|ActiveDays|        ActiveRate|\n",
      "+---------+----------+------------------+\n",
      "|DAFD98771|        14|0.4666666666666667|\n",
      "+---------+----------+------------------+\n",
      "\n"
     ]
    },
    {
     "name": "stderr",
     "output_type": "stream",
     "text": [
      "                                                                                \r"
     ]
    }
   ],
   "source": [
    "activeness.filter(col('Contract')=='DAFD98771').show() #should be 14 days"
   ]
  },
  {
   "cell_type": "markdown",
   "metadata": {},
   "source": [
    "combine most_watch, tase, activeness, final"
   ]
  },
  {
   "cell_type": "code",
   "execution_count": 61,
   "metadata": {},
   "outputs": [],
   "source": [
    "most_watch = most_watch_calc(result)"
   ]
  },
  {
   "cell_type": "code",
   "execution_count": 62,
   "metadata": {},
   "outputs": [
    {
     "name": "stderr",
     "output_type": "stream",
     "text": [
      "[Stage 284:=============================================>         (10 + 2) / 12]\r"
     ]
    },
    {
     "name": "stdout",
     "output_type": "stream",
     "text": [
      "+---------+------------------------+\n",
      "|Contract |CustomerTaste           |\n",
      "+---------+------------------------+\n",
      "|HTFD11598|HTFD11598-Movie-TV      |\n",
      "|HPFD48556|HPFD48556-Relax-TV      |\n",
      "|NBFD10014|NBFD10014-TV            |\n",
      "|HNH619088|HNH619088-Movie-Child-TV|\n",
      "|HNH036174|HNH036174-Movie-TV      |\n",
      "|DNH067877|DNH067877-TV            |\n",
      "|SGH806190|SGH806190-TV            |\n",
      "|HNH582022|HNH582022-TV            |\n",
      "|HNH795510|HNH795510-Movie-Child-TV|\n",
      "|DNFD91557|DNFD91557-TV            |\n",
      "+---------+------------------------+\n",
      "only showing top 10 rows\n",
      "\n"
     ]
    },
    {
     "name": "stderr",
     "output_type": "stream",
     "text": [
      "                                                                                \r"
     ]
    }
   ],
   "source": [
    "customer_taste = customer_taste_calc(final)\n",
    "customer_taste.show(10, truncate=False)"
   ]
  },
  {
   "cell_type": "code",
   "execution_count": 66,
   "metadata": {},
   "outputs": [
    {
     "name": "stderr",
     "output_type": "stream",
     "text": [
      "23/11/08 00:17:06 WARN RowBasedKeyValueBatch: Calling spill() on RowBasedKeyValueBatch. Will not spill but return 0.\n",
      "23/11/08 00:17:06 WARN RowBasedKeyValueBatch: Calling spill() on RowBasedKeyValueBatch. Will not spill but return 0.\n",
      "23/11/08 00:17:06 WARN RowBasedKeyValueBatch: Calling spill() on RowBasedKeyValueBatch. Will not spill but return 0.\n",
      "23/11/08 00:17:06 WARN RowBasedKeyValueBatch: Calling spill() on RowBasedKeyValueBatch. Will not spill but return 0.\n",
      "23/11/08 00:17:06 WARN RowBasedKeyValueBatch: Calling spill() on RowBasedKeyValueBatch. Will not spill but return 0.\n",
      "23/11/08 00:17:06 WARN RowBasedKeyValueBatch: Calling spill() on RowBasedKeyValueBatch. Will not spill but return 0.\n",
      "23/11/08 00:17:06 WARN RowBasedKeyValueBatch: Calling spill() on RowBasedKeyValueBatch. Will not spill but return 0.\n",
      "23/11/08 00:17:06 WARN RowBasedKeyValueBatch: Calling spill() on RowBasedKeyValueBatch. Will not spill but return 0.\n",
      "[Stage 301:==================================================>    (11 + 1) / 12]\r"
     ]
    },
    {
     "name": "stdout",
     "output_type": "stream",
     "text": [
      "+---------+----------+------------------+\n",
      "|Contract |ActiveDays|ActiveRate        |\n",
      "+---------+----------+------------------+\n",
      "|HYFD55120|30        |1.0               |\n",
      "|HNJ132019|30        |1.0               |\n",
      "|SGH498259|29        |0.9666666666666667|\n",
      "|QAFD12708|30        |1.0               |\n",
      "|BTFD13949|26        |0.8666666666666667|\n",
      "|GLD010540|30        |1.0               |\n",
      "|SGD480362|30        |1.0               |\n",
      "|NDFD03091|23        |0.7666666666666667|\n",
      "|LDFD21316|30        |1.0               |\n",
      "|DNH034003|30        |1.0               |\n",
      "+---------+----------+------------------+\n",
      "only showing top 10 rows\n",
      "\n"
     ]
    },
    {
     "name": "stderr",
     "output_type": "stream",
     "text": [
      "                                                                                \r"
     ]
    }
   ],
   "source": [
    "activeness = calculate_active_rate(result)\n",
    "activeness.show(10, truncate=False)"
   ]
  },
  {
   "cell_type": "code",
   "execution_count": 67,
   "metadata": {},
   "outputs": [
    {
     "name": "stderr",
     "output_type": "stream",
     "text": [
      "23/11/08 00:21:31 WARN RowBasedKeyValueBatch: Calling spill() on RowBasedKeyValueBatch. Will not spill but return 0.\n",
      "23/11/08 00:21:31 WARN RowBasedKeyValueBatch: Calling spill() on RowBasedKeyValueBatch. Will not spill but return 0.\n",
      "23/11/08 00:21:31 WARN RowBasedKeyValueBatch: Calling spill() on RowBasedKeyValueBatch. Will not spill but return 0.\n",
      "23/11/08 00:21:32 WARN RowBasedKeyValueBatch: Calling spill() on RowBasedKeyValueBatch. Will not spill but return 0.\n",
      "23/11/08 00:21:34 WARN RowBasedKeyValueBatch: Calling spill() on RowBasedKeyValueBatch. Will not spill but return 0.\n",
      "23/11/08 00:21:35 WARN RowBasedKeyValueBatch: Calling spill() on RowBasedKeyValueBatch. Will not spill but return 0.\n",
      "23/11/08 00:21:36 WARN RowBasedKeyValueBatch: Calling spill() on RowBasedKeyValueBatch. Will not spill but return 0.\n",
      "23/11/08 00:21:36 WARN RowBasedKeyValueBatch: Calling spill() on RowBasedKeyValueBatch. Will not spill but return 0.\n",
      "23/11/08 00:22:16 WARN DAGScheduler: Broadcasting large task binary with size 1438.7 KiB\n",
      "[Stage 327:>                                                        (0 + 1) / 1]\r"
     ]
    },
    {
     "name": "stdout",
     "output_type": "stream",
     "text": [
      "+---------+-------------+-------------+-------------+-------------+----------+-----------+--------------------+----------+------------------+\n",
      "| Contract|RelaxDuration|MovieDuration|ChildDuration|SportDuration|TVDuration|  MostWatch|       CustomerTaste|ActiveDays|        ActiveRate|\n",
      "+---------+-------------+-------------+-------------+-------------+----------+-----------+--------------------+----------+------------------+\n",
      "|DLFD14250|         null|        29144|         null|         null|    391492|Truyền Hình|  DLFD14250-Movie-TV|        22|0.7333333333333333|\n",
      "|DNFD91557|         null|         null|         null|         null|     95567|Truyền Hình|        DNFD91557-TV|        27|               0.9|\n",
      "|DNH034235|         null|         null|         null|         null|    139582|Truyền Hình|        DNH034235-TV|        30|               1.0|\n",
      "|DNH067877|         null|         null|         null|         null|    181308|Truyền Hình|        DNH067877-TV|        29|0.9666666666666667|\n",
      "|DNH083321|         null|         null|         null|         null|     86343|Truyền Hình|        DNH083321-TV|        25|0.8333333333333334|\n",
      "|HDFD42710|         null|         null|         null|         null|    494456|Truyền Hình|        HDFD42710-TV|        30|               1.0|\n",
      "|HNH036174|         null|        62674|         null|         null|    354879|Truyền Hình|  HNH036174-Movie-TV|        30|               1.0|\n",
      "|HNH582022|         null|         null|         null|         null|   2209949|Truyền Hình|        HNH582022-TV|        29|0.9666666666666667|\n",
      "|HNH619088|         null|        77275|        11361|         null|    917930|Truyền Hình|HNH619088-Movie-C...|        30|               1.0|\n",
      "|HNH720916|         null|       123222|         null|         null|    389595|Truyền Hình|  HNH720916-Movie-TV|        30|               1.0|\n",
      "|HNH795510|         null|        30197|          265|         null|   1196936|Truyền Hình|HNH795510-Movie-C...|        30|               1.0|\n",
      "|HNJ102653|         null|         null|         null|         null|    166767|Truyền Hình|        HNJ102653-TV|        22|0.7333333333333333|\n",
      "|HPFD48556|           69|         null|         null|         null|   1468328|Truyền Hình|  HPFD48556-Relax-TV|        21|               0.7|\n",
      "|HTFD11598|         null|        15551|         null|         null|     42919|Truyền Hình|  HTFD11598-Movie-TV|        30|               1.0|\n",
      "|NBFD10014|         null|         null|         null|         null|   1596494|Truyền Hình|        NBFD10014-TV|        23|0.7666666666666667|\n",
      "|NDFD32943|         null|         null|         1077|         null|    188793|Truyền Hình|  NDFD32943-Child-TV|        27|               0.9|\n",
      "|SGH266908|         null|         null|         1636|         null|    112771|Truyền Hình|  SGH266908-Child-TV|        30|               1.0|\n",
      "|SGH446342|         null|         null|         null|         null|    502707|Truyền Hình|        SGH446342-TV|        22|0.7333333333333333|\n",
      "|SGH674576|         null|         5437|         null|         null|    364296|Truyền Hình|  SGH674576-Movie-TV|        26|0.8666666666666667|\n",
      "|SGH806190|         null|         null|         null|         null|    217779|Truyền Hình|        SGH806190-TV|        30|               1.0|\n",
      "+---------+-------------+-------------+-------------+-------------+----------+-----------+--------------------+----------+------------------+\n",
      "only showing top 20 rows\n",
      "\n"
     ]
    },
    {
     "name": "stderr",
     "output_type": "stream",
     "text": [
      "                                                                                \r"
     ]
    }
   ],
   "source": [
    "# 1st join with most_watch\n",
    "final_test = final.join(most_watch, on='Contract', how='left')\n",
    "\n",
    "# 2nd join with customer_taste\n",
    "final_test = final_test.join(customer_taste, on='Contract', how='left')\n",
    "\n",
    "# 3rd join with activeness\n",
    "final_test = final_test.join(activeness, on='Contract', how='left')\n",
    "\n",
    "final_test.show()\n"
   ]
  },
  {
   "cell_type": "code",
   "execution_count": 48,
   "metadata": {},
   "outputs": [
    {
     "name": "stderr",
     "output_type": "stream",
     "text": [
      "[Stage 236:===================================================> (232 + 8) / 240]\r"
     ]
    },
    {
     "name": "stdout",
     "output_type": "stream",
     "text": [
      "+---------+--------------+\n",
      "| Contract| CustomerTaste|\n",
      "+---------+--------------+\n",
      "|CTD037046|      Child-TV|\n",
      "|CTD037046|      Child-TV|\n",
      "|CTD037046|Relax-Child-TV|\n",
      "|CTD037046|            TV|\n",
      "|CTD037046|      Child-TV|\n",
      "|CTD037046|            TV|\n",
      "|CTD037046|      Child-TV|\n",
      "|CTD037046|            TV|\n",
      "|CTD037046|      Child-TV|\n",
      "|CTD037046|      Child-TV|\n",
      "|CTD037046|      Child-TV|\n",
      "|CTD037046|      Child-TV|\n",
      "|CTD037046|      Child-TV|\n",
      "|CTD037046|      Child-TV|\n",
      "|CTD037046|            TV|\n",
      "|CTD037046|      Child-TV|\n",
      "|CTD037046|      Child-TV|\n",
      "|CTD037046|      Child-TV|\n",
      "|CTD037046|      Child-TV|\n",
      "|CTD037046|      Child-TV|\n",
      "+---------+--------------+\n",
      "only showing top 20 rows\n",
      "\n"
     ]
    },
    {
     "name": "stderr",
     "output_type": "stream",
     "text": [
      "                                                                                \r"
     ]
    }
   ],
   "source": [
    "customer_taste.filter(col('Contract')=='CTD037046').show()"
   ]
  },
  {
   "cell_type": "code",
   "execution_count": 68,
   "metadata": {},
   "outputs": [
    {
     "name": "stderr",
     "output_type": "stream",
     "text": [
      "23/11/08 00:47:29 WARN RowBasedKeyValueBatch: Calling spill() on RowBasedKeyValueBatch. Will not spill but return 0.\n",
      "23/11/08 00:47:29 WARN RowBasedKeyValueBatch: Calling spill() on RowBasedKeyValueBatch. Will not spill but return 0.\n",
      "23/11/08 00:47:29 WARN RowBasedKeyValueBatch: Calling spill() on RowBasedKeyValueBatch. Will not spill but return 0.\n",
      "23/11/08 00:47:30 WARN RowBasedKeyValueBatch: Calling spill() on RowBasedKeyValueBatch. Will not spill but return 0.\n",
      "23/11/08 00:47:32 WARN RowBasedKeyValueBatch: Calling spill() on RowBasedKeyValueBatch. Will not spill but return 0.\n",
      "23/11/08 00:47:33 WARN RowBasedKeyValueBatch: Calling spill() on RowBasedKeyValueBatch. Will not spill but return 0.\n",
      "23/11/08 00:47:33 WARN RowBasedKeyValueBatch: Calling spill() on RowBasedKeyValueBatch. Will not spill but return 0.\n",
      "23/11/08 00:47:34 WARN RowBasedKeyValueBatch: Calling spill() on RowBasedKeyValueBatch. Will not spill but return 0.\n",
      "23/11/08 00:48:02 WARN DAGScheduler: Broadcasting large task binary with size 1438.7 KiB\n",
      "[Stage 349:>                                                        (0 + 1) / 1]\r"
     ]
    },
    {
     "name": "stdout",
     "output_type": "stream",
     "text": [
      "+---------+-------------+-------------+-------------+-------------+----------+-----------+--------------------+----------+------------------+\n",
      "| Contract|RelaxDuration|MovieDuration|ChildDuration|SportDuration|TVDuration|  MostWatch|       CustomerTaste|ActiveDays|        ActiveRate|\n",
      "+---------+-------------+-------------+-------------+-------------+----------+-----------+--------------------+----------+------------------+\n",
      "|DLFD14250|         null|        29144|         null|         null|    391492|Truyền Hình|  DLFD14250-Movie-TV|        22|0.7333333333333333|\n",
      "|DNFD91557|         null|         null|         null|         null|     95567|Truyền Hình|        DNFD91557-TV|        27|               0.9|\n",
      "|DNH034235|         null|         null|         null|         null|    139582|Truyền Hình|        DNH034235-TV|        30|               1.0|\n",
      "|DNH067877|         null|         null|         null|         null|    181308|Truyền Hình|        DNH067877-TV|        29|0.9666666666666667|\n",
      "|DNH083321|         null|         null|         null|         null|     86343|Truyền Hình|        DNH083321-TV|        25|0.8333333333333334|\n",
      "|HDFD42710|         null|         null|         null|         null|    494456|Truyền Hình|        HDFD42710-TV|        30|               1.0|\n",
      "|HNH036174|         null|        62674|         null|         null|    354879|Truyền Hình|  HNH036174-Movie-TV|        30|               1.0|\n",
      "|HNH582022|         null|         null|         null|         null|   2209949|Truyền Hình|        HNH582022-TV|        29|0.9666666666666667|\n",
      "|HNH619088|         null|        77275|        11361|         null|    917930|Truyền Hình|HNH619088-Movie-C...|        30|               1.0|\n",
      "|HNH720916|         null|       123222|         null|         null|    389595|Truyền Hình|  HNH720916-Movie-TV|        30|               1.0|\n",
      "|HNH795510|         null|        30197|          265|         null|   1196936|Truyền Hình|HNH795510-Movie-C...|        30|               1.0|\n",
      "|HNJ102653|         null|         null|         null|         null|    166767|Truyền Hình|        HNJ102653-TV|        22|0.7333333333333333|\n",
      "|HPFD48556|           69|         null|         null|         null|   1468328|Truyền Hình|  HPFD48556-Relax-TV|        21|               0.7|\n",
      "|HTFD11598|         null|        15551|         null|         null|     42919|Truyền Hình|  HTFD11598-Movie-TV|        30|               1.0|\n",
      "|NBFD10014|         null|         null|         null|         null|   1596494|Truyền Hình|        NBFD10014-TV|        23|0.7666666666666667|\n",
      "|NDFD32943|         null|         null|         1077|         null|    188793|Truyền Hình|  NDFD32943-Child-TV|        27|               0.9|\n",
      "|SGH266908|         null|         null|         1636|         null|    112771|Truyền Hình|  SGH266908-Child-TV|        30|               1.0|\n",
      "|SGH446342|         null|         null|         null|         null|    502707|Truyền Hình|        SGH446342-TV|        22|0.7333333333333333|\n",
      "|SGH674576|         null|         5437|         null|         null|    364296|Truyền Hình|  SGH674576-Movie-TV|        26|0.8666666666666667|\n",
      "|SGH806190|         null|         null|         null|         null|    217779|Truyền Hình|        SGH806190-TV|        30|               1.0|\n",
      "+---------+-------------+-------------+-------------+-------------+----------+-----------+--------------------+----------+------------------+\n",
      "only showing top 20 rows\n",
      "\n"
     ]
    },
    {
     "name": "stderr",
     "output_type": "stream",
     "text": [
      "                                                                                \r"
     ]
    }
   ],
   "source": [
    "def join_dataframes(final, most_watch, customer_taste, activeness):\n",
    "    final_df = final.join(most_watch, on='Contract', how='left')\n",
    "    final_df = final_df.join(customer_taste, on='Contract', how='left')\n",
    "    final_df = final_df.join(activeness, on='Contract', how='left')\n",
    "    return final_df\n",
    "\n",
    "final_df = join_dataframes(final, most_watch, customer_taste, activeness)\n",
    "final_df.show()"
   ]
  },
  {
   "cell_type": "code",
   "execution_count": null,
   "metadata": {},
   "outputs": [],
   "source": []
  }
 ],
 "metadata": {
  "kernelspec": {
   "display_name": "Python 3",
   "language": "python",
   "name": "python3"
  },
  "language_info": {
   "codemirror_mode": {
    "name": "ipython",
    "version": 3
   },
   "file_extension": ".py",
   "mimetype": "text/x-python",
   "name": "python",
   "nbconvert_exporter": "python",
   "pygments_lexer": "ipython3",
   "version": "3.10.7"
  }
 },
 "nbformat": 4,
 "nbformat_minor": 2
}
