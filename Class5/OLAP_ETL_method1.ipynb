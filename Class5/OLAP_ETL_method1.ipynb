{
 "cells": [
  {
   "cell_type": "code",
   "execution_count": 27,
   "metadata": {},
   "outputs": [],
   "source": [
    "from pyspark.sql import SparkSession\n",
    "from pyspark.sql.window import Window\n",
    "from pyspark.sql.functions import col, when\n",
    "from pyspark.sql.functions import row_number, desc\n",
    "import pyspark.sql.functions as sf\n",
    "\n",
    "from datetime import datetime\n",
    "import os"
   ]
  },
  {
   "cell_type": "code",
   "execution_count": 2,
   "metadata": {},
   "outputs": [
    {
     "name": "stderr",
     "output_type": "stream",
     "text": [
      "Setting default log level to \"WARN\".\n",
      "To adjust logging level use sc.setLogLevel(newLevel). For SparkR, use setLogLevel(newLevel).\n",
      "23/11/05 11:04:04 WARN NativeCodeLoader: Unable to load native-hadoop library for your platform... using builtin-java classes where applicable\n"
     ]
    }
   ],
   "source": [
    "spark = SparkSession.builder.config(\"spark.driver.memory\", \"8g\").config(\"spark.executor.cores\",8).getOrCreate()"
   ]
  },
  {
   "cell_type": "code",
   "execution_count": 62,
   "metadata": {},
   "outputs": [],
   "source": [
    "def etl_process(path, file_name, file_date):\n",
    "    spark = SparkSession.builder.config(\"spark.driver.memory\", \"8g\").config(\"spark.executor.cores\",8).getOrCreate()\n",
    "    \n",
    "    \n",
    "    df = spark.read.json(path+file_name)\n",
    "    df = df.select('_source.*')\n",
    "    \n",
    "    df = df.withColumn(\"Type\",\n",
    "           when((col(\"AppName\") == 'CHANNEL') | (col(\"AppName\") =='DSHD')| (col(\"AppName\") =='KPLUS')| (col(\"AppName\") =='KPlus'), \"Truyền Hình\")\n",
    "        .when((col(\"AppName\") == 'VOD') | (col(\"AppName\") =='FIMS_RES')| (col(\"AppName\") =='BHD_RES')| \n",
    "              (col(\"AppName\") =='VOD_RES')| (col(\"AppName\") =='FIMS')| (col(\"AppName\") =='BHD')| (col(\"AppName\") =='DANET'), \"Phim Truyện\")\n",
    "        .when((col(\"AppName\") == 'RELAX'), \"Giải Trí\")\n",
    "        .when((col(\"AppName\") == 'CHILD'), \"Thiếu Nhi\")\n",
    "        .when((col(\"AppName\") == 'SPORT'), \"Thể Thao\")\n",
    "        .otherwise(\"Error\"))\n",
    "    \n",
    "    df = df.withColumn(\"Date\", sf.lit(file_date))\n",
    "    df = df.select('Contract','Type','TotalDuration', 'Date')\n",
    "    df = df.filter(df.Type != 'Error')\n",
    "    \n",
    "    print('Finished Processing {}'.format(file_name))\n",
    "    return df"
   ]
  },
  {
   "cell_type": "code",
   "execution_count": 63,
   "metadata": {},
   "outputs": [],
   "source": [
    "path = '/Users/habaokhanh/Study_BigData_Dataset/log_content/'\n",
    "list_file = sorted([file for file in os.listdir(path) if file != '.DS_Store'])"
   ]
  },
  {
   "cell_type": "code",
   "execution_count": 64,
   "metadata": {},
   "outputs": [],
   "source": [
    "start_date_str = '20220401'\n",
    "end_date_str = '20220430'"
   ]
  },
  {
   "cell_type": "code",
   "execution_count": 65,
   "metadata": {},
   "outputs": [],
   "source": [
    "file_name = \"20220401.json\"\n",
    "date_str = file_name.split('_')[-1].split('.')[0]\n",
    "file_date = datetime.strptime(date_str, \"%Y%m%d\").date()"
   ]
  },
  {
   "cell_type": "code",
   "execution_count": 66,
   "metadata": {},
   "outputs": [
    {
     "name": "stdout",
     "output_type": "stream",
     "text": [
      "Finished Processing 20220401.json\n"
     ]
    }
   ],
   "source": [
    "test = etl_process(path, file_name, file_date)"
   ]
  },
  {
   "cell_type": "code",
   "execution_count": 74,
   "metadata": {},
   "outputs": [
    {
     "name": "stdout",
     "output_type": "stream",
     "text": [
      "+---------+-----------+-------------+----------+\n",
      "| Contract|       Type|TotalDuration|      Date|\n",
      "+---------+-----------+-------------+----------+\n",
      "|HNH579912|Truyền Hình|          254|2022-04-01|\n",
      "|HUFD40665|Truyền Hình|         1457|2022-04-01|\n",
      "|HNH572635|Truyền Hình|         2318|2022-04-01|\n",
      "|HND141717|Truyền Hình|         1452|2022-04-01|\n",
      "|HNH743103|Truyền Hình|          251|2022-04-01|\n",
      "|HNH893773|Truyền Hình|          924|2022-04-01|\n",
      "|HND083642|Truyền Hình|         1444|2022-04-01|\n",
      "|DNFD74404|Truyền Hình|          691|2022-04-01|\n",
      "|DTFD21200|Truyền Hình|         1436|2022-04-01|\n",
      "|LDFD05747|Truyền Hình|         1434|2022-04-01|\n",
      "|HNH063566|Truyền Hình|          687|2022-04-01|\n",
      "|HNH866786|Truyền Hình|          248|2022-04-01|\n",
      "|NBAAA1128|Truyền Hình|          247|2022-04-01|\n",
      "|HNH960439|Truyền Hình|          683|2022-04-01|\n",
      "|HNJ035736|Truyền Hình|          246|2022-04-01|\n",
      "|NTFD93673|Truyền Hình|         2288|2022-04-01|\n",
      "|HNJ063267|Truyền Hình|         2282|2022-04-01|\n",
      "|HNH790383|Truyền Hình|          906|2022-04-01|\n",
      "|THFD12466|Truyền Hình|          242|2022-04-01|\n",
      "|HNH566080|Truyền Hình|          242|2022-04-01|\n",
      "+---------+-----------+-------------+----------+\n",
      "only showing top 20 rows\n",
      "\n"
     ]
    }
   ],
   "source": [
    "test.show()"
   ]
  },
  {
   "cell_type": "code",
   "execution_count": 68,
   "metadata": {},
   "outputs": [
    {
     "name": "stdout",
     "output_type": "stream",
     "text": [
      "Finished Processing 20220401.json\n",
      "Finished Processing 20220402.json\n",
      "Finished Processing 20220403.json\n",
      "Finished Processing 20220404.json\n",
      "Finished Processing 20220405.json\n",
      "Finished Processing 20220406.json\n",
      "Finished Processing 20220407.json\n",
      "Finished Processing 20220408.json\n",
      "Finished Processing 20220409.json\n",
      "Finished Processing 20220410.json\n",
      "Finished Processing 20220411.json\n",
      "Finished Processing 20220412.json\n",
      "Finished Processing 20220413.json\n",
      "Finished Processing 20220414.json\n",
      "Finished Processing 20220415.json\n",
      "Finished Processing 20220416.json\n",
      "Finished Processing 20220417.json\n",
      "Finished Processing 20220418.json\n",
      "Finished Processing 20220419.json\n",
      "Finished Processing 20220420.json\n",
      "Finished Processing 20220421.json\n",
      "Finished Processing 20220422.json\n",
      "Finished Processing 20220423.json\n",
      "Finished Processing 20220424.json\n",
      "Finished Processing 20220425.json\n",
      "Finished Processing 20220426.json\n",
      "Finished Processing 20220427.json\n",
      "Finished Processing 20220428.json\n",
      "Finished Processing 20220429.json\n",
      "Finished Processing 20220430.json\n"
     ]
    },
    {
     "name": "stderr",
     "output_type": "stream",
     "text": [
      "                                                                                \r"
     ]
    }
   ],
   "source": [
    "result = None\n",
    "for file_name in list_file:\n",
    "    date_str = file_name.split('_')[-1].split('.')[0]\n",
    "    file_date = datetime.strptime(date_str, \"%Y%m%d\").date()\n",
    "    \n",
    "    start_date = datetime.strptime(start_date_str, \"%Y%m%d\").date()\n",
    "    end_date = datetime.strptime(end_date_str, \"%Y%m%d\").date()\n",
    "    if start_date <= file_date <= end_date:\n",
    "        df = etl_process(path, file_name, file_date)\n",
    "        if result is None:\n",
    "            result = df\n",
    "        else:\n",
    "            result = result.union(df)\n",
    "            \n",
    "result = result.groupby('Contract','Type','Date').sum()\n",
    "result = result.withColumnRenamed('sum(TotalDuration)','TotalDuration')\n",
    "final = result.groupBy('Contract','Date').pivot(\"Type\").sum('TotalDuration')\n",
    "final = final.withColumnRenamed('Giải Trí', 'RelaxDuration') \\\n",
    "    .withColumnRenamed('Phim Truyện', 'MovieDuration') \\\n",
    "    .withColumnRenamed('Thiếu Nhi', 'ChildDuration') \\\n",
    "    .withColumnRenamed('Thể Thao', 'SportDuration') \\\n",
    "    .withColumnRenamed('Truyền Hình', 'TVDuration')"
   ]
  },
  {
   "cell_type": "code",
   "execution_count": 72,
   "metadata": {},
   "outputs": [
    {
     "name": "stderr",
     "output_type": "stream",
     "text": [
      "[Stage 253:===================================================> (232 + 8) / 240]\r"
     ]
    },
    {
     "name": "stdout",
     "output_type": "stream",
     "text": [
      "+----------+\n",
      "|      Date|\n",
      "+----------+\n",
      "|2022-04-01|\n",
      "|2022-04-02|\n",
      "|2022-04-03|\n",
      "|2022-04-04|\n",
      "|2022-04-05|\n",
      "|2022-04-06|\n",
      "|2022-04-07|\n",
      "|2022-04-08|\n",
      "|2022-04-09|\n",
      "|2022-04-10|\n",
      "|2022-04-11|\n",
      "|2022-04-12|\n",
      "|2022-04-13|\n",
      "|2022-04-14|\n",
      "|2022-04-15|\n",
      "|2022-04-16|\n",
      "|2022-04-17|\n",
      "|2022-04-18|\n",
      "|2022-04-19|\n",
      "|2022-04-20|\n",
      "|2022-04-21|\n",
      "|2022-04-22|\n",
      "|2022-04-23|\n",
      "|2022-04-24|\n",
      "|2022-04-25|\n",
      "|2022-04-26|\n",
      "|2022-04-27|\n",
      "|2022-04-28|\n",
      "|2022-04-29|\n",
      "|2022-04-30|\n",
      "+----------+\n",
      "\n"
     ]
    },
    {
     "name": "stderr",
     "output_type": "stream",
     "text": [
      "                                                                                \r"
     ]
    }
   ],
   "source": [
    "final.select(col('Date')).distinct().show(30)"
   ]
  },
  {
   "cell_type": "markdown",
   "metadata": {},
   "source": [
    "calculate most_watch"
   ]
  },
  {
   "cell_type": "code",
   "execution_count": 12,
   "metadata": {},
   "outputs": [
    {
     "name": "stderr",
     "output_type": "stream",
     "text": [
      "[Stage 84:>                                                         (0 + 1) / 1]\r"
     ]
    },
    {
     "name": "stdout",
     "output_type": "stream",
     "text": [
      "+---------+-----------+-------------+\n",
      "| Contract|       Type|TotalDuration|\n",
      "+---------+-----------+-------------+\n",
      "|SGH292167|Phim Truyện|       298535|\n",
      "|NTFD16511|Truyền Hình|       376444|\n",
      "|TNFD11777|Truyền Hình|       184403|\n",
      "|LCFD14656|Truyền Hình|        55695|\n",
      "|HNJ070566|Truyền Hình|       869801|\n",
      "|HNH259245|Truyền Hình|       760514|\n",
      "|VTD034451|Truyền Hình|       290270|\n",
      "|QNFD66748|Truyền Hình|       355154|\n",
      "|QND055814|Truyền Hình|       511338|\n",
      "|HBFD09242|Truyền Hình|       261433|\n",
      "+---------+-----------+-------------+\n",
      "only showing top 10 rows\n",
      "\n"
     ]
    },
    {
     "name": "stderr",
     "output_type": "stream",
     "text": [
      "                                                                                \r"
     ]
    }
   ],
   "source": [
    "result.show(10)"
   ]
  },
  {
   "cell_type": "code",
   "execution_count": 20,
   "metadata": {},
   "outputs": [
    {
     "name": "stderr",
     "output_type": "stream",
     "text": [
      "[Stage 99:==========================================>              (9 + 3) / 12]\r"
     ]
    },
    {
     "name": "stdout",
     "output_type": "stream",
     "text": [
      "+--------------+-----------+\n",
      "|      Contract|  MostWatch|\n",
      "+--------------+-----------+\n",
      "|113.182.209.48|   Giải Trí|\n",
      "|14.182.110.125|Truyền Hình|\n",
      "|14.189.124.168|Truyền Hình|\n",
      "|     AGAAA0338|Truyền Hình|\n",
      "|     AGAAA0342|Truyền Hình|\n",
      "|     AGAAA0346|Truyền Hình|\n",
      "|     AGAAA0353|Truyền Hình|\n",
      "|     AGAAA0372|Truyền Hình|\n",
      "|     AGAAA0391|Truyền Hình|\n",
      "|     AGAAA0452|Truyền Hình|\n",
      "|     AGAAA0504|Truyền Hình|\n",
      "|     AGAAA0544|Truyền Hình|\n",
      "|     AGAAA0550|Truyền Hình|\n",
      "|     AGAAA0555|Truyền Hình|\n",
      "|     AGAAA0576|Truyền Hình|\n",
      "|     AGAAA0593|Truyền Hình|\n",
      "|     AGAAA0608|Truyền Hình|\n",
      "|     AGAAA0613|Truyền Hình|\n",
      "|     AGAAA0638|Truyền Hình|\n",
      "|     AGAAA0663|Truyền Hình|\n",
      "+--------------+-----------+\n",
      "only showing top 20 rows\n",
      "\n"
     ]
    },
    {
     "name": "stderr",
     "output_type": "stream",
     "text": [
      "                                                                                \r"
     ]
    }
   ],
   "source": [
    "windowSpec = Window.partitionBy(\"Contract\").orderBy(desc(\"TotalDuration\"))\n",
    "mostWatch = result.withColumn(\"rank\",row_number().over(windowSpec))\n",
    "mostWatch = mostWatch.filter(mostWatch.rank==1)\n",
    "mostWatch = mostWatch.select(\"Contract\", \"Type\")\n",
    "mostWatch = mostWatch.withColumnRenamed(\"Type\",\"MostWatch\")\n",
    "mostWatch.show()"
   ]
  },
  {
   "cell_type": "code",
   "execution_count": 21,
   "metadata": {},
   "outputs": [],
   "source": [
    "def most_watch_calc(result):\n",
    "    windowSpec = Window.partitionBy(\"Contract\").orderBy(desc(\"TotalDuration\"))\n",
    "    mostWatch = result.withColumn(\"rank\",row_number().over(windowSpec))\n",
    "    mostWatch = mostWatch.filter(mostWatch.rank==1)\n",
    "    mostWatch = mostWatch.select(\"Contract\", \"Type\")\n",
    "    mostWatch = mostWatch.withColumnRenamed(\"Type\",\"MostWatch\")\n",
    "    return mostWatch"
   ]
  },
  {
   "cell_type": "markdown",
   "metadata": {},
   "source": [
    "calculate customer taste"
   ]
  },
  {
   "cell_type": "code",
   "execution_count": 23,
   "metadata": {},
   "outputs": [
    {
     "name": "stdout",
     "output_type": "stream",
     "text": [
      "root\n",
      " |-- Contract: string (nullable = true)\n",
      " |-- RelaxDuration: long (nullable = true)\n",
      " |-- MovieDuration: long (nullable = true)\n",
      " |-- ChildDuration: long (nullable = true)\n",
      " |-- SportDuration: long (nullable = true)\n",
      " |-- TVDuration: long (nullable = true)\n",
      "\n"
     ]
    }
   ],
   "source": [
    "final.printSchema()"
   ]
  },
  {
   "cell_type": "code",
   "execution_count": 30,
   "metadata": {},
   "outputs": [],
   "source": [
    "def customer_tase_calc(final):\n",
    "    final = final.withColumn(\"RelaxDuration\",when(col(\"RelaxDuration\").isNotNull(),\"Relax\").otherwise(col(\"RelaxDuration\")))\n",
    "    final = final.withColumn(\"MovieDuration\",when(col(\"MovieDuration\").isNotNull(),\"Movie\").otherwise(col(\"MovieDuration\")))\n",
    "    final = final.withColumn(\"ChildDuration\",when(col(\"ChildDuration\").isNotNull(),\"Child\").otherwise(col(\"ChildDuration\")))\n",
    "    final = final.withColumn(\"SportDuration\",when(col(\"SportDuration\").isNotNull(),\"Sport\").otherwise(col(\"SportDuration\")))\n",
    "    final = final.withColumn(\"TVDuration\",when(col(\"TVDuration\").isNotNull(),\"TV\").otherwise(col(\"TVDuration\")))\n",
    "\n",
    "    taste = final.withColumn('CustomerTaste', sf.concat_ws(\"-\", *[i for i in final.columns if i != 'Contract']))\n",
    "    return taste"
   ]
  },
  {
   "cell_type": "markdown",
   "metadata": {},
   "source": [
    "calculate activeness"
   ]
  },
  {
   "cell_type": "code",
   "execution_count": 73,
   "metadata": {},
   "outputs": [
    {
     "name": "stderr",
     "output_type": "stream",
     "text": [
      "[Stage 256:>                                                        (0 + 8) / 8]\r"
     ]
    },
    {
     "name": "stdout",
     "output_type": "stream",
     "text": [
      "Transforming 1 days of data\n"
     ]
    },
    {
     "name": "stderr",
     "output_type": "stream",
     "text": [
      "                                                                                \r"
     ]
    }
   ],
   "source": []
  },
  {
   "cell_type": "code",
   "execution_count": null,
   "metadata": {},
   "outputs": [],
   "source": []
  }
 ],
 "metadata": {
  "kernelspec": {
   "display_name": "Python 3",
   "language": "python",
   "name": "python3"
  },
  "language_info": {
   "codemirror_mode": {
    "name": "ipython",
    "version": 3
   },
   "file_extension": ".py",
   "mimetype": "text/x-python",
   "name": "python",
   "nbconvert_exporter": "python",
   "pygments_lexer": "ipython3",
   "version": "3.10.7"
  }
 },
 "nbformat": 4,
 "nbformat_minor": 2
}
