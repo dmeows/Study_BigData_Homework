{
 "cells": [
  {
   "cell_type": "code",
   "execution_count": 1,
   "metadata": {},
   "outputs": [],
   "source": [
    "from pyspark.sql import SparkSession\n",
    "from pyspark.sql.window import Window\n",
    "from pyspark.sql.functions import col, when, desc\n",
    "from pyspark.sql.functions import row_number\n",
    "import pyspark.sql.functions as sf\n",
    "from datetime import datetime\n",
    "import os"
   ]
  },
  {
   "cell_type": "markdown",
   "metadata": {},
   "source": [
    "Start spark session"
   ]
  },
  {
   "cell_type": "code",
   "execution_count": 2,
   "metadata": {},
   "outputs": [],
   "source": [
    "def get_spark_session():\n",
    "    # return SparkSession.builder.config(\"spark.driver.memory\", \"8g\").config(\n",
    "    #     \"spark.executor.cores\", 8).getOrCreate()\n",
    "    return SparkSession.builder \\\n",
    "        .appName(\"Write to MySQL\") \\\n",
    "        .config(\"spark.jars\", \"/Users/habaokhanh/.ivy2/jars/mysql-connector-java-8.0.30.jar\")\\\n",
    "        .getOrCreate()"
   ]
  },
  {
   "cell_type": "markdown",
   "metadata": {},
   "source": [
    "Read json data"
   ]
  },
  {
   "cell_type": "code",
   "execution_count": 3,
   "metadata": {},
   "outputs": [],
   "source": [
    "def read_json_data(spark, path, file_name):\n",
    "    data = spark.read.json(path + file_name)\n",
    "    return data.select('_source.*')"
   ]
  },
  {
   "cell_type": "markdown",
   "metadata": {},
   "source": [
    "Functions preparation"
   ]
  },
  {
   "cell_type": "code",
   "execution_count": 4,
   "metadata": {},
   "outputs": [],
   "source": [
    "def add_type_column(df):\n",
    "    tv_condition_list = ['CHANNEL', 'DSHD', 'KPLUS', 'KPlus']\n",
    "    movie_condition_list = ['VOD', 'FIMS_RES', 'BHD_RES', 'VOD_RES', 'FIMS', 'BHD', 'DANET']\n",
    "    df = df.withColumn(\"Type\",\n",
    "                       when(col(\"AppName\").isin(*tv_condition_list), \"Truyền Hình\")\n",
    "                       .when(col(\"AppName\").isin(*movie_condition_list),\"Phim Truyện\")\n",
    "                       .when(col(\"AppName\") == 'RELAX', \"Giải Trí\")\n",
    "                       .when(col(\"AppName\") == 'CHILD', \"Thiếu Nhi\")\n",
    "                       .when(col(\"AppName\") == 'SPORT', \"Thể Thao\")\n",
    "                       .otherwise(\"Error\"))\n",
    "    return df\n",
    "\n",
    "def rename_column(df):\n",
    "    df = df.withColumnRenamed('Giải Trí', 'RelaxDuration') \\\n",
    "        .withColumnRenamed('Phim Truyện', 'MovieDuration') \\\n",
    "        .withColumnRenamed('Thiếu Nhi', 'ChildDuration') \\\n",
    "        .withColumnRenamed('Thể Thao', 'SportDuration') \\\n",
    "        .withColumnRenamed('Truyền Hình', 'TVDuration')\n",
    "    return df"
   ]
  },
  {
   "cell_type": "code",
   "execution_count": 5,
   "metadata": {},
   "outputs": [],
   "source": [
    "def add_date_filter_non_error(df, file_date):\n",
    "    df = df.withColumn('Date', sf.lit(file_date))\n",
    "    df = df.filter(df.Type != 'Error').select('Contract', 'Type', 'TotalDuration', 'Date').dropDuplicates()\n",
    "    return df"
   ]
  },
  {
   "cell_type": "code",
   "execution_count": 6,
   "metadata": {},
   "outputs": [],
   "source": [
    "def calculate_most_watched(df):\n",
    "    windowSpec = Window.partitionBy(\"Contract\").orderBy(desc(\"TotalDuration\"))\n",
    "    most_watched = df.withColumn(\"rank\", row_number().over(windowSpec))\n",
    "    most_watched = most_watched.filter(most_watched.rank == 1)\n",
    "    return most_watched.select(\"Contract\", \"Type\").withColumnRenamed(\"Type\", \"MostWatch\")"
   ]
  },
  {
   "cell_type": "code",
   "execution_count": 7,
   "metadata": {},
   "outputs": [],
   "source": [
    "def calculate_customer_taste(df):\n",
    "    for column in df.columns:\n",
    "        if 'Duration' in column:\n",
    "            df = df.withColumn(column, when(col(column).isNotNull(), column[:-8]))\n",
    "\n",
    "    taste = df.withColumn('CustomerTaste',\n",
    "                           sf.concat_ws(\"-\", *[col(i) for i in df.columns if 'Duration' in i]))\n",
    "\n",
    "    taste = taste.select('Contract', 'CustomerTaste')\n",
    "    return taste"
   ]
  },
  {
   "cell_type": "code",
   "execution_count": 8,
   "metadata": {},
   "outputs": [],
   "source": [
    "def calculate_activeness(df, start_date, end_date):\n",
    "    total_days = (end_date - start_date).days + 1\n",
    "    \n",
    "    active = df.groupby('Contract', 'Date').agg((sf.sum('TotalDuration').alias('TotalDurationPerDay')))\n",
    "    active = active.withColumn(\"IsActive\", sf.when(active.TotalDurationPerDay > 0, 1).otherwise(0))\n",
    "\n",
    "    activeness = active.groupBy(\"Contract\").agg(sf.sum(\"IsActive\").alias(\"ActiveDays\"))\n",
    "    activeness = activeness.withColumn(\"ActiveRate\", (sf.col(\"ActiveDays\") / sf.lit(total_days)))\n",
    "    return activeness"
   ]
  },
  {
   "cell_type": "code",
   "execution_count": 9,
   "metadata": {},
   "outputs": [],
   "source": [
    "def join_dataframes(final_df, most_watched_df, customer_taste_df, activeness_df):\n",
    "    final_df = final_df.join(most_watched_df, on='Contract', how='left')\n",
    "    final_df = final_df.join(customer_taste_df, on='Contract', how='left')\n",
    "    final_df = final_df.join(activeness_df, on='Contract', how='left')\n",
    "    return final_df"
   ]
  },
  {
   "cell_type": "code",
   "execution_count": 10,
   "metadata": {},
   "outputs": [],
   "source": [
    "def write_data(df):\n",
    "    # df.repartition(1).write.csv('/Users/habaokhanh/Study_BigData_Dataset/log_content/clean/df_clean1', header=True)\n",
    "    jdbc_url = \"jdbc:mysql://localhost:3306\"\n",
    "    db_name = \"movie\"\n",
    "    table_name = \"log_movie_olap\"\n",
    "    mysql_url = f\"{jdbc_url}/{db_name}\"\n",
    "    db_properties = {\n",
    "        \"user\": \"root\",\n",
    "        \"password\": \"h@b@0kh@nh\", \n",
    "        \"driver\": \"com.mysql.cj.jdbc.Driver\"\n",
    "    }\n",
    "    df.write\\\n",
    "    .mode(\"overwrite\") \\\n",
    "    .jdbc(url=mysql_url, table=table_name, mode=\"overwrite\", properties=db_properties)"
   ]
  },
  {
   "cell_type": "markdown",
   "metadata": {},
   "source": [
    "Test & modify main task"
   ]
  },
  {
   "cell_type": "code",
   "execution_count": 11,
   "metadata": {},
   "outputs": [],
   "source": [
    "def main_task(start_date_str, end_date_str):\n",
    "    start_time = datetime.now()\n",
    "\n",
    "    # Extract\n",
    "    path = '/Users/habaokhanh/Study_BigData_Dataset/log_content/'\n",
    "    list_file = sorted([file for file in os.listdir(path) if file != '.DS_Store'])\n",
    "    spark = get_spark_session()\n",
    "    start_date = datetime.strptime(start_date_str, \"%Y%m%d\").date()\n",
    "    end_date = datetime.strptime(end_date_str, \"%Y%m%d\").date()\n",
    "\n",
    "    result_df = None\n",
    "    for file_name in list_file:\n",
    "        file_date_str = file_name.split('_')[-1].split('.')[0]\n",
    "        file_date = datetime.strptime(file_date_str, \"%Y%m%d\").date()\n",
    "        if start_date <= file_date <= end_date:\n",
    "            df = read_json_data(spark, path, file_name)\n",
    "            df = add_type_column(df)\n",
    "            df = add_date_filter_non_error(df, file_date)\n",
    "\n",
    "            if result_df is None:\n",
    "                result_df = df\n",
    "            else:\n",
    "                result_df = result_df.union(df)\n",
    "    \n",
    "    return result_df"
   ]
  },
  {
   "cell_type": "code",
   "execution_count": 12,
   "metadata": {},
   "outputs": [
    {
     "name": "stderr",
     "output_type": "stream",
     "text": [
      "23/11/08 17:45:20 WARN Utils: Your hostname, MacBook-Air.local resolves to a loopback address: 127.0.0.1; using 192.168.1.9 instead (on interface en0)\n",
      "23/11/08 17:45:20 WARN Utils: Set SPARK_LOCAL_IP if you need to bind to another address\n",
      "23/11/08 17:45:20 WARN NativeCodeLoader: Unable to load native-hadoop library for your platform... using builtin-java classes where applicable\n",
      "Setting default log level to \"WARN\".\n",
      "To adjust logging level use sc.setLogLevel(newLevel). For SparkR, use setLogLevel(newLevel).\n",
      "23/11/08 17:45:21 WARN Utils: Service 'SparkUI' could not bind on port 4040. Attempting port 4041.\n",
      "23/11/08 17:45:21 WARN Utils: Service 'SparkUI' could not bind on port 4041. Attempting port 4042.\n",
      "                                                                                \r"
     ]
    }
   ],
   "source": [
    "result_df = main_task('20220401', '20220403')"
   ]
  },
  {
   "cell_type": "code",
   "execution_count": 13,
   "metadata": {},
   "outputs": [
    {
     "name": "stderr",
     "output_type": "stream",
     "text": [
      "[Stage 5:=======>                                                   (1 + 7) / 8]\r"
     ]
    },
    {
     "name": "stdout",
     "output_type": "stream",
     "text": [
      "+---------+-----------+-------------+----------+\n",
      "| Contract|       Type|TotalDuration|      Date|\n",
      "+---------+-----------+-------------+----------+\n",
      "|BGFD29928|Truyền Hình|          669|2022-04-01|\n",
      "|NDD011998|Truyền Hình|        18941|2022-04-01|\n",
      "|HND486882|Phim Truyện|         5545|2022-04-01|\n",
      "|QAFD05596|Truyền Hình|        83495|2022-04-01|\n",
      "|HNH910024|Phim Truyện|         2847|2022-04-01|\n",
      "|TGD020392|Phim Truyện|        17534|2022-04-01|\n",
      "|TBFD09573|Phim Truyện|        14544|2022-04-01|\n",
      "|TIFD29139|Phim Truyện|        25726|2022-04-01|\n",
      "|BID025030|Truyền Hình|          170|2022-04-01|\n",
      "|SGH069784|Truyền Hình|          151|2022-04-01|\n",
      "|SGH936402|Truyền Hình|           61|2022-04-01|\n",
      "|CBFD00028|Truyền Hình|        82141|2022-04-01|\n",
      "|HPFD25462|Truyền Hình|        82775|2022-04-01|\n",
      "|HND204270|Truyền Hình|        18770|2022-04-01|\n",
      "|DAFD39835|Phim Truyện|         6728|2022-04-01|\n",
      "|SGH661929|Phim Truyện|         7847|2022-04-01|\n",
      "|BDAAA4088|Truyền Hình|          587|2022-04-01|\n",
      "|HYFD17846|Truyền Hình|        82625|2022-04-01|\n",
      "|HPFD95836|Truyền Hình|        82406|2022-04-01|\n",
      "|HNH975850|Truyền Hình|        82397|2022-04-01|\n",
      "+---------+-----------+-------------+----------+\n",
      "only showing top 20 rows\n",
      "\n"
     ]
    },
    {
     "name": "stderr",
     "output_type": "stream",
     "text": [
      "                                                                                \r"
     ]
    }
   ],
   "source": [
    "result_df.show()"
   ]
  },
  {
   "cell_type": "code",
   "execution_count": 14,
   "metadata": {},
   "outputs": [
    {
     "name": "stderr",
     "output_type": "stream",
     "text": [
      "23/11/08 17:45:49 WARN RowBasedKeyValueBatch: Calling spill() on RowBasedKeyValueBatch. Will not spill but return 0.\n",
      "23/11/08 17:45:49 WARN RowBasedKeyValueBatch: Calling spill() on RowBasedKeyValueBatch. Will not spill but return 0.\n",
      "23/11/08 17:45:49 WARN RowBasedKeyValueBatch: Calling spill() on RowBasedKeyValueBatch. Will not spill but return 0.\n",
      "23/11/08 17:45:49 WARN RowBasedKeyValueBatch: Calling spill() on RowBasedKeyValueBatch. Will not spill but return 0.\n",
      "23/11/08 17:45:49 WARN RowBasedKeyValueBatch: Calling spill() on RowBasedKeyValueBatch. Will not spill but return 0.\n",
      "23/11/08 17:45:49 WARN RowBasedKeyValueBatch: Calling spill() on RowBasedKeyValueBatch. Will not spill but return 0.\n",
      "23/11/08 17:45:49 WARN RowBasedKeyValueBatch: Calling spill() on RowBasedKeyValueBatch. Will not spill but return 0.\n",
      "23/11/08 17:45:49 WARN RowBasedKeyValueBatch: Calling spill() on RowBasedKeyValueBatch. Will not spill but return 0.\n",
      "23/11/08 17:45:49 WARN RowBasedKeyValueBatch: Calling spill() on RowBasedKeyValueBatch. Will not spill but return 0.\n",
      "23/11/08 17:45:49 WARN RowBasedKeyValueBatch: Calling spill() on RowBasedKeyValueBatch. Will not spill but return 0.\n",
      "23/11/08 17:45:49 WARN RowBasedKeyValueBatch: Calling spill() on RowBasedKeyValueBatch. Will not spill but return 0.\n",
      "23/11/08 17:45:49 WARN RowBasedKeyValueBatch: Calling spill() on RowBasedKeyValueBatch. Will not spill but return 0.\n",
      "23/11/08 17:45:49 WARN RowBasedKeyValueBatch: Calling spill() on RowBasedKeyValueBatch. Will not spill but return 0.\n",
      "23/11/08 17:45:49 WARN RowBasedKeyValueBatch: Calling spill() on RowBasedKeyValueBatch. Will not spill but return 0.\n",
      "23/11/08 17:45:49 WARN RowBasedKeyValueBatch: Calling spill() on RowBasedKeyValueBatch. Will not spill but return 0.\n",
      "23/11/08 17:45:49 WARN RowBasedKeyValueBatch: Calling spill() on RowBasedKeyValueBatch. Will not spill but return 0.\n",
      "23/11/08 17:45:50 WARN RowBasedKeyValueBatch: Calling spill() on RowBasedKeyValueBatch. Will not spill but return 0.\n",
      "23/11/08 17:45:50 WARN RowBasedKeyValueBatch: Calling spill() on RowBasedKeyValueBatch. Will not spill but return 0.\n",
      "23/11/08 17:45:50 WARN RowBasedKeyValueBatch: Calling spill() on RowBasedKeyValueBatch. Will not spill but return 0.\n",
      "23/11/08 17:45:50 WARN RowBasedKeyValueBatch: Calling spill() on RowBasedKeyValueBatch. Will not spill but return 0.\n",
      "23/11/08 17:45:50 WARN RowBasedKeyValueBatch: Calling spill() on RowBasedKeyValueBatch. Will not spill but return 0.\n",
      "23/11/08 17:45:50 WARN RowBasedKeyValueBatch: Calling spill() on RowBasedKeyValueBatch. Will not spill but return 0.\n",
      "23/11/08 17:45:50 WARN RowBasedKeyValueBatch: Calling spill() on RowBasedKeyValueBatch. Will not spill but return 0.\n",
      "23/11/08 17:45:50 WARN RowBasedKeyValueBatch: Calling spill() on RowBasedKeyValueBatch. Will not spill but return 0.\n",
      "23/11/08 17:45:50 WARN RowBasedKeyValueBatch: Calling spill() on RowBasedKeyValueBatch. Will not spill but return 0.\n",
      "23/11/08 17:45:50 WARN RowBasedKeyValueBatch: Calling spill() on RowBasedKeyValueBatch. Will not spill but return 0.\n",
      "23/11/08 17:45:50 WARN RowBasedKeyValueBatch: Calling spill() on RowBasedKeyValueBatch. Will not spill but return 0.\n",
      "23/11/08 17:45:50 WARN RowBasedKeyValueBatch: Calling spill() on RowBasedKeyValueBatch. Will not spill but return 0.\n",
      "23/11/08 17:45:50 WARN RowBasedKeyValueBatch: Calling spill() on RowBasedKeyValueBatch. Will not spill but return 0.\n",
      "23/11/08 17:45:50 WARN RowBasedKeyValueBatch: Calling spill() on RowBasedKeyValueBatch. Will not spill but return 0.\n",
      "23/11/08 17:45:50 WARN RowBasedKeyValueBatch: Calling spill() on RowBasedKeyValueBatch. Will not spill but return 0.\n",
      "23/11/08 17:45:50 WARN RowBasedKeyValueBatch: Calling spill() on RowBasedKeyValueBatch. Will not spill but return 0.\n",
      "[Stage 44:>                                                         (0 + 8) / 9]\r"
     ]
    },
    {
     "name": "stdout",
     "output_type": "stream",
     "text": [
      "+---------+----------+-------------+-------------+-------------+-------------+----------+\n",
      "| Contract|      Date|RelaxDuration|MovieDuration|ChildDuration|SportDuration|TVDuration|\n",
      "+---------+----------+-------------+-------------+-------------+-------------+----------+\n",
      "|AGAAA1203|2022-04-03|         null|         null|         null|         null|      9162|\n",
      "|AGAAA1415|2022-04-03|         null|         null|         null|         null|      2383|\n",
      "|AGAAA1461|2022-04-03|         null|         null|         null|         null|     52712|\n",
      "|AGD031770|2022-04-02|         null|         null|         null|         null|      8926|\n",
      "|AGFD00099|2022-04-01|         null|         null|         null|         null|        87|\n",
      "|AGFD04698|2022-04-02|         null|         null|         null|         null|     38488|\n",
      "|AGFD09595|2022-04-01|         null|         null|         null|         null|      4612|\n",
      "|AGFD10782|2022-04-01|         null|         7676|         1521|         null|       104|\n",
      "|AGFD11789|2022-04-02|         null|         null|         null|         null|        32|\n",
      "|AGFD12029|2022-04-02|         null|         null|         null|         null|     28401|\n",
      "|AGFD13638|2022-04-01|         null|         null|         null|         null|      2172|\n",
      "|AGFD15028|2022-04-03|         null|         null|         1405|         null|      5530|\n",
      "|AGFD17589|2022-04-02|           64|           34|           94|           47|       132|\n",
      "|AGFD26512|2022-04-01|         null|         null|         null|         null|      1483|\n",
      "|AGFD30875|2022-04-02|         null|         null|         null|         null|        25|\n",
      "|AGFD31724|2022-04-03|         null|         null|         null|         null|     57667|\n",
      "|AGFD35499|2022-04-02|         null|         null|         null|         null|     78172|\n",
      "|AGFD35884|2022-04-02|         null|         null|         null|         null|     86400|\n",
      "|AGFD36965|2022-04-03|         null|         null|         null|         null|       321|\n",
      "|AGFD41051|2022-04-01|         null|         null|         null|         null|     16309|\n",
      "+---------+----------+-------------+-------------+-------------+-------------+----------+\n",
      "only showing top 20 rows\n",
      "\n"
     ]
    },
    {
     "name": "stderr",
     "output_type": "stream",
     "text": [
      "                                                                                \r"
     ]
    }
   ],
   "source": [
    "result_df_pivot = result_df.groupBy('Contract','Date').pivot(\"Type\").sum('TotalDuration')\n",
    "result_df_pivot = rename_column(result_df_pivot)\n",
    "result_df_pivot.show()"
   ]
  },
  {
   "cell_type": "markdown",
   "metadata": {},
   "source": [
    "Most watched df"
   ]
  },
  {
   "cell_type": "code",
   "execution_count": 15,
   "metadata": {},
   "outputs": [
    {
     "name": "stderr",
     "output_type": "stream",
     "text": [
      "[Stage 57:===================================================>      (8 + 1) / 9]\r"
     ]
    },
    {
     "name": "stdout",
     "output_type": "stream",
     "text": [
      "+--------------+-----------+\n",
      "|      Contract|  MostWatch|\n",
      "+--------------+-----------+\n",
      "|113.182.209.48|   Giải Trí|\n",
      "|     AGAAA0338|Truyền Hình|\n",
      "|     AGAAA0342|Truyền Hình|\n",
      "|     AGAAA0346|Truyền Hình|\n",
      "|     AGAAA0353|Phim Truyện|\n",
      "|     AGAAA0372|Truyền Hình|\n",
      "|     AGAAA0391|Truyền Hình|\n",
      "|     AGAAA0504|Truyền Hình|\n",
      "|     AGAAA0544|Truyền Hình|\n",
      "|     AGAAA0550|Truyền Hình|\n",
      "|     AGAAA0555|Truyền Hình|\n",
      "|     AGAAA0576|Truyền Hình|\n",
      "|     AGAAA0613|Truyền Hình|\n",
      "|     AGAAA0638|Truyền Hình|\n",
      "|     AGAAA0663|Truyền Hình|\n",
      "|     AGAAA0693|Truyền Hình|\n",
      "|     AGAAA0718|Truyền Hình|\n",
      "|     AGAAA0723|Truyền Hình|\n",
      "|     AGAAA0732|Truyền Hình|\n",
      "|     AGAAA0750|Truyền Hình|\n",
      "+--------------+-----------+\n",
      "only showing top 20 rows\n",
      "\n"
     ]
    },
    {
     "name": "stderr",
     "output_type": "stream",
     "text": [
      "                                                                                \r"
     ]
    }
   ],
   "source": [
    "most_watched_df = calculate_most_watched(result_df)\n",
    "most_watched_df.show()"
   ]
  },
  {
   "cell_type": "markdown",
   "metadata": {},
   "source": [
    "Customer taste"
   ]
  },
  {
   "cell_type": "code",
   "execution_count": 16,
   "metadata": {},
   "outputs": [
    {
     "name": "stderr",
     "output_type": "stream",
     "text": [
      "23/11/08 17:46:12 WARN RowBasedKeyValueBatch: Calling spill() on RowBasedKeyValueBatch. Will not spill but return 0.\n",
      "23/11/08 17:46:12 WARN RowBasedKeyValueBatch: Calling spill() on RowBasedKeyValueBatch. Will not spill but return 0.\n",
      "23/11/08 17:46:12 WARN RowBasedKeyValueBatch: Calling spill() on RowBasedKeyValueBatch. Will not spill but return 0.\n",
      "23/11/08 17:46:12 WARN RowBasedKeyValueBatch: Calling spill() on RowBasedKeyValueBatch. Will not spill but return 0.\n",
      "23/11/08 17:46:12 WARN RowBasedKeyValueBatch: Calling spill() on RowBasedKeyValueBatch. Will not spill but return 0.\n",
      "23/11/08 17:46:12 WARN RowBasedKeyValueBatch: Calling spill() on RowBasedKeyValueBatch. Will not spill but return 0.\n",
      "23/11/08 17:46:12 WARN RowBasedKeyValueBatch: Calling spill() on RowBasedKeyValueBatch. Will not spill but return 0.\n",
      "23/11/08 17:46:12 WARN RowBasedKeyValueBatch: Calling spill() on RowBasedKeyValueBatch. Will not spill but return 0.\n",
      "23/11/08 17:46:12 WARN RowBasedKeyValueBatch: Calling spill() on RowBasedKeyValueBatch. Will not spill but return 0.\n",
      "23/11/08 17:46:12 WARN RowBasedKeyValueBatch: Calling spill() on RowBasedKeyValueBatch. Will not spill but return 0.\n",
      "23/11/08 17:46:12 WARN RowBasedKeyValueBatch: Calling spill() on RowBasedKeyValueBatch. Will not spill but return 0.\n",
      "23/11/08 17:46:12 WARN RowBasedKeyValueBatch: Calling spill() on RowBasedKeyValueBatch. Will not spill but return 0.\n",
      "23/11/08 17:46:12 WARN RowBasedKeyValueBatch: Calling spill() on RowBasedKeyValueBatch. Will not spill but return 0.\n",
      "23/11/08 17:46:12 WARN RowBasedKeyValueBatch: Calling spill() on RowBasedKeyValueBatch. Will not spill but return 0.\n",
      "23/11/08 17:46:12 WARN RowBasedKeyValueBatch: Calling spill() on RowBasedKeyValueBatch. Will not spill but return 0.\n",
      "23/11/08 17:46:12 WARN RowBasedKeyValueBatch: Calling spill() on RowBasedKeyValueBatch. Will not spill but return 0.\n",
      "23/11/08 17:46:13 WARN RowBasedKeyValueBatch: Calling spill() on RowBasedKeyValueBatch. Will not spill but return 0.\n",
      "23/11/08 17:46:13 WARN RowBasedKeyValueBatch: Calling spill() on RowBasedKeyValueBatch. Will not spill but return 0.\n",
      "23/11/08 17:46:13 WARN RowBasedKeyValueBatch: Calling spill() on RowBasedKeyValueBatch. Will not spill but return 0.\n",
      "23/11/08 17:46:13 WARN RowBasedKeyValueBatch: Calling spill() on RowBasedKeyValueBatch. Will not spill but return 0.\n",
      "23/11/08 17:46:13 WARN RowBasedKeyValueBatch: Calling spill() on RowBasedKeyValueBatch. Will not spill but return 0.\n",
      "23/11/08 17:46:13 WARN RowBasedKeyValueBatch: Calling spill() on RowBasedKeyValueBatch. Will not spill but return 0.\n",
      "23/11/08 17:46:13 WARN RowBasedKeyValueBatch: Calling spill() on RowBasedKeyValueBatch. Will not spill but return 0.\n",
      "23/11/08 17:46:13 WARN RowBasedKeyValueBatch: Calling spill() on RowBasedKeyValueBatch. Will not spill but return 0.\n",
      "23/11/08 17:46:13 WARN RowBasedKeyValueBatch: Calling spill() on RowBasedKeyValueBatch. Will not spill but return 0.\n",
      "23/11/08 17:46:13 WARN RowBasedKeyValueBatch: Calling spill() on RowBasedKeyValueBatch. Will not spill but return 0.\n",
      "23/11/08 17:46:13 WARN RowBasedKeyValueBatch: Calling spill() on RowBasedKeyValueBatch. Will not spill but return 0.\n",
      "23/11/08 17:46:13 WARN RowBasedKeyValueBatch: Calling spill() on RowBasedKeyValueBatch. Will not spill but return 0.\n",
      "23/11/08 17:46:13 WARN RowBasedKeyValueBatch: Calling spill() on RowBasedKeyValueBatch. Will not spill but return 0.\n",
      "23/11/08 17:46:13 WARN RowBasedKeyValueBatch: Calling spill() on RowBasedKeyValueBatch. Will not spill but return 0.\n",
      "23/11/08 17:46:13 WARN RowBasedKeyValueBatch: Calling spill() on RowBasedKeyValueBatch. Will not spill but return 0.\n",
      "23/11/08 17:46:13 WARN RowBasedKeyValueBatch: Calling spill() on RowBasedKeyValueBatch. Will not spill but return 0.\n",
      "[Stage 74:======>                                                   (1 + 8) / 9]\r"
     ]
    },
    {
     "name": "stdout",
     "output_type": "stream",
     "text": [
      "+---------+--------------------+\n",
      "| Contract|       CustomerTaste|\n",
      "+---------+--------------------+\n",
      "|AGAAA1203|                  TV|\n",
      "|AGAAA1415|                  TV|\n",
      "|AGAAA1461|                  TV|\n",
      "|AGD031770|                  TV|\n",
      "|AGFD00099|                  TV|\n",
      "|AGFD04698|                  TV|\n",
      "|AGFD09595|                  TV|\n",
      "|AGFD10782|      Movie-Child-TV|\n",
      "|AGFD11789|                  TV|\n",
      "|AGFD12029|                  TV|\n",
      "|AGFD13638|                  TV|\n",
      "|AGFD15028|            Child-TV|\n",
      "|AGFD17589|Relax-Movie-Child...|\n",
      "|AGFD26512|                  TV|\n",
      "|AGFD30875|                  TV|\n",
      "|AGFD31724|                  TV|\n",
      "|AGFD35499|                  TV|\n",
      "|AGFD35884|                  TV|\n",
      "|AGFD36965|                  TV|\n",
      "|AGFD41051|                  TV|\n",
      "+---------+--------------------+\n",
      "only showing top 20 rows\n",
      "\n"
     ]
    },
    {
     "name": "stderr",
     "output_type": "stream",
     "text": [
      "                                                                                \r"
     ]
    }
   ],
   "source": [
    "customer_taste_df = calculate_customer_taste(result_df_pivot)\n",
    "customer_taste_df.show()"
   ]
  },
  {
   "cell_type": "markdown",
   "metadata": {},
   "source": [
    "Active rate"
   ]
  },
  {
   "cell_type": "code",
   "execution_count": 19,
   "metadata": {},
   "outputs": [
    {
     "name": "stderr",
     "output_type": "stream",
     "text": [
      "23/11/08 17:50:24 WARN RowBasedKeyValueBatch: Calling spill() on RowBasedKeyValueBatch. Will not spill but return 0.\n",
      "23/11/08 17:50:24 WARN RowBasedKeyValueBatch: Calling spill() on RowBasedKeyValueBatch. Will not spill but return 0.\n",
      "23/11/08 17:50:24 WARN RowBasedKeyValueBatch: Calling spill() on RowBasedKeyValueBatch. Will not spill but return 0.\n",
      "23/11/08 17:50:24 WARN RowBasedKeyValueBatch: Calling spill() on RowBasedKeyValueBatch. Will not spill but return 0.\n",
      "23/11/08 17:50:24 WARN RowBasedKeyValueBatch: Calling spill() on RowBasedKeyValueBatch. Will not spill but return 0.\n",
      "23/11/08 17:50:24 WARN RowBasedKeyValueBatch: Calling spill() on RowBasedKeyValueBatch. Will not spill but return 0.\n",
      "23/11/08 17:50:24 WARN RowBasedKeyValueBatch: Calling spill() on RowBasedKeyValueBatch. Will not spill but return 0.\n",
      "23/11/08 17:50:24 WARN RowBasedKeyValueBatch: Calling spill() on RowBasedKeyValueBatch. Will not spill but return 0.\n",
      "23/11/08 17:50:24 WARN RowBasedKeyValueBatch: Calling spill() on RowBasedKeyValueBatch. Will not spill but return 0.\n",
      "23/11/08 17:50:24 WARN RowBasedKeyValueBatch: Calling spill() on RowBasedKeyValueBatch. Will not spill but return 0.\n",
      "23/11/08 17:50:24 WARN RowBasedKeyValueBatch: Calling spill() on RowBasedKeyValueBatch. Will not spill but return 0.\n",
      "23/11/08 17:50:24 WARN RowBasedKeyValueBatch: Calling spill() on RowBasedKeyValueBatch. Will not spill but return 0.\n",
      "23/11/08 17:50:24 WARN RowBasedKeyValueBatch: Calling spill() on RowBasedKeyValueBatch. Will not spill but return 0.\n",
      "23/11/08 17:50:24 WARN RowBasedKeyValueBatch: Calling spill() on RowBasedKeyValueBatch. Will not spill but return 0.\n",
      "23/11/08 17:50:24 WARN RowBasedKeyValueBatch: Calling spill() on RowBasedKeyValueBatch. Will not spill but return 0.\n",
      "23/11/08 17:50:24 WARN RowBasedKeyValueBatch: Calling spill() on RowBasedKeyValueBatch. Will not spill but return 0.\n",
      "23/11/08 17:50:26 WARN RowBasedKeyValueBatch: Calling spill() on RowBasedKeyValueBatch. Will not spill but return 0.\n",
      "23/11/08 17:50:26 WARN RowBasedKeyValueBatch: Calling spill() on RowBasedKeyValueBatch. Will not spill but return 0.\n",
      "23/11/08 17:50:26 WARN RowBasedKeyValueBatch: Calling spill() on RowBasedKeyValueBatch. Will not spill but return 0.\n",
      "[Stage 110:>                                                        (0 + 8) / 9]\r"
     ]
    },
    {
     "name": "stdout",
     "output_type": "stream",
     "text": [
      "+---------+----------+------------------+\n",
      "| Contract|ActiveDays|        ActiveRate|\n",
      "+---------+----------+------------------+\n",
      "|HNH332181|         3|               1.0|\n",
      "|HNH794192|         1|0.3333333333333333|\n",
      "|HNH870395|         3|               1.0|\n",
      "|HYFD47097|         3|               1.0|\n",
      "|HYFD55120|         3|               1.0|\n",
      "|KGFD09873|         3|               1.0|\n",
      "|QNFD34621|         3|               1.0|\n",
      "|QNFD67022|         3|               1.0|\n",
      "|SGD162987|         3|               1.0|\n",
      "|SGH093032|         3|               1.0|\n",
      "|SGH494322|         3|               1.0|\n",
      "|STFD21925|         3|               1.0|\n",
      "|TNFD17016|         3|               1.0|\n",
      "|HNH871147|         3|               1.0|\n",
      "|HUFD05523|         3|               1.0|\n",
      "|HYFD43307|         3|               1.0|\n",
      "|NDFD19838|         3|               1.0|\n",
      "|QNFD76024|         3|               1.0|\n",
      "|SGD487844|         3|               1.0|\n",
      "|SGJ005892|         3|               1.0|\n",
      "+---------+----------+------------------+\n",
      "only showing top 20 rows\n",
      "\n"
     ]
    },
    {
     "name": "stderr",
     "output_type": "stream",
     "text": [
      "                                                                                \r"
     ]
    }
   ],
   "source": [
    "start_date_str = '20220401'\n",
    "end_date_str = '20220403'\n",
    "start_date = datetime.strptime(start_date_str, \"%Y%m%d\").date()\n",
    "end_date = datetime.strptime(end_date_str, \"%Y%m%d\").date()\n",
    "\n",
    "activeness_df = calculate_activeness(result_df, start_date, end_date)\n",
    "activeness_df.show()"
   ]
  },
  {
   "cell_type": "markdown",
   "metadata": {},
   "source": [
    "Final df to write to db"
   ]
  },
  {
   "cell_type": "code",
   "execution_count": 20,
   "metadata": {},
   "outputs": [
    {
     "name": "stderr",
     "output_type": "stream",
     "text": [
      "23/11/08 17:50:33 WARN RowBasedKeyValueBatch: Calling spill() on RowBasedKeyValueBatch. Will not spill but return 0.\n",
      "23/11/08 17:50:33 WARN RowBasedKeyValueBatch: Calling spill() on RowBasedKeyValueBatch. Will not spill but return 0.\n",
      "23/11/08 17:50:33 WARN RowBasedKeyValueBatch: Calling spill() on RowBasedKeyValueBatch. Will not spill but return 0.\n",
      "23/11/08 17:50:33 WARN RowBasedKeyValueBatch: Calling spill() on RowBasedKeyValueBatch. Will not spill but return 0.\n",
      "23/11/08 17:50:33 WARN RowBasedKeyValueBatch: Calling spill() on RowBasedKeyValueBatch. Will not spill but return 0.\n",
      "23/11/08 17:50:33 WARN RowBasedKeyValueBatch: Calling spill() on RowBasedKeyValueBatch. Will not spill but return 0.\n",
      "23/11/08 17:50:33 WARN RowBasedKeyValueBatch: Calling spill() on RowBasedKeyValueBatch. Will not spill but return 0.\n",
      "23/11/08 17:50:33 WARN RowBasedKeyValueBatch: Calling spill() on RowBasedKeyValueBatch. Will not spill but return 0.\n",
      "23/11/08 17:50:33 WARN RowBasedKeyValueBatch: Calling spill() on RowBasedKeyValueBatch. Will not spill but return 0.\n",
      "23/11/08 17:50:33 WARN RowBasedKeyValueBatch: Calling spill() on RowBasedKeyValueBatch. Will not spill but return 0.\n",
      "23/11/08 17:50:33 WARN RowBasedKeyValueBatch: Calling spill() on RowBasedKeyValueBatch. Will not spill but return 0.\n",
      "23/11/08 17:50:33 WARN RowBasedKeyValueBatch: Calling spill() on RowBasedKeyValueBatch. Will not spill but return 0.\n",
      "23/11/08 17:50:33 WARN RowBasedKeyValueBatch: Calling spill() on RowBasedKeyValueBatch. Will not spill but return 0.\n",
      "23/11/08 17:50:33 WARN RowBasedKeyValueBatch: Calling spill() on RowBasedKeyValueBatch. Will not spill but return 0.\n",
      "23/11/08 17:50:34 WARN RowBasedKeyValueBatch: Calling spill() on RowBasedKeyValueBatch. Will not spill but return 0.\n",
      "23/11/08 17:50:34 WARN RowBasedKeyValueBatch: Calling spill() on RowBasedKeyValueBatch. Will not spill but return 0.\n",
      "23/11/08 17:50:34 WARN RowBasedKeyValueBatch: Calling spill() on RowBasedKeyValueBatch. Will not spill but return 0.\n",
      "23/11/08 17:50:34 WARN RowBasedKeyValueBatch: Calling spill() on RowBasedKeyValueBatch. Will not spill but return 0.\n",
      "23/11/08 17:50:34 WARN RowBasedKeyValueBatch: Calling spill() on RowBasedKeyValueBatch. Will not spill but return 0.\n",
      "23/11/08 17:50:34 WARN RowBasedKeyValueBatch: Calling spill() on RowBasedKeyValueBatch. Will not spill but return 0.\n",
      "23/11/08 17:50:34 WARN RowBasedKeyValueBatch: Calling spill() on RowBasedKeyValueBatch. Will not spill but return 0.\n",
      "23/11/08 17:50:34 WARN RowBasedKeyValueBatch: Calling spill() on RowBasedKeyValueBatch. Will not spill but return 0.\n",
      "23/11/08 17:50:34 WARN RowBasedKeyValueBatch: Calling spill() on RowBasedKeyValueBatch. Will not spill but return 0.\n",
      "23/11/08 17:50:34 WARN RowBasedKeyValueBatch: Calling spill() on RowBasedKeyValueBatch. Will not spill but return 0.\n",
      "23/11/08 17:50:34 WARN RowBasedKeyValueBatch: Calling spill() on RowBasedKeyValueBatch. Will not spill but return 0.\n",
      "23/11/08 17:50:34 WARN RowBasedKeyValueBatch: Calling spill() on RowBasedKeyValueBatch. Will not spill but return 0.\n",
      "23/11/08 17:50:34 WARN RowBasedKeyValueBatch: Calling spill() on RowBasedKeyValueBatch. Will not spill but return 0.\n",
      "23/11/08 17:50:34 WARN RowBasedKeyValueBatch: Calling spill() on RowBasedKeyValueBatch. Will not spill but return 0.\n",
      "23/11/08 17:50:34 WARN RowBasedKeyValueBatch: Calling spill() on RowBasedKeyValueBatch. Will not spill but return 0.\n",
      "23/11/08 17:50:34 WARN RowBasedKeyValueBatch: Calling spill() on RowBasedKeyValueBatch. Will not spill but return 0.\n",
      "23/11/08 17:50:35 WARN RowBasedKeyValueBatch: Calling spill() on RowBasedKeyValueBatch. Will not spill but return 0.\n",
      "23/11/08 17:50:35 WARN RowBasedKeyValueBatch: Calling spill() on RowBasedKeyValueBatch. Will not spill but return 0.\n",
      "23/11/08 17:50:35 WARN RowBasedKeyValueBatch: Calling spill() on RowBasedKeyValueBatch. Will not spill but return 0.\n",
      "23/11/08 17:50:35 WARN RowBasedKeyValueBatch: Calling spill() on RowBasedKeyValueBatch. Will not spill but return 0.\n",
      "23/11/08 17:50:36 WARN RowBasedKeyValueBatch: Calling spill() on RowBasedKeyValueBatch. Will not spill but return 0.\n",
      "23/11/08 17:50:36 WARN RowBasedKeyValueBatch: Calling spill() on RowBasedKeyValueBatch. Will not spill but return 0.\n",
      "23/11/08 17:50:37 WARN RowBasedKeyValueBatch: Calling spill() on RowBasedKeyValueBatch. Will not spill but return 0.\n",
      "23/11/08 17:50:37 WARN RowBasedKeyValueBatch: Calling spill() on RowBasedKeyValueBatch. Will not spill but return 0.\n",
      "23/11/08 17:50:37 WARN RowBasedKeyValueBatch: Calling spill() on RowBasedKeyValueBatch. Will not spill but return 0.\n",
      "23/11/08 17:50:37 WARN RowBasedKeyValueBatch: Calling spill() on RowBasedKeyValueBatch. Will not spill but return 0.\n",
      "23/11/08 17:50:37 WARN RowBasedKeyValueBatch: Calling spill() on RowBasedKeyValueBatch. Will not spill but return 0.\n",
      "23/11/08 17:50:37 WARN RowBasedKeyValueBatch: Calling spill() on RowBasedKeyValueBatch. Will not spill but return 0.\n",
      "23/11/08 17:50:37 WARN RowBasedKeyValueBatch: Calling spill() on RowBasedKeyValueBatch. Will not spill but return 0.\n",
      "23/11/08 17:50:37 WARN RowBasedKeyValueBatch: Calling spill() on RowBasedKeyValueBatch. Will not spill but return 0.\n",
      "23/11/08 17:50:37 WARN RowBasedKeyValueBatch: Calling spill() on RowBasedKeyValueBatch. Will not spill but return 0.\n",
      "23/11/08 17:50:37 WARN RowBasedKeyValueBatch: Calling spill() on RowBasedKeyValueBatch. Will not spill but return 0.\n",
      "23/11/08 17:50:37 WARN RowBasedKeyValueBatch: Calling spill() on RowBasedKeyValueBatch. Will not spill but return 0.\n",
      "23/11/08 17:50:37 WARN RowBasedKeyValueBatch: Calling spill() on RowBasedKeyValueBatch. Will not spill but return 0.\n",
      "23/11/08 17:50:38 WARN RowBasedKeyValueBatch: Calling spill() on RowBasedKeyValueBatch. Will not spill but return 0.\n",
      "23/11/08 17:50:38 WARN RowBasedKeyValueBatch: Calling spill() on RowBasedKeyValueBatch. Will not spill but return 0.\n",
      "23/11/08 17:50:38 WARN RowBasedKeyValueBatch: Calling spill() on RowBasedKeyValueBatch. Will not spill but return 0.\n",
      "23/11/08 17:50:38 WARN RowBasedKeyValueBatch: Calling spill() on RowBasedKeyValueBatch. Will not spill but return 0.\n",
      "23/11/08 17:50:38 WARN RowBasedKeyValueBatch: Calling spill() on RowBasedKeyValueBatch. Will not spill but return 0.\n",
      "23/11/08 17:50:38 WARN RowBasedKeyValueBatch: Calling spill() on RowBasedKeyValueBatch. Will not spill but return 0.\n",
      "23/11/08 17:50:38 WARN RowBasedKeyValueBatch: Calling spill() on RowBasedKeyValueBatch. Will not spill but return 0.\n",
      "23/11/08 17:50:38 WARN RowBasedKeyValueBatch: Calling spill() on RowBasedKeyValueBatch. Will not spill but return 0.\n",
      "23/11/08 17:50:38 WARN RowBasedKeyValueBatch: Calling spill() on RowBasedKeyValueBatch. Will not spill but return 0.\n",
      "23/11/08 17:50:38 WARN RowBasedKeyValueBatch: Calling spill() on RowBasedKeyValueBatch. Will not spill but return 0.\n",
      "23/11/08 17:50:38 WARN RowBasedKeyValueBatch: Calling spill() on RowBasedKeyValueBatch. Will not spill but return 0.\n",
      "23/11/08 17:50:38 WARN RowBasedKeyValueBatch: Calling spill() on RowBasedKeyValueBatch. Will not spill but return 0.\n",
      "23/11/08 17:50:39 WARN RowBasedKeyValueBatch: Calling spill() on RowBasedKeyValueBatch. Will not spill but return 0.\n",
      "23/11/08 17:50:39 WARN RowBasedKeyValueBatch: Calling spill() on RowBasedKeyValueBatch. Will not spill but return 0.\n",
      "23/11/08 17:50:39 WARN RowBasedKeyValueBatch: Calling spill() on RowBasedKeyValueBatch. Will not spill but return 0.\n",
      "23/11/08 17:50:39 WARN RowBasedKeyValueBatch: Calling spill() on RowBasedKeyValueBatch. Will not spill but return 0.\n",
      "23/11/08 17:50:39 WARN RowBasedKeyValueBatch: Calling spill() on RowBasedKeyValueBatch. Will not spill but return 0.\n",
      "23/11/08 17:50:39 WARN RowBasedKeyValueBatch: Calling spill() on RowBasedKeyValueBatch. Will not spill but return 0.\n",
      "23/11/08 17:50:39 WARN RowBasedKeyValueBatch: Calling spill() on RowBasedKeyValueBatch. Will not spill but return 0.\n",
      "23/11/08 17:50:39 WARN RowBasedKeyValueBatch: Calling spill() on RowBasedKeyValueBatch. Will not spill but return 0.\n",
      "23/11/08 17:50:39 WARN RowBasedKeyValueBatch: Calling spill() on RowBasedKeyValueBatch. Will not spill but return 0.\n",
      "23/11/08 17:50:39 WARN RowBasedKeyValueBatch: Calling spill() on RowBasedKeyValueBatch. Will not spill but return 0.\n",
      "23/11/08 17:50:39 WARN RowBasedKeyValueBatch: Calling spill() on RowBasedKeyValueBatch. Will not spill but return 0.\n",
      "23/11/08 17:50:39 WARN RowBasedKeyValueBatch: Calling spill() on RowBasedKeyValueBatch. Will not spill but return 0.\n",
      "23/11/08 17:50:39 WARN RowBasedKeyValueBatch: Calling spill() on RowBasedKeyValueBatch. Will not spill but return 0.\n",
      "23/11/08 17:50:39 WARN RowBasedKeyValueBatch: Calling spill() on RowBasedKeyValueBatch. Will not spill but return 0.\n",
      "23/11/08 17:50:39 WARN RowBasedKeyValueBatch: Calling spill() on RowBasedKeyValueBatch. Will not spill but return 0.\n",
      "23/11/08 17:50:39 WARN RowBasedKeyValueBatch: Calling spill() on RowBasedKeyValueBatch. Will not spill but return 0.\n",
      "23/11/08 17:50:40 WARN RowBasedKeyValueBatch: Calling spill() on RowBasedKeyValueBatch. Will not spill but return 0.\n",
      "23/11/08 17:50:40 WARN RowBasedKeyValueBatch: Calling spill() on RowBasedKeyValueBatch. Will not spill but return 0.\n",
      "23/11/08 17:50:40 WARN RowBasedKeyValueBatch: Calling spill() on RowBasedKeyValueBatch. Will not spill but return 0.\n",
      "23/11/08 17:50:40 WARN RowBasedKeyValueBatch: Calling spill() on RowBasedKeyValueBatch. Will not spill but return 0.\n",
      "23/11/08 17:50:40 WARN RowBasedKeyValueBatch: Calling spill() on RowBasedKeyValueBatch. Will not spill but return 0.\n",
      "23/11/08 17:50:40 WARN RowBasedKeyValueBatch: Calling spill() on RowBasedKeyValueBatch. Will not spill but return 0.\n",
      "23/11/08 17:50:41 WARN RowBasedKeyValueBatch: Calling spill() on RowBasedKeyValueBatch. Will not spill but return 0.\n",
      "23/11/08 17:50:41 WARN RowBasedKeyValueBatch: Calling spill() on RowBasedKeyValueBatch. Will not spill but return 0.\n",
      "23/11/08 17:50:41 WARN RowBasedKeyValueBatch: Calling spill() on RowBasedKeyValueBatch. Will not spill but return 0.\n",
      "23/11/08 17:50:41 WARN RowBasedKeyValueBatch: Calling spill() on RowBasedKeyValueBatch. Will not spill but return 0.\n",
      "[Stage 137:>                (0 + 8) / 9][Stage 139:>                (0 + 0) / 9]\r"
     ]
    },
    {
     "name": "stdout",
     "output_type": "stream",
     "text": [
      "[322.478s][warning][gc,alloc] Executor task launch worker for task 6.0 in stage 137.0 (TID 381): Retried waiting for GCLocker too often allocating 4194306 words\n",
      "[322.478s][warning][gc,alloc] Executor task launch worker for task 7.0 in stage 137.0 (TID 382): Retried waiting for GCLocker too often allocating 4194306 words\n"
     ]
    },
    {
     "name": "stderr",
     "output_type": "stream",
     "text": [
      "23/11/08 17:50:42 WARN TaskMemoryManager: Failed to allocate a page (33554432 bytes), try again.\n",
      "23/11/08 17:50:42 WARN TaskMemoryManager: Failed to allocate a page (33554432 bytes), try again.\n",
      "[Stage 150:======>                                                  (1 + 8) / 9]\r"
     ]
    },
    {
     "name": "stdout",
     "output_type": "stream",
     "text": [
      "+--------------+----------+-------------+-------------+-------------+-------------+----------+-----------+-------------+----------+------------------+\n",
      "|      Contract|      Date|RelaxDuration|MovieDuration|ChildDuration|SportDuration|TVDuration|  MostWatch|CustomerTaste|ActiveDays|        ActiveRate|\n",
      "+--------------+----------+-------------+-------------+-------------+-------------+----------+-----------+-------------+----------+------------------+\n",
      "|113.182.209.48|2022-04-01|           89|         null|         null|         null|        63|   Giải Trí|     Relax-TV|         1|0.3333333333333333|\n",
      "|     AGAAA0338|2022-04-03|         null|         null|         null|         null|      8894|Truyền Hình|           TV|         3|               1.0|\n",
      "|     AGAAA0338|2022-04-03|         null|         null|         null|         null|      8894|Truyền Hình|           TV|         3|               1.0|\n",
      "|     AGAAA0338|2022-04-03|         null|         null|         null|         null|      8894|Truyền Hình|           TV|         3|               1.0|\n",
      "|     AGAAA0342|2022-04-02|         null|         null|         null|         null|      8805|Truyền Hình|           TV|         2|0.6666666666666666|\n",
      "|     AGAAA0342|2022-04-02|         null|         null|         null|         null|      8805|Truyền Hình|           TV|         2|0.6666666666666666|\n",
      "|     AGAAA0342|2022-04-01|         null|         null|         null|         null|        44|Truyền Hình|           TV|         2|0.6666666666666666|\n",
      "|     AGAAA0342|2022-04-01|         null|         null|         null|         null|        44|Truyền Hình|           TV|         2|0.6666666666666666|\n",
      "|     AGAAA0346|2022-04-01|         null|         null|         null|         null|     47203|Truyền Hình|           TV|         3|               1.0|\n",
      "|     AGAAA0346|2022-04-01|         null|         null|         null|         null|     47203|Truyền Hình|           TV|         3|               1.0|\n",
      "|     AGAAA0346|2022-04-01|         null|         null|         null|         null|     47203|Truyền Hình|           TV|         3|               1.0|\n",
      "|     AGAAA0346|2022-04-03|         null|         null|         null|         null|     48999|Truyền Hình|           TV|         3|               1.0|\n",
      "|     AGAAA0346|2022-04-03|         null|         null|         null|         null|     48999|Truyền Hình|           TV|         3|               1.0|\n",
      "|     AGAAA0346|2022-04-03|         null|         null|         null|         null|     48999|Truyền Hình|           TV|         3|               1.0|\n",
      "|     AGAAA0346|2022-04-02|         null|         null|         null|         null|     86400|Truyền Hình|           TV|         3|               1.0|\n",
      "|     AGAAA0346|2022-04-02|         null|         null|         null|         null|     86400|Truyền Hình|           TV|         3|               1.0|\n",
      "|     AGAAA0346|2022-04-02|         null|         null|         null|         null|     86400|Truyền Hình|           TV|         3|               1.0|\n",
      "|     AGAAA0353|2022-04-03|         null|         null|         null|         null|       644|Phim Truyện|           TV|         3|               1.0|\n",
      "|     AGAAA0353|2022-04-03|         null|         null|         null|         null|       644|Phim Truyện|           TV|         3|               1.0|\n",
      "|     AGAAA0353|2022-04-03|         null|         null|         null|         null|       644|Phim Truyện|     Movie-TV|         3|               1.0|\n",
      "+--------------+----------+-------------+-------------+-------------+-------------+----------+-----------+-------------+----------+------------------+\n",
      "only showing top 20 rows\n",
      "\n"
     ]
    },
    {
     "name": "stderr",
     "output_type": "stream",
     "text": [
      "                                                                                \r"
     ]
    }
   ],
   "source": [
    "final_df = join_dataframes(result_df_pivot, most_watched_df, customer_taste_df, activeness_df)\n",
    "final_df.show()"
   ]
  }
 ],
 "metadata": {
  "kernelspec": {
   "display_name": "Python 3",
   "language": "python",
   "name": "python3"
  },
  "language_info": {
   "codemirror_mode": {
    "name": "ipython",
    "version": 3
   },
   "file_extension": ".py",
   "mimetype": "text/x-python",
   "name": "python",
   "nbconvert_exporter": "python",
   "pygments_lexer": "ipython3",
   "version": "3.10.7"
  }
 },
 "nbformat": 4,
 "nbformat_minor": 2
}
