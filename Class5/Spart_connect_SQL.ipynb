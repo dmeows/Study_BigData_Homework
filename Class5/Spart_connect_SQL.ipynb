{
 "cells": [
  {
   "cell_type": "code",
   "execution_count": 1,
   "metadata": {},
   "outputs": [],
   "source": [
    "from pyspark.sql import SparkSession\n"
   ]
  },
  {
   "cell_type": "code",
   "execution_count": 4,
   "metadata": {},
   "outputs": [
    {
     "name": "stderr",
     "output_type": "stream",
     "text": [
      "23/11/08 15:26:35 WARN Utils: Your hostname, MacBook-Air.local resolves to a loopback address: 127.0.0.1; using 192.168.1.9 instead (on interface en0)\n",
      "23/11/08 15:26:35 WARN Utils: Set SPARK_LOCAL_IP if you need to bind to another address\n",
      "23/11/08 15:26:35 WARN NativeCodeLoader: Unable to load native-hadoop library for your platform... using builtin-java classes where applicable\n",
      "Setting default log level to \"WARN\".\n",
      "To adjust logging level use sc.setLogLevel(newLevel). For SparkR, use setLogLevel(newLevel).\n"
     ]
    }
   ],
   "source": [
    "spark = SparkSession.builder \\\n",
    "    .appName(\"Write to MySQL\") \\\n",
    "    .config(\"spark.jars\", \"/Users/habaokhanh/.ivy2/jars/mysql-connector-java-8.0.30.jar\")\\\n",
    "    .getOrCreate()"
   ]
  },
  {
   "cell_type": "code",
   "execution_count": 5,
   "metadata": {},
   "outputs": [
    {
     "name": "stderr",
     "output_type": "stream",
     "text": [
      "23/11/08 15:26:46 WARN GarbageCollectionMetrics: To enable non-built-in garbage collector(s) List(G1 Concurrent GC), users should configure it(them) to spark.eventLog.gcMetrics.youngGenerationGarbageCollectors or spark.eventLog.gcMetrics.oldGenerationGarbageCollectors\n"
     ]
    }
   ],
   "source": [
    "jdbc_url = \"jdbc:mysql://localhost:3306\"\n",
    "db_name = \"movie\"\n",
    "table_name = \"log_movie_id\"\n",
    "mysql_url = f\"{jdbc_url}/{db_name}\"\n",
    "db_properties = {\n",
    "    \"user\": \"root\",\n",
    "    \"password\": \"h@b@0kh@nh\", \n",
    "    \"driver\": \"com.mysql.jdbc.Driver\"\n",
    "}"
   ]
  },
  {
   "cell_type": "code",
   "execution_count": 6,
   "metadata": {},
   "outputs": [
    {
     "name": "stderr",
     "output_type": "stream",
     "text": [
      "                                                                                \r"
     ]
    }
   ],
   "source": [
    "df = spark.read.json('/Users/habaokhanh/Study_BigData_Dataset/log_content/20220401.json')"
   ]
  },
  {
   "cell_type": "code",
   "execution_count": 8,
   "metadata": {},
   "outputs": [
    {
     "name": "stdout",
     "output_type": "stream",
     "text": [
      "+-------+---------+------------+-------------+\n",
      "|AppName| Contract|         Mac|TotalDuration|\n",
      "+-------+---------+------------+-------------+\n",
      "|  KPLUS|HNH579912|0C96E62FC55C|          254|\n",
      "|  KPLUS|HUFD40665|CCEDDC333614|         1457|\n",
      "|  KPLUS|HNH572635|B068E6A1C5F6|         2318|\n",
      "|  KPLUS|HND141717|08674EE8D2C2|         1452|\n",
      "|  KPLUS|HNH743103|402343C25D7D|          251|\n",
      "|  KPLUS|HNH893773|B84DEE76D3B8|          924|\n",
      "|  KPLUS|HND083642|B84DEE849A0F|         1444|\n",
      "|  KPLUS|DNFD74404|90324BB44C39|          691|\n",
      "|  KPLUS|DTFD21200|B84DEED27709|         1436|\n",
      "|  KPLUS|LDFD05747|0C96E6C95E53|         1434|\n",
      "|  KPLUS|HNH063566|B84DEEDD1C85|          687|\n",
      "|  KPLUS|HNH866786|10394E2790A5|          248|\n",
      "|  KPLUS|NBAAA1128|10394E47C1AF|          247|\n",
      "|  KPLUS|HNH960439|B84DEED34371|          683|\n",
      "|  KPLUS|HNJ035736|CCD4A1FA86A5|          246|\n",
      "|  KPLUS|NTFD93673|B84DEEEF4763|         2288|\n",
      "|  KPLUS|HNJ063267|10394E172CA7|         2282|\n",
      "|  KPLUS|HNH790383|4CEBBD53378B|          906|\n",
      "|  KPLUS|THFD12466|5CEA1D893E1C|          242|\n",
      "|  KPLUS|HNH566080|802BF9E0DDC0|          242|\n",
      "+-------+---------+------------+-------------+\n",
      "only showing top 20 rows\n",
      "\n"
     ]
    }
   ],
   "source": [
    "df = df.select('_source.*')\n",
    "df.show()"
   ]
  },
  {
   "cell_type": "code",
   "execution_count": 9,
   "metadata": {},
   "outputs": [
    {
     "name": "stderr",
     "output_type": "stream",
     "text": [
      "                                                                                \r"
     ]
    }
   ],
   "source": [
    "df.write\\\n",
    "    .mode(\"overwrite\") \\\n",
    "    .jdbc(url=mysql_url, table=table_name, mode=\"overwrite\", properties=db_properties)"
   ]
  },
  {
   "cell_type": "code",
   "execution_count": 10,
   "metadata": {},
   "outputs": [
    {
     "name": "stdout",
     "output_type": "stream",
     "text": [
      "+-------+---------+------------+-------------+\n",
      "|AppName| Contract|         Mac|TotalDuration|\n",
      "+-------+---------+------------+-------------+\n",
      "|CHANNEL|STFD08699|08674EDF52FF|        16627|\n",
      "|  KPLUS|HNH579912|0C96E62FC55C|          254|\n",
      "|CHANNEL|DNH010243|C0B5D7E80B85|         1882|\n",
      "|CHANNEL|HNH389848|5CEA1D708A36|         8940|\n",
      "|CHANNEL|SGH547372|D89C67A91E45|           68|\n",
      "|CHANNEL|HNH753478|B84DEE439A27|         8974|\n",
      "|CHANNEL|TQAAA1190|B84DEED906A8|        16544|\n",
      "|CHANNEL|SGH369727|E89EB419C993|           70|\n",
      "|CHANNEL|TIFD23713|CCEDDC332157|         8940|\n",
      "|  KPLUS|HUFD40665|CCEDDC333614|         1457|\n",
      "|CHANNEL|BGFD41812|4CEBBD533B87|        16627|\n",
      "|CHANNEL|SGH769363|E4AB89736830|           67|\n",
      "|  KPLUS|HNH572635|B068E6A1C5F6|         2318|\n",
      "|CHANNEL|DAFD90644|B84DEE78D4DD|         5591|\n",
      "|CHANNEL|SGH387375|B84DEEF66F99|        16658|\n",
      "|CHANNEL|HNH916275|18473D53DCD3|         8940|\n",
      "|CHANNEL|DTD011928|B046FCACC100|         5591|\n",
      "|  KPLUS|HND141717|08674EE8D2C2|         1452|\n",
      "|CHANNEL|HNH033550|D89C67D97661|        16706|\n",
      "|CHANNEL|LDFD29819|E4AB89739AAD|           67|\n",
      "+-------+---------+------------+-------------+\n",
      "only showing top 20 rows\n",
      "\n"
     ]
    },
    {
     "name": "stderr",
     "output_type": "stream",
     "text": [
      "                                                                                \r"
     ]
    }
   ],
   "source": [
    "df_read = spark.read \\\n",
    "    .jdbc(url=mysql_url, table=\"log_movie_id\", properties=db_properties)\n",
    "df_read.show()"
   ]
  },
  {
   "cell_type": "code",
   "execution_count": 11,
   "metadata": {},
   "outputs": [],
   "source": [
    "spark.stop()"
   ]
  },
  {
   "cell_type": "markdown",
   "metadata": {},
   "source": [
    "TRY ALL FUNCS"
   ]
  },
  {
   "cell_type": "code",
   "execution_count": 1,
   "metadata": {},
   "outputs": [],
   "source": [
    "from pyspark.sql import SparkSession\n",
    "from pyspark.sql.window import Window\n",
    "from pyspark.sql.functions import col, when, desc\n",
    "from pyspark.sql.functions import row_number\n",
    "import pyspark.sql.functions as sf\n",
    "from datetime import datetime\n",
    "import os"
   ]
  },
  {
   "cell_type": "code",
   "execution_count": 2,
   "metadata": {},
   "outputs": [],
   "source": [
    "def get_spark_session():\n",
    "    # return SparkSession.builder.config(\"spark.driver.memory\", \"8g\").config(\n",
    "    #     \"spark.executor.cores\", 8).getOrCreate()\n",
    "    return SparkSession.builder \\\n",
    "        .appName(\"Write to MySQL\") \\\n",
    "        .config(\"spark.jars\", \"/Users/habaokhanh/.ivy2/jars/mysql-connector-java-8.0.30.jar\")\\\n",
    "        .getOrCreate()"
   ]
  },
  {
   "cell_type": "code",
   "execution_count": 3,
   "metadata": {},
   "outputs": [],
   "source": [
    "def read_json_data(spark, path, file_name):\n",
    "    data = spark.read.json(path + file_name)\n",
    "    return data.select('_source.*')"
   ]
  },
  {
   "cell_type": "code",
   "execution_count": 60,
   "metadata": {},
   "outputs": [],
   "source": [
    "def add_type_column(df):\n",
    "    tv_condition_list = ['CHANNEL', 'DSHD', 'KPLUS', 'KPlus']\n",
    "    movie_condition_list = ['VOD', 'FIMS_RES', 'BHD_RES', 'VOD_RES', 'FIMS', 'BHD', 'DANET']\n",
    "    df = df.withColumn(\"Type\",\n",
    "                       when(col(\"AppName\").isin(*tv_condition_list), \"Truyền Hình\")\n",
    "                       .when(col(\"AppName\").isin(*movie_condition_list),\"Phim Truyện\")\n",
    "                       .when(col(\"AppName\") == 'RELAX', \"Giải Trí\")\n",
    "                       .when(col(\"AppName\") == 'CHILD', \"Thiếu Nhi\")\n",
    "                       .when(col(\"AppName\") == 'SPORT', \"Thể Thao\")\n",
    "                       .otherwise(\"Error\"))\n",
    "    return df\n",
    "\n",
    "def rename_column(df):\n",
    "    df = df.withColumnRenamed('Giải Trí', 'RelaxDuration') \\\n",
    "        .withColumnRenamed('Phim Truyện', 'MovieDuration') \\\n",
    "        .withColumnRenamed('Thiếu Nhi', 'ChildDuration') \\\n",
    "        .withColumnRenamed('Thể Thao', 'SportDuration') \\\n",
    "        .withColumnRenamed('Truyền Hình', 'TVDuration')\n",
    "    return df"
   ]
  },
  {
   "cell_type": "code",
   "execution_count": 43,
   "metadata": {},
   "outputs": [],
   "source": [
    "def add_date_filter_non_error(df, file_date):\n",
    "    df = df.withColumn('Date', sf.lit(file_date))\n",
    "    df = df.filter(df.Type != 'Error').select('Contract', 'Type', 'TotalDuration', 'Date').dropDuplicates()\n",
    "    return df"
   ]
  },
  {
   "cell_type": "code",
   "execution_count": 6,
   "metadata": {},
   "outputs": [],
   "source": [
    "def calculate_most_watched(df):\n",
    "    windowSpec = Window.partitionBy(\"Contract\").orderBy(desc(\"TotalDuration\"))\n",
    "    most_watched = df.withColumn(\"rank\", row_number().over(windowSpec))\n",
    "    most_watched = most_watched.filter(most_watched.rank == 1)\n",
    "    return most_watched.select(\"Contract\", \"Type\").withColumnRenamed(\"Type\", \"MostWatch\")"
   ]
  },
  {
   "cell_type": "code",
   "execution_count": 62,
   "metadata": {},
   "outputs": [],
   "source": [
    "def calculate_customer_taste(df):\n",
    "    for column in df.columns:\n",
    "        if 'Duration' in column:\n",
    "            df = df.withColumn(column, when(col(column).isNotNull(), column[:-8]))\n",
    "\n",
    "    taste = df.withColumn('CustomerTaste',\n",
    "                           sf.concat_ws(\"-\", *[col(i) for i in df.columns if 'Duration' in i]))\n",
    "\n",
    "    taste = taste.select('Contract', 'CustomerTaste')\n",
    "    return taste"
   ]
  },
  {
   "cell_type": "code",
   "execution_count": 8,
   "metadata": {},
   "outputs": [],
   "source": [
    "def calculate_activeness(df, start_date, end_date):\n",
    "    total_days = (end_date - start_date).days + 1\n",
    "    \n",
    "    active = df.groupby('Contract', 'Date').agg((sf.sum('TotalDuration').alias('TotalDurationPerDay')))\n",
    "    active = active.withColumn(\"IsActive\", sf.when(active.TotalDurationPerDay > 0, 1).otherwise(0))\n",
    "\n",
    "    activeness = active.groupBy(\"Contract\").agg(sf.sum(\"IsActive\").alias(\"ActiveDays\"))\n",
    "    activeness = activeness.withColumn(\"ActiveRate\", (sf.col(\"ActiveDays\") / sf.lit(total_days)))\n",
    "    return activeness"
   ]
  },
  {
   "cell_type": "code",
   "execution_count": 9,
   "metadata": {},
   "outputs": [],
   "source": [
    "def join_dataframes(final_df, most_watched_df, customer_taste_df, activeness_df):\n",
    "    final_df = final_df.join(most_watched_df, on='Contract', how='left')\n",
    "    final_df = final_df.join(customer_taste_df, on='Contract', how='left')\n",
    "    final_df = final_df.join(activeness_df, on='Contract', how='left')\n",
    "    return final_df"
   ]
  },
  {
   "cell_type": "code",
   "execution_count": 10,
   "metadata": {},
   "outputs": [],
   "source": [
    "def write_data(df):\n",
    "    # df.repartition(1).write.csv('/Users/habaokhanh/Study_BigData_Dataset/log_content/clean/df_clean1', header=True)\n",
    "    jdbc_url = \"jdbc:mysql://localhost:3306\"\n",
    "    db_name = \"movie\"\n",
    "    table_name = \"log_movie_olap\"\n",
    "    mysql_url = f\"{jdbc_url}/{db_name}\"\n",
    "    db_properties = {\n",
    "        \"user\": \"root\",\n",
    "        \"password\": \"h@b@0kh@nh\", \n",
    "        \"driver\": \"com.mysql.cj.jdbc.Driver\"\n",
    "    }\n",
    "    df.write\\\n",
    "    .mode(\"overwrite\") \\\n",
    "    .jdbc(url=mysql_url, table=table_name, mode=\"overwrite\", properties=db_properties)"
   ]
  },
  {
   "cell_type": "code",
   "execution_count": 47,
   "metadata": {},
   "outputs": [],
   "source": [
    "def main_task(start_date_str, end_date_str):\n",
    "    start_time = datetime.now()\n",
    "\n",
    "    # Extract\n",
    "    path = '/Users/habaokhanh/Study_BigData_Dataset/log_content/'\n",
    "    list_file = sorted([file for file in os.listdir(path) if file != '.DS_Store'])\n",
    "    spark = get_spark_session()\n",
    "    start_date = datetime.strptime(start_date_str, \"%Y%m%d\").date()\n",
    "    end_date = datetime.strptime(end_date_str, \"%Y%m%d\").date()\n",
    "\n",
    "    result_df = None\n",
    "    for file_name in list_file:\n",
    "        file_date_str = file_name.split('_')[-1].split('.')[0]\n",
    "        file_date = datetime.strptime(file_date_str, \"%Y%m%d\").date()\n",
    "        if start_date <= file_date <= end_date:\n",
    "            df = read_json_data(spark, path, file_name)\n",
    "            df = add_type_column(df)\n",
    "            df = add_date_filter_non_error(df, file_date)\n",
    "\n",
    "            if result_df is None:\n",
    "                result_df = df\n",
    "            else:\n",
    "                result_df = result_df.union(df)\n",
    "    \n",
    "    return result_df\n",
    "\n",
    "\n",
    "    # # Transform\n",
    "    # result_df.show()\n",
    "    # result_df.printSchema()\n",
    "\n",
    "    # result_df_pivot = result_df.groupBy('Contract','Date').pivot(\"Type\").sum('TotalDuration')\n",
    "    # print(f'result_df_pivot is: {result_df_pivot.show()}')\n",
    "\n",
    "    # most_watched_df = calculate_most_watched(result_df)\n",
    "    # print(f'most_watched_df is: {most_watched_df.show()}')\n",
    "\n",
    "    # customer_taste_df = calculate_customer_taste(result_df_pivot)\n",
    "    # print(f'customer_taste_df is: {customer_taste_df.show()}')\n",
    "\n",
    "    # activeness_df = calculate_activeness(result_df, start_date, end_date)\n",
    "    # print(f'activeness_df is: {activeness_df.show()}')\n",
    "\n",
    "    # # Join and print final dataframe\n",
    "    # final_df = join_dataframes(result_df_pivot, most_watched_df, customer_taste_df, activeness_df)\n",
    "    # print(f'final_df is: {final_df.show()}')\n",
    "\n",
    "    # # Load\n",
    "    # # write_data(final_df)\n",
    "    # print('Data loaded to MySQL')\n",
    "\n",
    "    # end_time = datetime.now()\n",
    "    # print(f'It took {(end_time - start_time).total_seconds()} to process the data')\n",
    "\n",
    "# RUN MAIN FUNCTION\n",
    "# main_task('20220401', '20220402')"
   ]
  },
  {
   "cell_type": "code",
   "execution_count": 51,
   "metadata": {},
   "outputs": [],
   "source": [
    "result_df = main_task('20220401', '20220402')"
   ]
  },
  {
   "cell_type": "code",
   "execution_count": 52,
   "metadata": {},
   "outputs": [
    {
     "name": "stderr",
     "output_type": "stream",
     "text": [
      "[Stage 694:>                                                        (0 + 8) / 8]\r"
     ]
    },
    {
     "name": "stdout",
     "output_type": "stream",
     "text": [
      "+---------+-----------+-------------+----------+\n",
      "| Contract|       Type|TotalDuration|      Date|\n",
      "+---------+-----------+-------------+----------+\n",
      "|BGFD29928|Truyền Hình|          669|2022-04-01|\n",
      "|NDD011998|Truyền Hình|        18941|2022-04-01|\n",
      "|HND486882|Phim Truyện|         5545|2022-04-01|\n",
      "|QAFD05596|Truyền Hình|        83495|2022-04-01|\n",
      "|HNH910024|Phim Truyện|         2847|2022-04-01|\n",
      "|TGD020392|Phim Truyện|        17534|2022-04-01|\n",
      "|TBFD09573|Phim Truyện|        14544|2022-04-01|\n",
      "|TIFD29139|Phim Truyện|        25726|2022-04-01|\n",
      "|BID025030|Truyền Hình|          170|2022-04-01|\n",
      "|SGH069784|Truyền Hình|          151|2022-04-01|\n",
      "|SGH936402|Truyền Hình|           61|2022-04-01|\n",
      "|CBFD00028|Truyền Hình|        82141|2022-04-01|\n",
      "|HPFD25462|Truyền Hình|        82775|2022-04-01|\n",
      "|HND204270|Truyền Hình|        18770|2022-04-01|\n",
      "|DAFD39835|Phim Truyện|         6728|2022-04-01|\n",
      "|SGH661929|Phim Truyện|         7847|2022-04-01|\n",
      "|BDAAA4088|Truyền Hình|          587|2022-04-01|\n",
      "|HYFD17846|Truyền Hình|        82625|2022-04-01|\n",
      "|HPFD95836|Truyền Hình|        82406|2022-04-01|\n",
      "|HNH975850|Truyền Hình|        82397|2022-04-01|\n",
      "+---------+-----------+-------------+----------+\n",
      "only showing top 20 rows\n",
      "\n"
     ]
    },
    {
     "name": "stderr",
     "output_type": "stream",
     "text": [
      "                                                                                \r"
     ]
    }
   ],
   "source": [
    "result_df.show()"
   ]
  },
  {
   "cell_type": "code",
   "execution_count": 61,
   "metadata": {},
   "outputs": [
    {
     "name": "stderr",
     "output_type": "stream",
     "text": [
      "23/11/08 17:17:20 WARN RowBasedKeyValueBatch: Calling spill() on RowBasedKeyValueBatch. Will not spill but return 0.\n",
      "23/11/08 17:17:20 WARN RowBasedKeyValueBatch: Calling spill() on RowBasedKeyValueBatch. Will not spill but return 0.\n",
      "23/11/08 17:17:20 WARN RowBasedKeyValueBatch: Calling spill() on RowBasedKeyValueBatch. Will not spill but return 0.\n",
      "23/11/08 17:17:20 WARN RowBasedKeyValueBatch: Calling spill() on RowBasedKeyValueBatch. Will not spill but return 0.\n",
      "23/11/08 17:17:20 WARN RowBasedKeyValueBatch: Calling spill() on RowBasedKeyValueBatch. Will not spill but return 0.\n",
      "23/11/08 17:17:20 WARN RowBasedKeyValueBatch: Calling spill() on RowBasedKeyValueBatch. Will not spill but return 0.\n",
      "[Stage 788:>                                                        (0 + 8) / 8]\r"
     ]
    },
    {
     "name": "stdout",
     "output_type": "stream",
     "text": [
      "+---------+----------+-------------+-------------+-------------+-------------+----------+\n",
      "| Contract|      Date|RelaxDuration|MovieDuration|ChildDuration|SportDuration|TVDuration|\n",
      "+---------+----------+-------------+-------------+-------------+-------------+----------+\n",
      "|KGFD30003|2022-04-01|         null|         null|         null|         null|      1243|\n",
      "|DNFD42634|2022-04-01|         null|        12878|        12845|         null|      5226|\n",
      "|SGH701193|2022-04-01|         null|         5549|         null|         null|       148|\n",
      "|HUFD31379|2022-04-01|         null|         null|         null|         null|        41|\n",
      "|SGJ036411|2022-04-01|         null|         null|         null|         null|        55|\n",
      "|HNH952720|2022-04-01|         null|         null|         null|         null|        13|\n",
      "|SGH536041|2022-04-01|         null|         null|         null|         null|      1458|\n",
      "|DLD024779|2022-04-01|         null|         null|         null|         null|     11964|\n",
      "|LCFD17923|2022-04-01|         null|         null|         null|         null|     10395|\n",
      "|BLFD04514|2022-04-01|         null|           37|         null|         null|      null|\n",
      "|QAFD07980|2022-04-01|         null|         null|         1297|         null|     11373|\n",
      "|SGH526551|2022-04-01|         null|         null|         null|         null|        18|\n",
      "|DLFD08424|2022-04-01|         null|         null|         3811|         null|       127|\n",
      "|QND032994|2022-04-01|         null|         8394|         null|         null|     13006|\n",
      "|HNJ035836|2022-04-01|         null|         null|         null|         null|      8981|\n",
      "|BGFD37109|2022-04-01|         null|         null|         null|         null|       143|\n",
      "|DAFD62269|2022-04-01|         null|         null|         null|         null|     76553|\n",
      "|SGFD96679|2022-04-01|         null|          288|         null|         null|     33858|\n",
      "|HDFD19918|2022-04-01|         null|         null|         null|         null|     11166|\n",
      "|CMFD16557|2022-04-01|         null|        24137|         null|         null|      7273|\n",
      "+---------+----------+-------------+-------------+-------------+-------------+----------+\n",
      "only showing top 20 rows\n",
      "\n"
     ]
    },
    {
     "name": "stderr",
     "output_type": "stream",
     "text": [
      "                                                                                \r"
     ]
    }
   ],
   "source": [
    "result_df_pivot = result_df.groupBy('Contract','Date').pivot(\"Type\").sum('TotalDuration')\n",
    "result_df_pivot = rename_column(result_df_pivot)\n",
    "result_df_pivot.show()"
   ]
  },
  {
   "cell_type": "code",
   "execution_count": 54,
   "metadata": {},
   "outputs": [
    {
     "name": "stderr",
     "output_type": "stream",
     "text": [
      "[Stage 734:==========================================>              (6 + 2) / 8]\r"
     ]
    },
    {
     "name": "stdout",
     "output_type": "stream",
     "text": [
      "+--------------+-----------+\n",
      "|      Contract|  MostWatch|\n",
      "+--------------+-----------+\n",
      "|113.182.209.48|   Giải Trí|\n",
      "|     AGAAA0338|Truyền Hình|\n",
      "|     AGAAA0342|Truyền Hình|\n",
      "|     AGAAA0346|Truyền Hình|\n",
      "|     AGAAA0353|Phim Truyện|\n",
      "|     AGAAA0372|Truyền Hình|\n",
      "|     AGAAA0391|Truyền Hình|\n",
      "|     AGAAA0504|Truyền Hình|\n",
      "|     AGAAA0544|Truyền Hình|\n",
      "|     AGAAA0550|Truyền Hình|\n",
      "|     AGAAA0555|Truyền Hình|\n",
      "|     AGAAA0576|Truyền Hình|\n",
      "|     AGAAA0613|Truyền Hình|\n",
      "|     AGAAA0638|Truyền Hình|\n",
      "|     AGAAA0663|Truyền Hình|\n",
      "|     AGAAA0693|Truyền Hình|\n",
      "|     AGAAA0718|Truyền Hình|\n",
      "|     AGAAA0723|Truyền Hình|\n",
      "|     AGAAA0732|Truyền Hình|\n",
      "|     AGAAA0750|Truyền Hình|\n",
      "+--------------+-----------+\n",
      "only showing top 20 rows\n",
      "\n"
     ]
    },
    {
     "name": "stderr",
     "output_type": "stream",
     "text": [
      "                                                                                \r"
     ]
    }
   ],
   "source": [
    "most_watched_df = calculate_most_watched(result_df)\n",
    "most_watched_df.show()"
   ]
  },
  {
   "cell_type": "code",
   "execution_count": 57,
   "metadata": {},
   "outputs": [],
   "source": [
    "def customer_taste_calc(df):\n",
    "    df = df.withColumn(\"RelaxDuration\",when(col(\"RelaxDuration\").isNotNull(),\"Relax\").otherwise(col(\"RelaxDuration\")))\n",
    "    df = df.withColumn(\"MovieDuration\",when(col(\"MovieDuration\").isNotNull(),\"Movie\").otherwise(col(\"MovieDuration\")))\n",
    "    df = df.withColumn(\"ChildDuration\",when(col(\"ChildDuration\").isNotNull(),\"Child\").otherwise(col(\"ChildDuration\")))\n",
    "    df = df.withColumn(\"SportDuration\",when(col(\"SportDuration\").isNotNull(),\"Sport\").otherwise(col(\"SportDuration\")))\n",
    "    df = df.withColumn(\"TVDuration\",when(col(\"TVDuration\").isNotNull(),\"TV\").otherwise(col(\"TVDuration\")))\n",
    "    \n",
    "    taste = df.withColumn('CustomerTaste', sf.concat_ws(\"-\", *[i for i in df.columns if i != ['Contract']]))\n",
    "    taste = taste.select('Contract','CustomerTaste')\n",
    "    return taste"
   ]
  },
  {
   "cell_type": "code",
   "execution_count": 63,
   "metadata": {},
   "outputs": [
    {
     "name": "stderr",
     "output_type": "stream",
     "text": [
      "23/11/08 17:18:27 WARN RowBasedKeyValueBatch: Calling spill() on RowBasedKeyValueBatch. Will not spill but return 0.\n",
      "23/11/08 17:18:28 WARN RowBasedKeyValueBatch: Calling spill() on RowBasedKeyValueBatch. Will not spill but return 0.\n",
      "23/11/08 17:18:28 WARN RowBasedKeyValueBatch: Calling spill() on RowBasedKeyValueBatch. Will not spill but return 0.\n",
      "23/11/08 17:18:28 WARN RowBasedKeyValueBatch: Calling spill() on RowBasedKeyValueBatch. Will not spill but return 0.\n",
      "23/11/08 17:18:28 WARN RowBasedKeyValueBatch: Calling spill() on RowBasedKeyValueBatch. Will not spill but return 0.\n",
      "23/11/08 17:18:28 WARN RowBasedKeyValueBatch: Calling spill() on RowBasedKeyValueBatch. Will not spill but return 0.\n",
      "[Stage 802:>                                                        (0 + 8) / 8]\r"
     ]
    },
    {
     "name": "stdout",
     "output_type": "stream",
     "text": [
      "+---------+--------------+\n",
      "| Contract| CustomerTaste|\n",
      "+---------+--------------+\n",
      "|KGFD30003|            TV|\n",
      "|DNFD42634|Movie-Child-TV|\n",
      "|SGH701193|      Movie-TV|\n",
      "|HUFD31379|            TV|\n",
      "|SGJ036411|            TV|\n",
      "|HNH952720|            TV|\n",
      "|SGH536041|            TV|\n",
      "|DLD024779|            TV|\n",
      "|LCFD17923|            TV|\n",
      "|BLFD04514|         Movie|\n",
      "|QAFD07980|      Child-TV|\n",
      "|SGH526551|            TV|\n",
      "|DLFD08424|      Child-TV|\n",
      "|QND032994|      Movie-TV|\n",
      "|HNJ035836|            TV|\n",
      "|BGFD37109|            TV|\n",
      "|DAFD62269|            TV|\n",
      "|SGFD96679|      Movie-TV|\n",
      "|HDFD19918|            TV|\n",
      "|CMFD16557|      Movie-TV|\n",
      "+---------+--------------+\n",
      "only showing top 20 rows\n",
      "\n"
     ]
    },
    {
     "name": "stderr",
     "output_type": "stream",
     "text": [
      "                                                                                \r"
     ]
    }
   ],
   "source": [
    "customer_taste_df = calculate_customer_taste(result_df_pivot)\n",
    "customer_taste_df.show()"
   ]
  },
  {
   "cell_type": "code",
   "execution_count": null,
   "metadata": {},
   "outputs": [],
   "source": []
  }
 ],
 "metadata": {
  "kernelspec": {
   "display_name": "Python 3",
   "language": "python",
   "name": "python3"
  },
  "language_info": {
   "codemirror_mode": {
    "name": "ipython",
    "version": 3
   },
   "file_extension": ".py",
   "mimetype": "text/x-python",
   "name": "python",
   "nbconvert_exporter": "python",
   "pygments_lexer": "ipython3",
   "version": "3.10.7"
  }
 },
 "nbformat": 4,
 "nbformat_minor": 2
}
