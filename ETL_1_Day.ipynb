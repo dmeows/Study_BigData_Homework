{
 "cells": [
  {
   "cell_type": "code",
   "execution_count": 1,
   "metadata": {},
   "outputs": [],
   "source": [
    "from pyspark.sql import SparkSession\n",
    "from pyspark.sql.functions import *\n",
    "import os"
   ]
  },
  {
   "cell_type": "code",
   "execution_count": 2,
   "metadata": {},
   "outputs": [
    {
     "name": "stderr",
     "output_type": "stream",
     "text": [
      "23/10/20 17:32:55 WARN Utils: Your hostname, MacBook-Air.local resolves to a loopback address: 127.0.0.1; using 192.168.1.10 instead (on interface en0)\n",
      "23/10/20 17:32:55 WARN Utils: Set SPARK_LOCAL_IP if you need to bind to another address\n",
      "Setting default log level to \"WARN\".\n",
      "To adjust logging level use sc.setLogLevel(newLevel). For SparkR, use setLogLevel(newLevel).\n",
      "23/10/20 17:32:56 WARN NativeCodeLoader: Unable to load native-hadoop library for your platform... using builtin-java classes where applicable\n"
     ]
    }
   ],
   "source": [
    "spark = SparkSession.builder.getOrCreate()"
   ]
  },
  {
   "cell_type": "markdown",
   "metadata": {},
   "source": [
    "<h2>1. Đọc data từ nguồn </h2>"
   ]
  },
  {
   "cell_type": "code",
   "execution_count": 3,
   "metadata": {},
   "outputs": [],
   "source": [
    "input_path = '/Users/habaokhanh/Study_BigData_Dataset/log_content/'"
   ]
  },
  {
   "cell_type": "code",
   "execution_count": 4,
   "metadata": {},
   "outputs": [
    {
     "data": {
      "text/plain": [
       "['20220401.json',\n",
       " '20220402.json',\n",
       " '20220403.json',\n",
       " '20220404.json',\n",
       " '20220405.json',\n",
       " '20220406.json',\n",
       " '20220407.json',\n",
       " '20220408.json',\n",
       " '20220409.json',\n",
       " '20220410.json',\n",
       " '20220411.json',\n",
       " '20220412.json',\n",
       " '20220413.json',\n",
       " '20220414.json',\n",
       " '20220415.json',\n",
       " '20220416.json',\n",
       " '20220417.json',\n",
       " '20220418.json',\n",
       " '20220419.json',\n",
       " '20220420.json',\n",
       " '20220421.json',\n",
       " '20220422.json',\n",
       " '20220423.json',\n",
       " '20220424.json',\n",
       " '20220425.json',\n",
       " '20220426.json',\n",
       " '20220427.json',\n",
       " '20220428.json',\n",
       " '20220429.json',\n",
       " '20220430.json']"
      ]
     },
     "execution_count": 4,
     "metadata": {},
     "output_type": "execute_result"
    },
    {
     "name": "stderr",
     "output_type": "stream",
     "text": [
      "23/10/20 17:33:11 WARN GarbageCollectionMetrics: To enable non-built-in garbage collector(s) List(G1 Concurrent GC), users should configure it(them) to spark.eventLog.gcMetrics.youngGenerationGarbageCollectors or spark.eventLog.gcMetrics.oldGenerationGarbageCollectors\n"
     ]
    }
   ],
   "source": [
    "list_file = os.listdir(input_path)\n",
    "list_file = sorted(list_file)\n",
    "\n",
    "if os.path.exists(f'{list_file}.DS_Store'):\n",
    "    os.remove(f'{list_file}.DS_Store')\n",
    "\n",
    "list_file"
   ]
  },
  {
   "cell_type": "code",
   "execution_count": 5,
   "metadata": {},
   "outputs": [
    {
     "data": {
      "text/plain": [
       "'20220401.json'"
      ]
     },
     "execution_count": 5,
     "metadata": {},
     "output_type": "execute_result"
    }
   ],
   "source": [
    "file_name = list_file[0]\n",
    "file_name"
   ]
  },
  {
   "cell_type": "code",
   "execution_count": 6,
   "metadata": {},
   "outputs": [
    {
     "name": "stderr",
     "output_type": "stream",
     "text": [
      "                                                                                \r"
     ]
    }
   ],
   "source": [
    "df = spark.read.json(f'{input_path}{file_name}')"
   ]
  },
  {
   "cell_type": "markdown",
   "metadata": {},
   "source": [
    "<h2>2. Đưa appname về các category </h2>"
   ]
  },
  {
   "cell_type": "code",
   "execution_count": 7,
   "metadata": {},
   "outputs": [
    {
     "name": "stdout",
     "output_type": "stream",
     "text": [
      "+--------------------+-------+------+--------------------------------------+-----+\n",
      "|_id                 |_index |_score|_source                               |_type|\n",
      "+--------------------+-------+------+--------------------------------------+-----+\n",
      "|AX_momhia1FFivsGrn9o|history|0     |{KPLUS, HNH579912, 0C96E62FC55C, 254} |kplus|\n",
      "|AX_momhca1FFivsGrnvg|history|0     |{KPLUS, HUFD40665, CCEDDC333614, 1457}|kplus|\n",
      "|AX_momhaa1FFivsGrnny|history|0     |{KPLUS, HNH572635, B068E6A1C5F6, 2318}|kplus|\n",
      "|AX_momhca1FFivsGrnvv|history|0     |{KPLUS, HND141717, 08674EE8D2C2, 1452}|kplus|\n",
      "|AX_momhia1FFivsGrn98|history|0     |{KPLUS, HNH743103, 402343C25D7D, 251} |kplus|\n",
      "|AX_momg9a1FFivsGrnkS|history|0     |{KPLUS, HNH893773, B84DEE76D3B8, 924} |kplus|\n",
      "|AX_momhca1FFivsGrnwA|history|0     |{KPLUS, HND083642, B84DEE849A0F, 1444}|kplus|\n",
      "|AX_momhfa1FFivsGrn2u|history|0     |{KPLUS, DNFD74404, 90324BB44C39, 691} |kplus|\n",
      "|AX_momhca1FFivsGrnwP|history|0     |{KPLUS, DTFD21200, B84DEED27709, 1436}|kplus|\n",
      "|AX_momhca1FFivsGrnwU|history|0     |{KPLUS, LDFD05747, 0C96E6C95E53, 1434}|kplus|\n",
      "|AX_momhfa1FFivsGrn24|history|0     |{KPLUS, HNH063566, B84DEEDD1C85, 687} |kplus|\n",
      "|AX_momhia1FFivsGrn-W|history|0     |{KPLUS, HNH866786, 10394E2790A5, 248} |kplus|\n",
      "|AX_momhia1FFivsGrn-a|history|0     |{KPLUS, NBAAA1128, 10394E47C1AF, 247} |kplus|\n",
      "|AX_momhfa1FFivsGrn3J|history|0     |{KPLUS, HNH960439, B84DEED34371, 683} |kplus|\n",
      "|AX_momhia1FFivsGrn-k|history|0     |{KPLUS, HNJ035736, CCD4A1FA86A5, 246} |kplus|\n",
      "|AX_momhaa1FFivsGrnol|history|0     |{KPLUS, NTFD93673, B84DEEEF4763, 2288}|kplus|\n",
      "|AX_momhaa1FFivsGrnoq|history|0     |{KPLUS, HNJ063267, 10394E172CA7, 2282}|kplus|\n",
      "|AX_momg9a1FFivsGrnlF|history|0     |{KPLUS, HNH790383, 4CEBBD53378B, 906} |kplus|\n",
      "|AX_momhia1FFivsGrn-4|history|0     |{KPLUS, THFD12466, 5CEA1D893E1C, 242} |kplus|\n",
      "|AX_momhia1FFivsGrn-9|history|0     |{KPLUS, HNH566080, 802BF9E0DDC0, 242} |kplus|\n",
      "+--------------------+-------+------+--------------------------------------+-----+\n",
      "only showing top 20 rows\n",
      "\n"
     ]
    }
   ],
   "source": [
    "df.show(truncate=False)"
   ]
  },
  {
   "cell_type": "code",
   "execution_count": 8,
   "metadata": {},
   "outputs": [
    {
     "name": "stdout",
     "output_type": "stream",
     "text": [
      "root\n",
      " |-- _id: string (nullable = true)\n",
      " |-- _index: string (nullable = true)\n",
      " |-- _score: long (nullable = true)\n",
      " |-- _source: struct (nullable = true)\n",
      " |    |-- AppName: string (nullable = true)\n",
      " |    |-- Contract: string (nullable = true)\n",
      " |    |-- Mac: string (nullable = true)\n",
      " |    |-- TotalDuration: long (nullable = true)\n",
      " |-- _type: string (nullable = true)\n",
      "\n"
     ]
    }
   ],
   "source": [
    "df.printSchema()"
   ]
  },
  {
   "cell_type": "code",
   "execution_count": 9,
   "metadata": {},
   "outputs": [],
   "source": [
    "df = df.select('_source.*')"
   ]
  },
  {
   "cell_type": "code",
   "execution_count": 10,
   "metadata": {},
   "outputs": [
    {
     "name": "stdout",
     "output_type": "stream",
     "text": [
      "+-------+---------+------------+-------------+\n",
      "|AppName| Contract|         Mac|TotalDuration|\n",
      "+-------+---------+------------+-------------+\n",
      "|  KPLUS|HNH579912|0C96E62FC55C|          254|\n",
      "|  KPLUS|HUFD40665|CCEDDC333614|         1457|\n",
      "|  KPLUS|HNH572635|B068E6A1C5F6|         2318|\n",
      "|  KPLUS|HND141717|08674EE8D2C2|         1452|\n",
      "|  KPLUS|HNH743103|402343C25D7D|          251|\n",
      "|  KPLUS|HNH893773|B84DEE76D3B8|          924|\n",
      "|  KPLUS|HND083642|B84DEE849A0F|         1444|\n",
      "|  KPLUS|DNFD74404|90324BB44C39|          691|\n",
      "|  KPLUS|DTFD21200|B84DEED27709|         1436|\n",
      "|  KPLUS|LDFD05747|0C96E6C95E53|         1434|\n",
      "|  KPLUS|HNH063566|B84DEEDD1C85|          687|\n",
      "|  KPLUS|HNH866786|10394E2790A5|          248|\n",
      "|  KPLUS|NBAAA1128|10394E47C1AF|          247|\n",
      "|  KPLUS|HNH960439|B84DEED34371|          683|\n",
      "|  KPLUS|HNJ035736|CCD4A1FA86A5|          246|\n",
      "|  KPLUS|NTFD93673|B84DEEEF4763|         2288|\n",
      "|  KPLUS|HNJ063267|10394E172CA7|         2282|\n",
      "|  KPLUS|HNH790383|4CEBBD53378B|          906|\n",
      "|  KPLUS|THFD12466|5CEA1D893E1C|          242|\n",
      "|  KPLUS|HNH566080|802BF9E0DDC0|          242|\n",
      "+-------+---------+------------+-------------+\n",
      "only showing top 20 rows\n",
      "\n"
     ]
    }
   ],
   "source": [
    "df.show()"
   ]
  },
  {
   "cell_type": "code",
   "execution_count": 11,
   "metadata": {},
   "outputs": [],
   "source": [
    "from pyspark.sql.functions import *"
   ]
  },
  {
   "cell_type": "code",
   "execution_count": 12,
   "metadata": {},
   "outputs": [],
   "source": [
    "df = df.withColumn(\"Type\",\n",
    "       when((col(\"AppName\") == 'CHANNEL') | (col(\"AppName\") =='DSHD')| (col(\"AppName\") =='KPLUS')| (col(\"AppName\") =='KPlus'), \"Truyền Hình\")\n",
    "      .when((col(\"AppName\") == 'VOD') | (col(\"AppName\") =='FIMS_RES')| (col(\"AppName\") =='BHD_RES')| \n",
    "             (col(\"AppName\") =='VOD_RES')| (col(\"AppName\") =='FIMS')| (col(\"AppName\") =='BHD')| (col(\"AppName\") =='DANET'), \"Phim Truyện\")\n",
    "      .when((col(\"AppName\") == 'RELAX'), \"Giải Trí\")\n",
    "      .when((col(\"AppName\") == 'CHILD'), \"Thiếu Nhi\")\n",
    "      .when((col(\"AppName\") == 'SPORT'), \"Thể Thao\")\n",
    "      .otherwise(\"Error\"))"
   ]
  },
  {
   "cell_type": "code",
   "execution_count": 13,
   "metadata": {},
   "outputs": [
    {
     "name": "stdout",
     "output_type": "stream",
     "text": [
      "+-------+---------+------------+-------------+-----------+\n",
      "|AppName| Contract|         Mac|TotalDuration|       Type|\n",
      "+-------+---------+------------+-------------+-----------+\n",
      "|  KPLUS|HNH579912|0C96E62FC55C|          254|Truyền Hình|\n",
      "|  KPLUS|HUFD40665|CCEDDC333614|         1457|Truyền Hình|\n",
      "|  KPLUS|HNH572635|B068E6A1C5F6|         2318|Truyền Hình|\n",
      "|  KPLUS|HND141717|08674EE8D2C2|         1452|Truyền Hình|\n",
      "|  KPLUS|HNH743103|402343C25D7D|          251|Truyền Hình|\n",
      "|  KPLUS|HNH893773|B84DEE76D3B8|          924|Truyền Hình|\n",
      "|  KPLUS|HND083642|B84DEE849A0F|         1444|Truyền Hình|\n",
      "|  KPLUS|DNFD74404|90324BB44C39|          691|Truyền Hình|\n",
      "|  KPLUS|DTFD21200|B84DEED27709|         1436|Truyền Hình|\n",
      "|  KPLUS|LDFD05747|0C96E6C95E53|         1434|Truyền Hình|\n",
      "|  KPLUS|HNH063566|B84DEEDD1C85|          687|Truyền Hình|\n",
      "|  KPLUS|HNH866786|10394E2790A5|          248|Truyền Hình|\n",
      "|  KPLUS|NBAAA1128|10394E47C1AF|          247|Truyền Hình|\n",
      "|  KPLUS|HNH960439|B84DEED34371|          683|Truyền Hình|\n",
      "|  KPLUS|HNJ035736|CCD4A1FA86A5|          246|Truyền Hình|\n",
      "|  KPLUS|NTFD93673|B84DEEEF4763|         2288|Truyền Hình|\n",
      "|  KPLUS|HNJ063267|10394E172CA7|         2282|Truyền Hình|\n",
      "|  KPLUS|HNH790383|4CEBBD53378B|          906|Truyền Hình|\n",
      "|  KPLUS|THFD12466|5CEA1D893E1C|          242|Truyền Hình|\n",
      "|  KPLUS|HNH566080|802BF9E0DDC0|          242|Truyền Hình|\n",
      "+-------+---------+------------+-------------+-----------+\n",
      "only showing top 20 rows\n",
      "\n"
     ]
    }
   ],
   "source": [
    "df.show()"
   ]
  },
  {
   "cell_type": "markdown",
   "metadata": {},
   "source": [
    "<h2>3. Summarize data mới ( Group by contract & category & Sum ) </h2>"
   ]
  },
  {
   "cell_type": "code",
   "execution_count": 14,
   "metadata": {},
   "outputs": [
    {
     "name": "stderr",
     "output_type": "stream",
     "text": [
      "[Stage 4:>                                                          (0 + 8) / 8]\r"
     ]
    },
    {
     "name": "stdout",
     "output_type": "stream",
     "text": [
      "+-------+-----------+\n",
      "|AppName|       Type|\n",
      "+-------+-----------+\n",
      "|CHANNEL|Truyền Hình|\n",
      "|  KPLUS|Truyền Hình|\n",
      "|    VOD|Phim Truyện|\n",
      "|  CHILD|  Thiếu Nhi|\n",
      "|  RELAX|   Giải Trí|\n",
      "|  SPORT|   Thể Thao|\n",
      "|   FIMS|Phim Truyện|\n",
      "+-------+-----------+\n",
      "\n"
     ]
    },
    {
     "name": "stderr",
     "output_type": "stream",
     "text": [
      "                                                                                \r"
     ]
    }
   ],
   "source": [
    "df.select('AppName','Type').distinct().show()"
   ]
  },
  {
   "cell_type": "code",
   "execution_count": 15,
   "metadata": {},
   "outputs": [
    {
     "name": "stdout",
     "output_type": "stream",
     "text": [
      "+---------+-----------+-------------+\n",
      "| Contract|       Type|TotalDuration|\n",
      "+---------+-----------+-------------+\n",
      "|HNH579912|Truyền Hình|          254|\n",
      "|HUFD40665|Truyền Hình|         1457|\n",
      "|HNH572635|Truyền Hình|         2318|\n",
      "|HND141717|Truyền Hình|         1452|\n",
      "|HNH743103|Truyền Hình|          251|\n",
      "|HNH893773|Truyền Hình|          924|\n",
      "|HND083642|Truyền Hình|         1444|\n",
      "|DNFD74404|Truyền Hình|          691|\n",
      "|DTFD21200|Truyền Hình|         1436|\n",
      "|LDFD05747|Truyền Hình|         1434|\n",
      "|HNH063566|Truyền Hình|          687|\n",
      "|HNH866786|Truyền Hình|          248|\n",
      "|NBAAA1128|Truyền Hình|          247|\n",
      "|HNH960439|Truyền Hình|          683|\n",
      "|HNJ035736|Truyền Hình|          246|\n",
      "|NTFD93673|Truyền Hình|         2288|\n",
      "|HNJ063267|Truyền Hình|         2282|\n",
      "|HNH790383|Truyền Hình|          906|\n",
      "|THFD12466|Truyền Hình|          242|\n",
      "|HNH566080|Truyền Hình|          242|\n",
      "+---------+-----------+-------------+\n",
      "only showing top 20 rows\n",
      "\n"
     ]
    }
   ],
   "source": [
    "df.select('Contract', 'Type', 'TotalDuration').show()"
   ]
  },
  {
   "cell_type": "code",
   "execution_count": 16,
   "metadata": {},
   "outputs": [
    {
     "name": "stdout",
     "output_type": "stream",
     "text": [
      "+-------+--------+------------+-------------+-----------+\n",
      "|AppName|Contract|         Mac|TotalDuration|       Type|\n",
      "+-------+--------+------------+-------------+-----------+\n",
      "|CHANNEL|       0|B84DEED2C55B|        16371|Truyền Hình|\n",
      "|CHANNEL|       0|5CBAEF93B700|           20|Truyền Hình|\n",
      "|CHANNEL|       0|F8DA0C2A377F|           67|Truyền Hình|\n",
      "|CHANNEL|       0|10394E17AE5F|           18|Truyền Hình|\n",
      "|CHANNEL|       0|08674EF3E1B2|        85903|Truyền Hình|\n",
      "|CHANNEL|       0|10394E17BB8F|           19|Truyền Hình|\n",
      "|CHANNEL|       0|10394E41DFDC|           63|Truyền Hình|\n",
      "|CHANNEL|       0|E4AB89210CC9|           20|Truyền Hình|\n",
      "|CHANNEL|       0|B84DEE78280B|         5806|Truyền Hình|\n",
      "|CHANNEL|       0|5CEA1D895614|           19|Truyền Hình|\n",
      "|CHANNEL|       0|D89C67A90C54|           67|Truyền Hình|\n",
      "|CHANNEL|       0|802BF9C011FE|          437|Truyền Hình|\n",
      "|CHANNEL|       0|08674EF77C25|        85942|Truyền Hình|\n",
      "|CHANNEL|       0|B84DEED40692|           19|Truyền Hình|\n",
      "|CHANNEL|       0|10394E400100|           67|Truyền Hình|\n",
      "|CHANNEL|       0|84AA9C355B51|          437|Truyền Hình|\n",
      "|CHANNEL|       0|84AA9C3E40A4|         7811|Truyền Hình|\n",
      "|CHANNEL|       0|B84DEEF5D89F|           19|Truyền Hình|\n",
      "|CHANNEL|       0|B84DEEEF16B3|           74|Truyền Hình|\n",
      "|CHANNEL|       0|B84DEEDCA692|        16272|Truyền Hình|\n",
      "+-------+--------+------------+-------------+-----------+\n",
      "only showing top 20 rows\n",
      "\n"
     ]
    },
    {
     "name": "stderr",
     "output_type": "stream",
     "text": [
      "                                                                                \r"
     ]
    }
   ],
   "source": [
    "df.orderBy('Contract').show()"
   ]
  },
  {
   "cell_type": "code",
   "execution_count": 17,
   "metadata": {},
   "outputs": [],
   "source": [
    "df = df.filter(df.Contract != '0')"
   ]
  },
  {
   "cell_type": "code",
   "execution_count": 18,
   "metadata": {},
   "outputs": [
    {
     "name": "stderr",
     "output_type": "stream",
     "text": [
      "[Stage 9:==============>                                            (2 + 6) / 8]\r"
     ]
    },
    {
     "name": "stdout",
     "output_type": "stream",
     "text": [
      "+-------+--------------+------------+-------------+-----------+\n",
      "|AppName|      Contract|         Mac|TotalDuration|       Type|\n",
      "+-------+--------------+------------+-------------+-----------+\n",
      "|  RELAX|113.182.209.48|B046FCA97B6A|           89|   Giải Trí|\n",
      "|CHANNEL|113.182.209.48|B046FCA97B6A|           20|Truyền Hình|\n",
      "|CHANNEL|113.182.209.48|B046FCA97B6A|           43|Truyền Hình|\n",
      "|CHANNEL|     AGAAA0335|10394E3D6D89|        11440|Truyền Hình|\n",
      "|CHANNEL|     AGAAA0338|10394E3D6E3C|         8895|Truyền Hình|\n",
      "|CHANNEL|     AGAAA0342|10394E3D7A67|           44|Truyền Hình|\n",
      "|CHANNEL|     AGAAA0345|10394E3D6E29|        13846|Truyền Hình|\n",
      "|CHANNEL|     AGAAA0346|10394E3D80EA|        47203|Truyền Hình|\n",
      "|CHANNEL|     AGAAA0350|10394E3D6EEF|        11090|Truyền Hình|\n",
      "|CHANNEL|     AGAAA0352|10394E3D857D|        10094|Truyền Hình|\n",
      "|CHANNEL|     AGAAA0353|10394E3D6EED|           16|Truyền Hình|\n",
      "|CHANNEL|     AGAAA0356|10394E3D6EEA|        39995|Truyền Hình|\n",
      "|CHANNEL|     AGAAA0357|10394E3D6D85|           61|Truyền Hình|\n",
      "|CHANNEL|     AGAAA0359|B84DEED44DB8|        86400|Truyền Hình|\n",
      "|CHANNEL|     AGAAA0360|10394E3D857E|         6188|Truyền Hình|\n",
      "|CHANNEL|     AGAAA0366|10394E3D80CE|        51934|Truyền Hình|\n",
      "|CHANNEL|     AGAAA0370|10394E3D8589|        85932|Truyền Hình|\n",
      "|CHANNEL|     AGAAA0372|10394E3D8BF3|           19|Truyền Hình|\n",
      "|    VOD|     AGAAA0375|10394E3D8136|          114|Phim Truyện|\n",
      "|CHANNEL|     AGAAA0375|10394E3D8136|        13545|Truyền Hình|\n",
      "+-------+--------------+------------+-------------+-----------+\n",
      "only showing top 20 rows\n",
      "\n"
     ]
    },
    {
     "name": "stderr",
     "output_type": "stream",
     "text": [
      "                                                                                \r"
     ]
    }
   ],
   "source": [
    "df.orderBy('Contract', ascending=True).show()"
   ]
  },
  {
   "cell_type": "code",
   "execution_count": 19,
   "metadata": {},
   "outputs": [
    {
     "name": "stdout",
     "output_type": "stream",
     "text": [
      "root\n",
      " |-- AppName: string (nullable = true)\n",
      " |-- Contract: string (nullable = true)\n",
      " |-- Mac: string (nullable = true)\n",
      " |-- TotalDuration: long (nullable = true)\n",
      " |-- Type: string (nullable = false)\n",
      "\n"
     ]
    }
   ],
   "source": [
    "df.printSchema()"
   ]
  },
  {
   "cell_type": "markdown",
   "metadata": {},
   "source": [
    "<p> Group by contract & category & Sum </p>"
   ]
  },
  {
   "cell_type": "code",
   "execution_count": 20,
   "metadata": {},
   "outputs": [
    {
     "name": "stderr",
     "output_type": "stream",
     "text": [
      "[Stage 10:>                                                         (0 + 8) / 8]\r"
     ]
    },
    {
     "name": "stdout",
     "output_type": "stream",
     "text": [
      "+---------+-----------+----------------+\n",
      "| Contract|       Type|TotalDurationSum|\n",
      "+---------+-----------+----------------+\n",
      "|DNH014998|Phim Truyện|            3365|\n",
      "|HND486882|Phim Truyện|            5545|\n",
      "|HUFD07189|Truyền Hình|            2264|\n",
      "|HDFD36288|Truyền Hình|           11904|\n",
      "|CTFD04401|Truyền Hình|           55881|\n",
      "|HNH954607|Phim Truyện|           13115|\n",
      "|HNH855959|Truyền Hình|             327|\n",
      "|SGH034683|Truyền Hình|           82195|\n",
      "|NTFD35330|Truyền Hình|           19139|\n",
      "|NTFD48198|Phim Truyện|           55202|\n",
      "|HNH443856|Truyền Hình|            7687|\n",
      "|NAFD05338|Truyền Hình|           81934|\n",
      "|LCFD20510|Phim Truyện|           10852|\n",
      "|QNFD29007|Truyền Hình|           82705|\n",
      "|SGH569599|Truyền Hình|           18769|\n",
      "|SGH701752|Truyền Hình|           31028|\n",
      "|HNH712164|Phim Truyện|            6106|\n",
      "|PYFD01920|Truyền Hình|           82664|\n",
      "|HTFD13716|Truyền Hình|           18759|\n",
      "|SGJ039473|Truyền Hình|           18695|\n",
      "+---------+-----------+----------------+\n",
      "only showing top 20 rows\n",
      "\n"
     ]
    },
    {
     "name": "stderr",
     "output_type": "stream",
     "text": [
      "                                                                                \r"
     ]
    }
   ],
   "source": [
    "df.groupBy(\"Contract\", \"Type\").agg(sum(\"TotalDuration\").alias(\"TotalDurationSum\")).show()"
   ]
  },
  {
   "cell_type": "markdown",
   "metadata": {},
   "source": [
    "<p>Number of contracts of each category and their total duration</p>"
   ]
  },
  {
   "cell_type": "code",
   "execution_count": 21,
   "metadata": {},
   "outputs": [
    {
     "name": "stderr",
     "output_type": "stream",
     "text": [
      "[Stage 13:=======>                                                  (1 + 7) / 8]\r"
     ]
    },
    {
     "name": "stdout",
     "output_type": "stream",
     "text": [
      "+-----------+--------------+----------------+\n",
      "|       Type|ContractsCount|TotalDurationSum|\n",
      "+-----------+--------------+----------------+\n",
      "|   Thể Thao|          2292|         1166238|\n",
      "|Truyền Hình|       1355366|     24690792816|\n",
      "|  Thiếu Nhi|         33056|       178570178|\n",
      "|   Giải Trí|          6394|        20907906|\n",
      "|Phim Truyện|         86312|       627150472|\n",
      "+-----------+--------------+----------------+\n",
      "\n"
     ]
    },
    {
     "name": "stderr",
     "output_type": "stream",
     "text": [
      "                                                                                \r"
     ]
    }
   ],
   "source": [
    "df.groupBy(\"Type\").agg(countDistinct(\"Contract\").alias(\"ContractsCount\"),\n",
    "                       sum(\"TotalDuration\").alias(\"TotalDurationSum\")).show()"
   ]
  },
  {
   "cell_type": "markdown",
   "metadata": {},
   "source": [
    "<h2>4. Pivot data </h2>"
   ]
  },
  {
   "cell_type": "markdown",
   "metadata": {},
   "source": [
    "<h3>Pivot truyen thong</h3>"
   ]
  },
  {
   "cell_type": "code",
   "execution_count": 22,
   "metadata": {},
   "outputs": [],
   "source": [
    "TV = df.select('Contract', 'Type', 'TotalDuration').filter(df.Type == 'Truyền Hình')\n",
    "Movie = df.select('Contract', 'Type', 'TotalDuration').filter(df.Type == 'Phim Truyện')\n",
    "Relax = df.select('Contract', 'Type', 'TotalDuration').filter(df.Type == 'Giải Trí')\n",
    "Child = df.select('Contract', 'Type', 'TotalDuration').filter(df.Type == 'Thiếu Nhi')\n",
    "Sport = df.select('Contract', 'Type', 'TotalDuration').filter(df.Type == 'Thể Thao')"
   ]
  },
  {
   "cell_type": "code",
   "execution_count": 23,
   "metadata": {},
   "outputs": [],
   "source": [
    "TV = TV.withColumnRenamed('TotalDuration', 'TVDuration').drop('Type')\n",
    "Movie = Movie.withColumnRenamed('TotalDuration', 'MovieDuration').drop('Type')\n",
    "Relax = Relax.withColumnRenamed('TotalDuration', 'RelaxDuration').drop('Type')\n",
    "Child = Child.withColumnRenamed('TotalDuration', 'ChildDuration').drop('Type')\n",
    "Sport = Sport.withColumnRenamed('TotalDuration', 'SportDuration').drop('Type')"
   ]
  },
  {
   "cell_type": "code",
   "execution_count": 24,
   "metadata": {},
   "outputs": [],
   "source": [
    "output_manual = TV.join(Movie, on='Contract', how='outer')\\\n",
    "                .join(Relax, on='Contract', how='outer')\\\n",
    "                .join(Child, on='Contract', how='outer')\\\n",
    "                .join(Sport, on='Contract', how='outer')"
   ]
  },
  {
   "cell_type": "code",
   "execution_count": 25,
   "metadata": {},
   "outputs": [
    {
     "name": "stderr",
     "output_type": "stream",
     "text": [
      "[Stage 26:>                                                         (0 + 8) / 8]\r"
     ]
    },
    {
     "name": "stdout",
     "output_type": "stream",
     "text": [
      "+--------------+----------+-------------+-------------+-------------+-------------+\n",
      "|      Contract|TVDuration|MovieDuration|RelaxDuration|ChildDuration|SportDuration|\n",
      "+--------------+----------+-------------+-------------+-------------+-------------+\n",
      "|113.182.209.48|        20|         null|           89|         null|         null|\n",
      "|113.182.209.48|        43|         null|           89|         null|         null|\n",
      "|     AGAAA0338|      8895|         null|         null|         null|         null|\n",
      "|     AGAAA0342|        44|         null|         null|         null|         null|\n",
      "|     AGAAA0346|     47203|         null|         null|         null|         null|\n",
      "|     AGAAA0353|        16|         null|         null|         null|         null|\n",
      "|     AGAAA0372|        19|         null|         null|         null|         null|\n",
      "|     AGAAA0504|        11|         null|         null|         null|         null|\n",
      "|     AGAAA0544|        47|         null|         null|         null|         null|\n",
      "|     AGAAA0555|      5669|         null|         null|         null|         null|\n",
      "|     AGAAA0576|     21598|          677|         null|         null|         null|\n",
      "|     AGAAA0613|        83|         null|         null|         null|         null|\n",
      "|     AGAAA0638|       382|         null|         null|         null|         null|\n",
      "|     AGAAA0663|       344|         null|         null|         null|         null|\n",
      "|     AGAAA0693|      9370|         null|         null|         null|         null|\n",
      "|     AGAAA0718|     29103|         null|         null|         null|         null|\n",
      "|     AGAAA0723|        27|         null|         null|         null|         null|\n",
      "|     AGAAA0732|        13|         null|         null|         null|         null|\n",
      "|     AGAAA0750|        77|         null|         null|         null|         null|\n",
      "|     AGAAA0776|     26098|         null|         null|         null|         null|\n",
      "+--------------+----------+-------------+-------------+-------------+-------------+\n",
      "only showing top 20 rows\n",
      "\n"
     ]
    },
    {
     "name": "stderr",
     "output_type": "stream",
     "text": [
      "                                                                                \r"
     ]
    }
   ],
   "source": [
    "output_manual.show()"
   ]
  },
  {
   "cell_type": "code",
   "execution_count": 26,
   "metadata": {},
   "outputs": [
    {
     "name": "stdout",
     "output_type": "stream",
     "text": [
      "root\n",
      " |-- Contract: string (nullable = true)\n",
      " |-- TVDuration: long (nullable = true)\n",
      " |-- MovieDuration: long (nullable = true)\n",
      " |-- RelaxDuration: long (nullable = true)\n",
      " |-- ChildDuration: long (nullable = true)\n",
      " |-- SportDuration: long (nullable = true)\n",
      "\n"
     ]
    }
   ],
   "source": [
    "output_manual.printSchema()"
   ]
  },
  {
   "cell_type": "code",
   "execution_count": 27,
   "metadata": {},
   "outputs": [],
   "source": [
    "output_manual = output_manual.groupBy('Contract').sum()\\\n",
    "                                        .select(col('Contract') \\\n",
    "                                                ,col('sum(TVDuration)').alias('TVDuration')\\\n",
    "                                                ,col('sum(MovieDuration)').alias('MovieDuration') \n",
    "                                                ,col('sum(RelaxDuration)').alias('RelaxDuration')\n",
    "                                                ,col('sum(ChildDuration)').alias('ChildDuration')\n",
    "                                                ,col('sum(SportDuration)').alias('SportDuration'))"
   ]
  },
  {
   "cell_type": "code",
   "execution_count": 28,
   "metadata": {},
   "outputs": [
    {
     "name": "stderr",
     "output_type": "stream",
     "text": [
      "[Stage 55:>                                                         (0 + 8) / 8]\r"
     ]
    },
    {
     "name": "stdout",
     "output_type": "stream",
     "text": [
      "+--------------+----------+-------------+-------------+-------------+-------------+\n",
      "|      Contract|TVDuration|MovieDuration|RelaxDuration|ChildDuration|SportDuration|\n",
      "+--------------+----------+-------------+-------------+-------------+-------------+\n",
      "|113.182.209.48|        63|         null|          178|         null|         null|\n",
      "+--------------+----------+-------------+-------------+-------------+-------------+\n",
      "\n"
     ]
    },
    {
     "name": "stderr",
     "output_type": "stream",
     "text": [
      "                                                                                \r"
     ]
    }
   ],
   "source": [
    "output_manual.filter(output_manual.Contract == '113.182.209.48').show()"
   ]
  },
  {
   "cell_type": "code",
   "execution_count": 29,
   "metadata": {},
   "outputs": [
    {
     "name": "stderr",
     "output_type": "stream",
     "text": [
      "[Stage 91:===============>  (7 + 1) / 8][Stage 94:====>             (2 + 6) / 8]\r"
     ]
    },
    {
     "name": "stdout",
     "output_type": "stream",
     "text": [
      "+---------+----------+-------------+-------------+-------------+-------------+\n",
      "| Contract|TVDuration|MovieDuration|RelaxDuration|ChildDuration|SportDuration|\n",
      "+---------+----------+-------------+-------------+-------------+-------------+\n",
      "|AGAAA0848|        41|         null|         null|         null|         null|\n",
      "|AGAAA2588|     39375|         null|         null|         null|         null|\n",
      "|AGD003807|       275|         7074|         null|         null|         null|\n",
      "|AGD004253|     86400|         null|         null|         null|         null|\n",
      "|AGD008179|       667|        34907|         null|         null|         null|\n",
      "|AGD011212|      6087|         null|         null|         null|         null|\n",
      "|AGD022636|        53|         null|         null|         null|         null|\n",
      "|AGD026510|     21909|         null|         null|         null|         null|\n",
      "|AGD029035|     22810|         null|         null|         null|         null|\n",
      "|AGFD02813|      2854|         7462|         null|         null|         null|\n",
      "|AGFD03462|      9370|         null|         null|         null|         null|\n",
      "|AGFD04563|        74|         null|         null|         null|         null|\n",
      "|AGFD05635|      6868|         null|         null|         null|         null|\n",
      "|AGFD08311|     86326|         null|         null|         null|         null|\n",
      "|AGFD08541|      1655|         null|         null|         null|         null|\n",
      "|AGFD08980|     83330|         null|         null|         null|         null|\n",
      "|AGFD09914|     50183|         null|         null|         null|         null|\n",
      "|AGFD11441|      1094|         null|         null|         null|         null|\n",
      "|AGFD12008|      8784|         null|         null|         null|         null|\n",
      "|AGFD13066|      7590|         null|         null|         null|         null|\n",
      "+---------+----------+-------------+-------------+-------------+-------------+\n",
      "only showing top 20 rows\n",
      "\n"
     ]
    },
    {
     "name": "stderr",
     "output_type": "stream",
     "text": [
      "                                                                                \r"
     ]
    }
   ],
   "source": [
    "output_manual.show()"
   ]
  },
  {
   "cell_type": "markdown",
   "metadata": {},
   "source": [
    "<h3>Quick pivot</h3>"
   ]
  },
  {
   "cell_type": "code",
   "execution_count": 30,
   "metadata": {},
   "outputs": [],
   "source": [
    "output =  df.groupBy('Contract').pivot('Type').sum('TotalDuration')"
   ]
  },
  {
   "cell_type": "code",
   "execution_count": 31,
   "metadata": {},
   "outputs": [
    {
     "name": "stderr",
     "output_type": "stream",
     "text": [
      "[Stage 136:==============>                                          (2 + 6) / 8]\r"
     ]
    },
    {
     "name": "stdout",
     "output_type": "stream",
     "text": [
      "+---------+--------+-----------+---------+--------+-----------+\n",
      "| Contract|Giải Trí|Phim Truyện|Thiếu Nhi|Thể Thao|Truyền Hình|\n",
      "+---------+--------+-----------+---------+--------+-----------+\n",
      "|HTFD11598|    null|       2884|     null|    null|        707|\n",
      "|HPFD48556|      69|       null|     null|    null|      92976|\n",
      "|NBFD10014|    null|       null|     null|    null|      84628|\n",
      "|HNH619088|    null|       8456|      234|    null|      65210|\n",
      "|HNH036174|    null|       null|     null|    null|       6049|\n",
      "|DNH067877|    null|       null|     null|    null|       5760|\n",
      "|SGH806190|    null|       null|     null|    null|       1131|\n",
      "|HNH582022|    null|       null|     null|    null|      86400|\n",
      "|HNH795510|    null|       5840|     null|    null|      68589|\n",
      "|DNFD91557|    null|       null|     null|    null|       1640|\n",
      "|SGH266908|    null|       null|     null|    null|        731|\n",
      "|HNJ102653|    null|       null|     null|    null|       4586|\n",
      "|HDFD42710|    null|       null|     null|    null|      12096|\n",
      "|SGH674576|    null|       1535|     null|    null|       9910|\n",
      "|DNH034235|    null|       null|     null|    null|        318|\n",
      "|NDFD32943|    null|       null|     null|    null|       6269|\n",
      "|TNFD30439|    null|       null|     null|    null|       5238|\n",
      "|DNH083321|    null|       null|     null|    null|       1020|\n",
      "|SGH446342|    null|       null|     null|    null|      11428|\n",
      "|DLFD14250|    null|       4436|     null|    null|      12374|\n",
      "+---------+--------+-----------+---------+--------+-----------+\n",
      "only showing top 20 rows\n",
      "\n"
     ]
    },
    {
     "name": "stderr",
     "output_type": "stream",
     "text": [
      "                                                                                \r"
     ]
    }
   ],
   "source": [
    "output.show()"
   ]
  },
  {
   "cell_type": "code",
   "execution_count": 32,
   "metadata": {},
   "outputs": [
    {
     "name": "stderr",
     "output_type": "stream",
     "text": [
      "                                                                                \r"
     ]
    },
    {
     "name": "stdout",
     "output_type": "stream",
     "text": [
      "+--------+-----+\n",
      "|Contract|count|\n",
      "+--------+-----+\n",
      "+--------+-----+\n",
      "\n"
     ]
    }
   ],
   "source": [
    "output.groupBy(\"Contract\").count().where(col(\"count\")>1).show()"
   ]
  },
  {
   "cell_type": "code",
   "execution_count": 33,
   "metadata": {},
   "outputs": [
    {
     "name": "stdout",
     "output_type": "stream",
     "text": [
      "+---------+--------+-----------+---------+--------+-----------+\n",
      "| Contract|Giải Trí|Phim Truyện|Thiếu Nhi|Thể Thao|Truyền Hình|\n",
      "+---------+--------+-----------+---------+--------+-----------+\n",
      "|HUD019330|    null|      10409|     6412|      11|        637|\n",
      "+---------+--------+-----------+---------+--------+-----------+\n",
      "\n"
     ]
    }
   ],
   "source": [
    "output.filter(output.Contract == 'HUD019330').show()"
   ]
  },
  {
   "cell_type": "code",
   "execution_count": 34,
   "metadata": {},
   "outputs": [
    {
     "name": "stderr",
     "output_type": "stream",
     "text": [
      "[Stage 153:=======>                                                 (1 + 7) / 8]\r"
     ]
    },
    {
     "name": "stdout",
     "output_type": "stream",
     "text": [
      "+---------+--------+-----------+---------+--------+-----------+----------+\n",
      "| Contract|Giải Trí|Phim Truyện|Thiếu Nhi|Thể Thao|Truyền Hình|      Date|\n",
      "+---------+--------+-----------+---------+--------+-----------+----------+\n",
      "|HTFD11598|    null|       2884|     null|    null|        707|2022-04-01|\n",
      "|HPFD48556|      69|       null|     null|    null|      92976|2022-04-01|\n",
      "|NBFD10014|    null|       null|     null|    null|      84628|2022-04-01|\n",
      "|HNH619088|    null|       8456|      234|    null|      65210|2022-04-01|\n",
      "|HNH036174|    null|       null|     null|    null|       6049|2022-04-01|\n",
      "|DNH067877|    null|       null|     null|    null|       5760|2022-04-01|\n",
      "|SGH806190|    null|       null|     null|    null|       1131|2022-04-01|\n",
      "|HNH582022|    null|       null|     null|    null|      86400|2022-04-01|\n",
      "|HNH795510|    null|       5840|     null|    null|      68589|2022-04-01|\n",
      "|DNFD91557|    null|       null|     null|    null|       1640|2022-04-01|\n",
      "|SGH266908|    null|       null|     null|    null|        731|2022-04-01|\n",
      "|HNJ102653|    null|       null|     null|    null|       4586|2022-04-01|\n",
      "|HDFD42710|    null|       null|     null|    null|      12096|2022-04-01|\n",
      "|SGH674576|    null|       1535|     null|    null|       9910|2022-04-01|\n",
      "|DNH034235|    null|       null|     null|    null|        318|2022-04-01|\n",
      "|NDFD32943|    null|       null|     null|    null|       6269|2022-04-01|\n",
      "|TNFD30439|    null|       null|     null|    null|       5238|2022-04-01|\n",
      "|DNH083321|    null|       null|     null|    null|       1020|2022-04-01|\n",
      "|SGH446342|    null|       null|     null|    null|      11428|2022-04-01|\n",
      "|DLFD14250|    null|       4436|     null|    null|      12374|2022-04-01|\n",
      "+---------+--------+-----------+---------+--------+-----------+----------+\n",
      "only showing top 20 rows\n",
      "\n"
     ]
    },
    {
     "name": "stderr",
     "output_type": "stream",
     "text": [
      "                                                                                \r"
     ]
    }
   ],
   "source": [
    "output.withColumn('Date', lit('2022-04-01')).show()"
   ]
  },
  {
   "cell_type": "code",
   "execution_count": null,
   "metadata": {},
   "outputs": [],
   "source": []
  }
 ],
 "metadata": {
  "kernelspec": {
   "display_name": "Python 3",
   "language": "python",
   "name": "python3"
  },
  "language_info": {
   "codemirror_mode": {
    "name": "ipython",
    "version": 3
   },
   "file_extension": ".py",
   "mimetype": "text/x-python",
   "name": "python",
   "nbconvert_exporter": "python",
   "pygments_lexer": "ipython3",
   "version": "3.10.7"
  }
 },
 "nbformat": 4,
 "nbformat_minor": 2
}
